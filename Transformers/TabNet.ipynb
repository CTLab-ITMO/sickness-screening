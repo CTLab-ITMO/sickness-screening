{
  "nbformat": 4,
  "nbformat_minor": 0,
  "metadata": {
    "colab": {
      "provenance": []
    },
    "kernelspec": {
      "name": "python3",
      "display_name": "Python 3"
    },
    "language_info": {
      "name": "python"
    }
  },
  "cells": [
    {
      "cell_type": "code",
      "source": [
        "import pandas as pd\n",
        "from pytorch_tabnet.pretraining import TabNetPretrainer\n",
        "from pytorch_tabnet.tab_model import TabNetClassifier\n",
        "import torch\n",
        "from sklearn.metrics import precision_score, recall_score, f1_score"
      ],
      "metadata": {
        "id": "PYw5OYXwOmMK"
      },
      "execution_count": null,
      "outputs": []
    },
    {
      "cell_type": "code",
      "source": [
        "train_data = pd.read_csv('train_data_MEWS.csv')\n",
        "val_data = pd.read_csv('val_resampled_data_MEWS.csv')"
      ],
      "metadata": {
        "id": "0W7M_EZBOoCY"
      },
      "execution_count": null,
      "outputs": []
    },
    {
      "cell_type": "code",
      "source": [
        "X_train = train_data.drop(['diagnosis'], axis = 1)\n",
        "y_train = train_data['diagnosis']\n",
        "\n",
        "X_val = val_data.drop(['diagnosis'], axis = 1)\n",
        "y_val = val_data['diagnosis']"
      ],
      "metadata": {
        "id": "3BLBoL-LOrxz"
      },
      "execution_count": null,
      "outputs": []
    },
    {
      "cell_type": "code",
      "source": [
        "unsupervised_model = TabNetPretrainer(\n",
        "    optimizer_fn=torch.optim.Adam,\n",
        "    optimizer_params=dict(lr=0.05),\n",
        "    mask_type='sparsemax'\n",
        ")\n",
        "\n",
        "unsupervised_model.fit(\n",
        "    X_train=X_train.values,\n",
        "    eval_set=[X_val.values],\n",
        "    pretraining_ratio=1.0,\n",
        ")"
      ],
      "metadata": {
        "id": "TD0ZkCyjOub4"
      },
      "execution_count": null,
      "outputs": []
    },
    {
      "cell_type": "code",
      "source": [
        "clf = TabNetClassifier(\n",
        "    optimizer_fn=torch.optim.AdamW,\n",
        "    optimizer_params=dict(lr=0.05),\n",
        "    scheduler_params={\n",
        "\t\t      #\"step_size\": 10,\n",
        "                      \"gamma\": 1.0,\n",
        "\t\t      \"milestones\": [50, 60, 70]\n",
        "},\n",
        "#    scheduler_fn=torch.optim.lr_scheduler.StepLR,\n",
        "   scheduler_fn=torch.optim.lr_scheduler.MultiStepLR,\n",
        "   mask_type='sparsemax'\n",
        ")\n",
        "\n",
        "clf.fit(\n",
        "    X_train=X_train.values, y_train=y_train.values,\n",
        "    eval_set=[(X_val.values, y_val.values)],\n",
        "    eval_metric=['auc'],\n",
        "    max_epochs=200,\n",
        "    patience=50,\n",
        "    from_unsupervised=unsupervised_model\n",
        ")"
      ],
      "metadata": {
        "id": "RKwfg24DOwcJ"
      },
      "execution_count": null,
      "outputs": []
    },
    {
      "cell_type": "code",
      "source": [
        "with open('fimp.txt', 'w') as f:\n",
        "    f.write(f'{clf.feature_importances_}')\n",
        "\n",
        "saving_path_name = \"./tabnet_model_test_1\"\n",
        "saved_filepath = clf.save_model(saving_path_name)"
      ],
      "metadata": {
        "id": "RbHS_kkwOyfo"
      },
      "execution_count": null,
      "outputs": []
    },
    {
      "cell_type": "code",
      "source": [
        "saving_path_name = \"./tabnet_model_test_1.zip\"\n",
        "loaded_clf = TabNetClassifier()\n",
        "loaded_clf.load_model(saving_path_name)"
      ],
      "metadata": {
        "id": "k98E8DxnPjP9"
      },
      "execution_count": null,
      "outputs": []
    },
    {
      "cell_type": "code",
      "source": [
        "test_data = pd.read_csv('test_resampled_data_MEWS.csv')\n",
        "\n",
        "X_test = test_data.drop(['diagnosis'], axis = 1)\n",
        "y_test = test_data['diagnosis']"
      ],
      "metadata": {
        "id": "y1ZAlkwRPkuq"
      },
      "execution_count": null,
      "outputs": []
    },
    {
      "cell_type": "code",
      "source": [
        "result = loaded_clf.predict(X_test.values)\n",
        "accuracy = (result == y_test.values).mean()\n",
        "precision = precision_score(y_test.values, result)\n",
        "recall = recall_score(y_test.values, result)\n",
        "f1 = f1_score(y_test.values, result)\n",
        "\n",
        "print(f'Accuracy: {accuracy}\\n')\n",
        "print(f'Precision: {precision}\\n')\n",
        "print(f'Recall: {recall}\\n')\n",
        "print(f'F1-score: {f1}\\n')"
      ],
      "metadata": {
        "id": "lqTFNGV8O7aj"
      },
      "execution_count": null,
      "outputs": []
    }
  ]
}