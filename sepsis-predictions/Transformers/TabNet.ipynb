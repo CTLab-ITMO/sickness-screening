{
  "nbformat": 4,
  "nbformat_minor": 0,
  "metadata": {
    "colab": {
      "provenance": []
    },
    "kernelspec": {
      "name": "python3",
      "display_name": "Python 3"
    },
    "language_info": {
      "name": "python"
    }
  },
  "cells": [
    {
      "cell_type": "code",
      "source": [
        "from google.colab import drive\n",
        "drive.mount('/content/drive')"
      ],
      "metadata": {
        "colab": {
          "base_uri": "https://localhost:8080/"
        },
        "id": "Lwr04bxQcExd",
        "outputId": "707e4d7d-8f82-47c9-f59f-3b4d990edad8"
      },
      "execution_count": 1,
      "outputs": [
        {
          "output_type": "stream",
          "name": "stdout",
          "text": [
            "Mounted at /content/drive\n"
          ]
        }
      ]
    },
    {
      "cell_type": "code",
      "execution_count": 2,
      "metadata": {
        "colab": {
          "base_uri": "https://localhost:8080/"
        },
        "id": "dJHHI0XhcBGP",
        "outputId": "3056f1cd-6482-4c17-8290-63e0cd19f44a"
      },
      "outputs": [
        {
          "output_type": "stream",
          "name": "stdout",
          "text": [
            "Collecting nona\n",
            "  Downloading nona-0.0.2-py3-none-any.whl (8.2 kB)\n",
            "Requirement already satisfied: pandas>=1 in /usr/local/lib/python3.10/dist-packages (from nona) (2.0.3)\n",
            "Requirement already satisfied: numpy>=1 in /usr/local/lib/python3.10/dist-packages (from nona) (1.25.2)\n",
            "Requirement already satisfied: scikit-learn>=1 in /usr/local/lib/python3.10/dist-packages (from nona) (1.2.2)\n",
            "Requirement already satisfied: tqdm>=4 in /usr/local/lib/python3.10/dist-packages (from nona) (4.66.4)\n",
            "Requirement already satisfied: python-dateutil>=2.8.2 in /usr/local/lib/python3.10/dist-packages (from pandas>=1->nona) (2.8.2)\n",
            "Requirement already satisfied: pytz>=2020.1 in /usr/local/lib/python3.10/dist-packages (from pandas>=1->nona) (2023.4)\n",
            "Requirement already satisfied: tzdata>=2022.1 in /usr/local/lib/python3.10/dist-packages (from pandas>=1->nona) (2024.1)\n",
            "Requirement already satisfied: scipy>=1.3.2 in /usr/local/lib/python3.10/dist-packages (from scikit-learn>=1->nona) (1.11.4)\n",
            "Requirement already satisfied: joblib>=1.1.1 in /usr/local/lib/python3.10/dist-packages (from scikit-learn>=1->nona) (1.4.2)\n",
            "Requirement already satisfied: threadpoolctl>=2.0.0 in /usr/local/lib/python3.10/dist-packages (from scikit-learn>=1->nona) (3.5.0)\n",
            "Requirement already satisfied: six>=1.5 in /usr/local/lib/python3.10/dist-packages (from python-dateutil>=2.8.2->pandas>=1->nona) (1.16.0)\n",
            "Installing collected packages: nona\n",
            "Successfully installed nona-0.0.2\n",
            "Collecting pytorch-tabnet\n",
            "  Downloading pytorch_tabnet-4.1.0-py3-none-any.whl (44 kB)\n",
            "\u001b[2K     \u001b[90m━━━━━━━━━━━━━━━━━━━━━━━━━━━━━━━━━━━━━━━━\u001b[0m \u001b[32m44.5/44.5 kB\u001b[0m \u001b[31m1.7 MB/s\u001b[0m eta \u001b[36m0:00:00\u001b[0m\n",
            "\u001b[?25hRequirement already satisfied: numpy>=1.17 in /usr/local/lib/python3.10/dist-packages (from pytorch-tabnet) (1.25.2)\n",
            "Requirement already satisfied: scikit_learn>0.21 in /usr/local/lib/python3.10/dist-packages (from pytorch-tabnet) (1.2.2)\n",
            "Requirement already satisfied: scipy>1.4 in /usr/local/lib/python3.10/dist-packages (from pytorch-tabnet) (1.11.4)\n",
            "Requirement already satisfied: torch>=1.3 in /usr/local/lib/python3.10/dist-packages (from pytorch-tabnet) (2.3.0+cu121)\n",
            "Requirement already satisfied: tqdm>=4.36 in /usr/local/lib/python3.10/dist-packages (from pytorch-tabnet) (4.66.4)\n",
            "Requirement already satisfied: joblib>=1.1.1 in /usr/local/lib/python3.10/dist-packages (from scikit_learn>0.21->pytorch-tabnet) (1.4.2)\n",
            "Requirement already satisfied: threadpoolctl>=2.0.0 in /usr/local/lib/python3.10/dist-packages (from scikit_learn>0.21->pytorch-tabnet) (3.5.0)\n",
            "Requirement already satisfied: filelock in /usr/local/lib/python3.10/dist-packages (from torch>=1.3->pytorch-tabnet) (3.14.0)\n",
            "Requirement already satisfied: typing-extensions>=4.8.0 in /usr/local/lib/python3.10/dist-packages (from torch>=1.3->pytorch-tabnet) (4.11.0)\n",
            "Requirement already satisfied: sympy in /usr/local/lib/python3.10/dist-packages (from torch>=1.3->pytorch-tabnet) (1.12)\n",
            "Requirement already satisfied: networkx in /usr/local/lib/python3.10/dist-packages (from torch>=1.3->pytorch-tabnet) (3.3)\n",
            "Requirement already satisfied: jinja2 in /usr/local/lib/python3.10/dist-packages (from torch>=1.3->pytorch-tabnet) (3.1.4)\n",
            "Requirement already satisfied: fsspec in /usr/local/lib/python3.10/dist-packages (from torch>=1.3->pytorch-tabnet) (2023.6.0)\n",
            "Collecting nvidia-cuda-nvrtc-cu12==12.1.105 (from torch>=1.3->pytorch-tabnet)\n",
            "  Using cached nvidia_cuda_nvrtc_cu12-12.1.105-py3-none-manylinux1_x86_64.whl (23.7 MB)\n",
            "Collecting nvidia-cuda-runtime-cu12==12.1.105 (from torch>=1.3->pytorch-tabnet)\n",
            "  Using cached nvidia_cuda_runtime_cu12-12.1.105-py3-none-manylinux1_x86_64.whl (823 kB)\n",
            "Collecting nvidia-cuda-cupti-cu12==12.1.105 (from torch>=1.3->pytorch-tabnet)\n",
            "  Using cached nvidia_cuda_cupti_cu12-12.1.105-py3-none-manylinux1_x86_64.whl (14.1 MB)\n",
            "Collecting nvidia-cudnn-cu12==8.9.2.26 (from torch>=1.3->pytorch-tabnet)\n",
            "  Using cached nvidia_cudnn_cu12-8.9.2.26-py3-none-manylinux1_x86_64.whl (731.7 MB)\n",
            "Collecting nvidia-cublas-cu12==12.1.3.1 (from torch>=1.3->pytorch-tabnet)\n",
            "  Using cached nvidia_cublas_cu12-12.1.3.1-py3-none-manylinux1_x86_64.whl (410.6 MB)\n",
            "Collecting nvidia-cufft-cu12==11.0.2.54 (from torch>=1.3->pytorch-tabnet)\n",
            "  Using cached nvidia_cufft_cu12-11.0.2.54-py3-none-manylinux1_x86_64.whl (121.6 MB)\n",
            "Collecting nvidia-curand-cu12==10.3.2.106 (from torch>=1.3->pytorch-tabnet)\n",
            "  Using cached nvidia_curand_cu12-10.3.2.106-py3-none-manylinux1_x86_64.whl (56.5 MB)\n",
            "Collecting nvidia-cusolver-cu12==11.4.5.107 (from torch>=1.3->pytorch-tabnet)\n",
            "  Using cached nvidia_cusolver_cu12-11.4.5.107-py3-none-manylinux1_x86_64.whl (124.2 MB)\n",
            "Collecting nvidia-cusparse-cu12==12.1.0.106 (from torch>=1.3->pytorch-tabnet)\n",
            "  Using cached nvidia_cusparse_cu12-12.1.0.106-py3-none-manylinux1_x86_64.whl (196.0 MB)\n",
            "Collecting nvidia-nccl-cu12==2.20.5 (from torch>=1.3->pytorch-tabnet)\n",
            "  Using cached nvidia_nccl_cu12-2.20.5-py3-none-manylinux2014_x86_64.whl (176.2 MB)\n",
            "Collecting nvidia-nvtx-cu12==12.1.105 (from torch>=1.3->pytorch-tabnet)\n",
            "  Using cached nvidia_nvtx_cu12-12.1.105-py3-none-manylinux1_x86_64.whl (99 kB)\n",
            "Requirement already satisfied: triton==2.3.0 in /usr/local/lib/python3.10/dist-packages (from torch>=1.3->pytorch-tabnet) (2.3.0)\n",
            "Collecting nvidia-nvjitlink-cu12 (from nvidia-cusolver-cu12==11.4.5.107->torch>=1.3->pytorch-tabnet)\n",
            "  Downloading nvidia_nvjitlink_cu12-12.5.40-py3-none-manylinux2014_x86_64.whl (21.3 MB)\n",
            "\u001b[2K     \u001b[90m━━━━━━━━━━━━━━━━━━━━━━━━━━━━━━━━━━━━━━━━\u001b[0m \u001b[32m21.3/21.3 MB\u001b[0m \u001b[31m38.0 MB/s\u001b[0m eta \u001b[36m0:00:00\u001b[0m\n",
            "\u001b[?25hRequirement already satisfied: MarkupSafe>=2.0 in /usr/local/lib/python3.10/dist-packages (from jinja2->torch>=1.3->pytorch-tabnet) (2.1.5)\n",
            "Requirement already satisfied: mpmath>=0.19 in /usr/local/lib/python3.10/dist-packages (from sympy->torch>=1.3->pytorch-tabnet) (1.3.0)\n",
            "Installing collected packages: nvidia-nvtx-cu12, nvidia-nvjitlink-cu12, nvidia-nccl-cu12, nvidia-curand-cu12, nvidia-cufft-cu12, nvidia-cuda-runtime-cu12, nvidia-cuda-nvrtc-cu12, nvidia-cuda-cupti-cu12, nvidia-cublas-cu12, nvidia-cusparse-cu12, nvidia-cudnn-cu12, nvidia-cusolver-cu12, pytorch-tabnet\n",
            "Successfully installed nvidia-cublas-cu12-12.1.3.1 nvidia-cuda-cupti-cu12-12.1.105 nvidia-cuda-nvrtc-cu12-12.1.105 nvidia-cuda-runtime-cu12-12.1.105 nvidia-cudnn-cu12-8.9.2.26 nvidia-cufft-cu12-11.0.2.54 nvidia-curand-cu12-10.3.2.106 nvidia-cusolver-cu12-11.4.5.107 nvidia-cusparse-cu12-12.1.0.106 nvidia-nccl-cu12-2.20.5 nvidia-nvjitlink-cu12-12.5.40 nvidia-nvtx-cu12-12.1.105 pytorch-tabnet-4.1.0\n"
          ]
        }
      ],
      "source": [
        "!pip install nona\n",
        "!pip install pytorch-tabnet"
      ]
    },
    {
      "cell_type": "markdown",
      "source": [
        "### Add all required libraries"
      ],
      "metadata": {
        "id": "MDnLVgypc_xP"
      }
    },
    {
      "cell_type": "code",
      "source": [
        "import pandas as pd\n",
        "from tqdm import tqdm\n",
        "import numpy as np\n",
        "from nona.nona import nona\n",
        "from sklearn.pipeline import make_pipeline\n",
        "from sklearn.preprocessing import StandardScaler\n",
        "from sklearn.linear_model import Ridge\n",
        "from sklearn.ensemble import RandomForestClassifier\n",
        "from sklearn.model_selection import train_test_split\n",
        "from sklearn.preprocessing import LabelEncoder\n",
        "from pytorch_tabnet.tab_model import TabNetClassifier\n",
        "from pytorch_tabnet.pretraining import TabNetPretrainer\n",
        "from imblearn.over_sampling import SMOTE\n",
        "import torch\n",
        "from sklearn.metrics import precision_score, recall_score, f1_score"
      ],
      "metadata": {
        "id": "dwkhkhkCdAsi"
      },
      "execution_count": 3,
      "outputs": []
    },
    {
      "cell_type": "markdown",
      "source": [
        "### Let’s add 4 features to the dataset to train the model:\n",
        "* Systolic blood pressure\n",
        "* Heart rate\n",
        "*   Breathing rate\n",
        "*   Temperature"
      ],
      "metadata": {
        "id": "rHM7eAPydDCv"
      }
    },
    {
      "cell_type": "code",
      "source": [
        "def process_chartevents(file_path, output_path, item_ids):\n",
        "    \"\"\" collecting features of the dataset\n",
        "\n",
        "    Keyword arguments:\n",
        "    file_path -- path to the file\n",
        "    output_path -- path to the output file\n",
        "    item_ids -- list of item ids\n",
        "\n",
        "    \"\"\"\n",
        "    item_ids_set = set(item_ids)\n",
        "\n",
        "    result = {}\n",
        "\n",
        "    with open(file_path) as f:\n",
        "        headers = f.readline().replace('\\n', '').split(',')\n",
        "        i = 0\n",
        "        for line in tqdm(f):\n",
        "            values = line.replace('\\n', '').split(',')\n",
        "            subject_id = values[0]\n",
        "            item_id = values[6]\n",
        "            valuenum = values[8]\n",
        "            if item_id in item_ids_set:\n",
        "                if subject_id not in result:\n",
        "                    result[subject_id] = {}\n",
        "                result[subject_id][item_id] = valuenum\n",
        "            i += 1\n",
        "\n",
        "    table = pd.DataFrame.from_dict(result, orient='index')\n",
        "    table['subject_id'] = table.index\n",
        "\n",
        "    table.to_csv(output_path, index=False)\n",
        "\n",
        "item_ids = [str(x) for x in [225309, 220045, 220210, 223762]]\n",
        "file_path = './MIMIC/icu/chartevents.csv'\n",
        "output_path = 'df.csv'\n",
        "\n",
        "process_chartevents(file_path, output_path, item_ids)"
      ],
      "metadata": {
        "id": "_zc3729_dF4h"
      },
      "execution_count": null,
      "outputs": []
    },
    {
      "cell_type": "markdown",
      "source": [
        "### Let's add a column to the dataset with a target - whether a person has sepsis or not"
      ],
      "metadata": {
        "id": "K18vjRaAdJnY"
      }
    },
    {
      "cell_type": "code",
      "source": [
        "def add_diagnosis_column(drgcodes_path, merged_data_path, output_path):\n",
        "    \"\"\"Add diagnosis column to dataset.\n",
        "\n",
        "    Keyword arguments:\n",
        "    drgcodes_path -- path to the drgcodes file\n",
        "    merged_data_path -- path to the file with features\n",
        "    output_path -- path to the output file\n",
        "\n",
        "    \"\"\"\n",
        "    drgcodes = pd.read_csv(drgcodes_path)\n",
        "    merged_data = pd.read_csv(merged_data_path)\n",
        "\n",
        "    drgcodes['drg_code'] = pd.to_numeric(drgcodes['drg_code'], errors='coerce')\n",
        "    merged_data['diagnosis'] = 0\n",
        "\n",
        "    target_subjects = drgcodes.loc[drgcodes['drg_code'].isin([870, 871, 872]), 'subject_id']\n",
        "    merged_data.loc[merged_data['subject_id'].isin(target_subjects), 'diagnosis'] = 1\n",
        "\n",
        "    merged_data.to_csv(output_path, index=False)\n",
        "\n",
        "drgcodes_path = './MIMIC/hosp/drgcodes.csv'\n",
        "merged_data_path = './df.csv'\n",
        "output_path = 'df_with_target.csv'\n",
        "\n",
        "add_diagnosis_column(drgcodes_path, merged_data_path, output_path)"
      ],
      "metadata": {
        "id": "rl0T3JYgdOBZ"
      },
      "execution_count": null,
      "outputs": []
    },
    {
      "cell_type": "markdown",
      "source": [
        "### There are a lot of gaps in our data, so let's use the NoNa library and fill them in"
      ],
      "metadata": {
        "id": "HlYIeJa7dQvv"
      }
    },
    {
      "cell_type": "code",
      "source": [
        "def impute_data(input_path, output_path, features):\n",
        "    \"\"\"Fill in the blanks.\n",
        "\n",
        "    Keyword arguments:\n",
        "    input_path -- path to the input file\n",
        "    output_path -- path to the output file\n",
        "    features -- list of features\n",
        "\n",
        "    \"\"\"\n",
        "    df = pd.read_csv(input_path)\n",
        "\n",
        "    X = df[features]\n",
        "\n",
        "    nona(\n",
        "        data=X,\n",
        "        algreg=make_pipeline(StandardScaler(with_mean=False), Ridge(alpha=0.1)),\n",
        "        algclass=RandomForestClassifier(max_depth=2, random_state=0)\n",
        "    )\n",
        "\n",
        "    df[features] = X\n",
        "\n",
        "    df.to_csv(output_path, index=False)\n",
        "\n",
        "input_path = 'df_with_target.csv'\n",
        "output_path = 'df_with_target_imputed.csv'\n",
        "features = ['225309', '220045', '220210', '223762']\n",
        "\n",
        "impute_data(input_path, output_path, features)"
      ],
      "metadata": {
        "id": "8QZzdrKudULD"
      },
      "execution_count": null,
      "outputs": []
    },
    {
      "cell_type": "markdown",
      "source": [
        "### Let's divide the dataset into training and test sets, then balance the training set by target"
      ],
      "metadata": {
        "id": "CgGXMQhBe5ML"
      }
    },
    {
      "cell_type": "code",
      "source": [
        "def prepare_and_save_data(input_path, test_size, random_state, features, target, resampled_output_path, test_output_path):\n",
        "    \"\"\"We divide the data into train and test. Getting rid of class imbalance in train.\n",
        "\n",
        "    Keyword arguments:\n",
        "    input_path -- path to the input file\n",
        "    test_size -- size of the test set\n",
        "    random_state -- random state\n",
        "    features -- list of features\n",
        "    target -- target column\n",
        "\n",
        "    \"\"\"\n",
        "    df = pd.read_csv(input_path)\n",
        "\n",
        "    train_data, test_data = train_test_split(df, test_size=test_size, random_state=random_state)\n",
        "\n",
        "    X_train = train_data[features]\n",
        "    y_train = train_data[target]\n",
        "\n",
        "    smote = SMOTE(random_state=random_state)\n",
        "    X_resampled, y_resampled = smote.fit_resample(X_train, y_train)\n",
        "\n",
        "    df_resampled = pd.concat([pd.DataFrame(X_resampled, columns=X_train.columns), pd.DataFrame(y_resampled, columns=[target])], axis=1)\n",
        "\n",
        "    df_resampled.to_csv(resampled_output_path, index=False)\n",
        "    test_data.to_csv(test_output_path, index=False)\n",
        "\n",
        "    return df_resampled, test_data\n",
        "\n",
        "input_path = 'df_with_target_imputed.csv'\n",
        "test_size = 0.4\n",
        "random_state = 42\n",
        "features = ['225309', '220045', '220210', '223762']\n",
        "target = 'SepsisLabel'\n",
        "resampled_output_path = 'train_data_MEWS.csv'\n",
        "test_output_path = 'test_data.csv'\n",
        "\n",
        "df_resampled, test_data = prepare_and_save_data(input_path, test_size, random_state, features, target, resampled_output_path, test_output_path)"
      ],
      "metadata": {
        "id": "2FQxd7otdb5n"
      },
      "execution_count": null,
      "outputs": []
    },
    {
      "cell_type": "markdown",
      "source": [
        "Let's make sure that the classes in the training data are balanced"
      ],
      "metadata": {
        "id": "jBTDi5nxexsN"
      }
    },
    {
      "cell_type": "code",
      "source": [
        "df = pd.read_csv('/content/drive/MyDrive/Лаба ML/transformers/train_data_MEWS.csv')"
      ],
      "metadata": {
        "id": "mKkrH6mbdgRo"
      },
      "execution_count": 4,
      "outputs": []
    },
    {
      "cell_type": "code",
      "source": [
        "print(sum(df['diagnosis'] == 0))\n",
        "print(sum(df['diagnosis'] == 1))"
      ],
      "metadata": {
        "colab": {
          "base_uri": "https://localhost:8080/"
        },
        "id": "ex5FzoVcdwX3",
        "outputId": "cd2cbf69-e357-403c-ee00-30466d1b1087"
      },
      "execution_count": 7,
      "outputs": [
        {
          "output_type": "stream",
          "name": "stdout",
          "text": [
            "27249\n",
            "27249\n"
          ]
        }
      ]
    },
    {
      "cell_type": "markdown",
      "source": [
        "### Let's divide the test dataset into test and validation ones, then balance the samples"
      ],
      "metadata": {
        "id": "QX0nvzmcfN3n"
      }
    },
    {
      "cell_type": "code",
      "source": [
        "def resample_test_val_data(input_path, test_size, random_state, features, target, test_output_path, val_output_path):\n",
        "    \"\"\"We divide the data into test and validation. Getting rid of class imbalance in test and in validation.\n",
        "\n",
        "    Keyword arguments:\n",
        "    input_path -- path to the input file\n",
        "    test_size -- size of the test set\n",
        "    random_state -- random state\n",
        "    features -- list of features\n",
        "    target -- target column\n",
        "\n",
        "    \"\"\"\n",
        "    df = pd.read_csv(input_path)\n",
        "    data = df.drop(['subject_id'], axis=1)\n",
        "    test_data, val_data = train_test_split(data, test_size=test_size, random_state=random_state)\n",
        "\n",
        "    smote1 = SMOTE(random_state=42)\n",
        "    X1 = test_data[features]\n",
        "    y1 = test_data[target]\n",
        "    X_resampled1, y_resampled1 = smote1.fit_resample(X1, y1)\n",
        "    df_resampled1 = pd.concat([pd.DataFrame(X_resampled1, columns=features), pd.DataFrame(y_resampled1, columns=[target])], axis=1)\n",
        "    df_resampled1.to_csv(test_output_path, index=False)\n",
        "\n",
        "    smote2 = SMOTE(random_state=42)\n",
        "    X2 = val_data[features]\n",
        "    y2 = val_data[target]\n",
        "    X_resampled2, y_resampled2 = smote2.fit_resample(X2, y2)\n",
        "    df_resampled2 = pd.concat([pd.DataFrame(X_resampled2, columns=features), pd.DataFrame(y_resampled2, columns=[target])], axis=1)\n",
        "    df_resampled2.to_csv(val_output_path, index=False)\n",
        "\n",
        "input_path = 'test_data_31.csv'\n",
        "test_size = 0.4\n",
        "random_state = 42\n",
        "features = ['225309', '220045', '220210', '223762']\n",
        "target = 'diagnosis'\n",
        "test_output_path = 'test_resampled_data.csv'\n",
        "val_output_path = 'val_resampled_data.csv'\n",
        "resample_test_val_data(input_path, test_size, random_state, features, target, test_output_path, val_output_path)"
      ],
      "metadata": {
        "id": "LeQJVPivfJXj"
      },
      "execution_count": null,
      "outputs": []
    },
    {
      "cell_type": "markdown",
      "source": [
        "Making sure the classes are balanced"
      ],
      "metadata": {
        "id": "Zm1rSSaKfW7B"
      }
    },
    {
      "cell_type": "code",
      "source": [
        "df = pd.read_csv('/content/drive/MyDrive/Лаба ML/transformers/val_resampled_data_MEWS.csv')"
      ],
      "metadata": {
        "id": "ECAy4MOleAKI"
      },
      "execution_count": 8,
      "outputs": []
    },
    {
      "cell_type": "code",
      "source": [
        "print(sum(df['diagnosis'] == 0))\n",
        "print(sum(df['diagnosis'] == 1))"
      ],
      "metadata": {
        "colab": {
          "base_uri": "https://localhost:8080/"
        },
        "id": "8plOt8HneO4w",
        "outputId": "66649d83-f99a-4a42-970d-5ed9673b5360"
      },
      "execution_count": 9,
      "outputs": [
        {
          "output_type": "stream",
          "name": "stdout",
          "text": [
            "9128\n",
            "9128\n"
          ]
        }
      ]
    },
    {
      "cell_type": "code",
      "source": [
        "df = pd.read_csv('/content/drive/MyDrive/Лаба ML/transformers/test_resampled_data_MEWS.csv')"
      ],
      "metadata": {
        "id": "rxIeuH_DeJs3"
      },
      "execution_count": 10,
      "outputs": []
    },
    {
      "cell_type": "code",
      "source": [
        "print(sum(df['diagnosis'] == 0))\n",
        "print(sum(df['diagnosis'] == 1))"
      ],
      "metadata": {
        "colab": {
          "base_uri": "https://localhost:8080/"
        },
        "id": "0K8cBpDveSkr",
        "outputId": "62ca71f3-2e38-4482-c4f5-feb6aa511f57"
      },
      "execution_count": 11,
      "outputs": [
        {
          "output_type": "stream",
          "name": "stdout",
          "text": [
            "9065\n",
            "9065\n"
          ]
        }
      ]
    },
    {
      "cell_type": "markdown",
      "source": [
        "### Let's use the TabNet transformer as a learning model. Let's train the model with selected hyperparameters, preserve the importance of the features and the model itself"
      ],
      "metadata": {
        "id": "mLVD6yWTflPY"
      }
    },
    {
      "cell_type": "code",
      "source": [
        "def train_tabnet_model(train_path, val_path, feature_importances_path, model_save_path, optimizer_params, scheduler_params, pretraining_lr=0.05, training_lr=0.05, mask_type='sparsemax', pretraining_ratio=1.0, max_epochs=200, patience=50):\n",
        "    \"\"\"Model training, preserving the importance of features and saving the model.\n",
        "\n",
        "    Keyword arguments:\n",
        "    train_path -- path to the train data\n",
        "    val_path -- path to the validation data\n",
        "    feature_importances_path -- path to the file with feature importances\n",
        "    model_save_path -- path to the model\n",
        "    optimizer_params -- optimizer parameters\n",
        "    scheduler_params -- scheduler parameters\n",
        "    pretraining_lr -- learning rate for pretraining (default 0.05)\n",
        "    training_lr -- learning rate for training (default 0.05)\n",
        "    mask_type -- mask type (default 'sparsemax')\n",
        "    pretraining_ratio -- ratio of pretraining data (default 1.0)\n",
        "    max_epochs -- maximum number of epochs (default 200)\n",
        "    patience -- patience (default 50)\n",
        "\n",
        "    \"\"\"\n",
        "    train_data = pd.read_csv(train_path)\n",
        "    val_data = pd.read_csv(val_path)\n",
        "\n",
        "    X_train = train_data.drop(['diagnosis'], axis=1)\n",
        "    y_train = train_data['diagnosis']\n",
        "\n",
        "    X_val = val_data.drop(['diagnosis'], axis=1)\n",
        "    y_val = val_data['diagnosis']\n",
        "\n",
        "    unsupervised_model = TabNetPretrainer(\n",
        "        optimizer_fn=torch.optim.Adam,\n",
        "        optimizer_params=dict(lr=pretraining_lr),\n",
        "        mask_type=mask_type\n",
        "    )\n",
        "\n",
        "    unsupervised_model.fit(\n",
        "        X_train=X_train.values,\n",
        "        eval_set=[X_val.values],\n",
        "        pretraining_ratio=pretraining_ratio,\n",
        "    )\n",
        "\n",
        "    clf = TabNetClassifier(\n",
        "        optimizer_fn=torch.optim.Adam,\n",
        "        optimizer_params=dict(lr=training_lr),\n",
        "        scheduler_params=scheduler_params,\n",
        "        scheduler_fn=torch.optim.lr_scheduler.StepLR,\n",
        "        mask_type=mask_type\n",
        "    )\n",
        "\n",
        "    clf.fit(\n",
        "        X_train=X_train.values, y_train=y_train.values,\n",
        "        eval_set=[(X_val.values, y_val.values)],\n",
        "        eval_metric=['auc'],\n",
        "        max_epochs=max_epochs,\n",
        "        patience=patience,\n",
        "        from_unsupervised=unsupervised_model\n",
        "    )\n",
        "\n",
        "    with open(feature_importances_path, 'w') as f:\n",
        "        f.write(f'{clf.feature_importances_}')\n",
        "\n",
        "    clf.save_model(model_save_path)\n",
        "\n",
        "train_path = '/content/drive/MyDrive/Лаба ML/transformers/train_data_MEWS.csv'\n",
        "val_path = '/content/drive/MyDrive/Лаба ML/transformers/val_resampled_data_MEWS.csv'\n",
        "feature_importances_path = 'fimp.txt'\n",
        "model_save_path = './tabnet_model_test_1'\n",
        "optimizer_params = dict(lr=0.05)\n",
        "scheduler_params = {\n",
        "    \"step_size\": 10,\n",
        "    \"gamma\": 0.9\n",
        "}\n",
        "\n",
        "train_tabnet_model(train_path, val_path, feature_importances_path, model_save_path, optimizer_params, scheduler_params)"
      ],
      "metadata": {
        "colab": {
          "base_uri": "https://localhost:8080/"
        },
        "id": "pkWXme5ffaWt",
        "outputId": "8063bacd-04d5-4b02-f2ae-fe27209eedcb"
      },
      "execution_count": 33,
      "outputs": [
        {
          "output_type": "stream",
          "name": "stderr",
          "text": [
            "/usr/local/lib/python3.10/dist-packages/pytorch_tabnet/abstract_model.py:82: UserWarning: Device used : cpu\n",
            "  warnings.warn(f\"Device used : {self.device}\")\n"
          ]
        },
        {
          "output_type": "stream",
          "name": "stdout",
          "text": [
            "epoch 0  | loss: 36.84088| val_0_unsup_loss_numpy: 3.5068378504386677e+28|  0:00:05s\n"
          ]
        },
        {
          "output_type": "stream",
          "name": "stderr",
          "text": [
            "/usr/local/lib/python3.10/dist-packages/pytorch_tabnet/metrics.py:59: RuntimeWarning: overflow encountered in square\n",
            "  reconstruction_errors = np.multiply(errors, obf_vars) ** 2\n",
            "/usr/local/lib/python3.10/dist-packages/numpy/core/_methods.py:118: RuntimeWarning: overflow encountered in reduce\n",
            "  ret = umr_sum(arr, axis, dtype, out, keepdims, where=where)\n"
          ]
        },
        {
          "output_type": "stream",
          "name": "stdout",
          "text": [
            "epoch 1  | loss: 1.14778 | val_0_unsup_loss_numpy: inf     |  0:00:09s\n",
            "epoch 2  | loss: 1.02261 | val_0_unsup_loss_numpy: inf     |  0:00:12s\n",
            "epoch 3  | loss: 1.02943 | val_0_unsup_loss_numpy: inf     |  0:00:16s\n",
            "epoch 4  | loss: 1.00712 | val_0_unsup_loss_numpy: inf     |  0:00:21s\n",
            "epoch 5  | loss: 1.00862 | val_0_unsup_loss_numpy: inf     |  0:00:24s\n",
            "epoch 6  | loss: 1.01511 | val_0_unsup_loss_numpy: inf     |  0:00:27s\n",
            "epoch 7  | loss: 1.00804 | val_0_unsup_loss_numpy: inf     |  0:00:32s\n",
            "epoch 8  | loss: 1.00626 | val_0_unsup_loss_numpy: inf     |  0:00:36s\n",
            "epoch 9  | loss: 1.01127 | val_0_unsup_loss_numpy: inf     |  0:00:39s\n",
            "epoch 10 | loss: 1.00864 | val_0_unsup_loss_numpy: inf     |  0:00:43s\n",
            "\n",
            "Early stopping occurred at epoch 10 with best_epoch = 0 and best_val_0_unsup_loss_numpy = 3.5068378504386677e+28\n"
          ]
        },
        {
          "output_type": "stream",
          "name": "stderr",
          "text": [
            "/usr/local/lib/python3.10/dist-packages/pytorch_tabnet/callbacks.py:172: UserWarning: Best weights from best epoch are automatically used!\n",
            "  warnings.warn(wrn_msg)\n",
            "/usr/local/lib/python3.10/dist-packages/pytorch_tabnet/abstract_model.py:82: UserWarning: Device used : cpu\n",
            "  warnings.warn(f\"Device used : {self.device}\")\n",
            "/usr/local/lib/python3.10/dist-packages/pytorch_tabnet/abstract_model.py:248: UserWarning: Loading weights from unsupervised pretraining\n",
            "  warnings.warn(\"Loading weights from unsupervised pretraining\")\n"
          ]
        },
        {
          "output_type": "stream",
          "name": "stdout",
          "text": [
            "epoch 0  | loss: 0.68376 | val_0_auc: 0.44233 |  0:00:04s\n",
            "epoch 1  | loss: 0.66186 | val_0_auc: 0.51559 |  0:00:09s\n",
            "epoch 2  | loss: 0.66131 | val_0_auc: 0.58031 |  0:00:12s\n",
            "epoch 3  | loss: 0.65913 | val_0_auc: 0.58202 |  0:00:15s\n",
            "epoch 4  | loss: 0.65881 | val_0_auc: 0.59011 |  0:00:18s\n",
            "epoch 5  | loss: 0.65877 | val_0_auc: 0.59297 |  0:00:23s\n",
            "epoch 6  | loss: 0.65716 | val_0_auc: 0.58709 |  0:00:26s\n",
            "epoch 7  | loss: 0.65881 | val_0_auc: 0.58719 |  0:00:29s\n",
            "epoch 8  | loss: 0.65716 | val_0_auc: 0.59137 |  0:00:32s\n",
            "epoch 9  | loss: 0.65695 | val_0_auc: 0.59014 |  0:00:36s\n",
            "epoch 10 | loss: 0.65877 | val_0_auc: 0.58219 |  0:00:40s\n",
            "epoch 11 | loss: 0.65522 | val_0_auc: 0.58473 |  0:00:43s\n",
            "epoch 12 | loss: 0.65521 | val_0_auc: 0.57556 |  0:00:46s\n",
            "epoch 13 | loss: 0.65405 | val_0_auc: 0.56469 |  0:00:49s\n",
            "epoch 14 | loss: 0.65396 | val_0_auc: 0.57425 |  0:00:54s\n",
            "epoch 15 | loss: 0.65388 | val_0_auc: 0.58365 |  0:00:57s\n",
            "epoch 16 | loss: 0.65396 | val_0_auc: 0.5815  |  0:01:00s\n",
            "epoch 17 | loss: 0.65441 | val_0_auc: 0.58327 |  0:01:03s\n",
            "epoch 18 | loss: 0.65294 | val_0_auc: 0.57091 |  0:01:07s\n",
            "epoch 19 | loss: 0.65323 | val_0_auc: 0.56507 |  0:01:11s\n",
            "epoch 20 | loss: 0.65206 | val_0_auc: 0.56343 |  0:01:14s\n",
            "epoch 21 | loss: 0.65266 | val_0_auc: 0.57659 |  0:01:17s\n",
            "epoch 22 | loss: 0.65218 | val_0_auc: 0.58154 |  0:01:20s\n",
            "epoch 23 | loss: 0.65172 | val_0_auc: 0.56491 |  0:01:24s\n",
            "epoch 24 | loss: 0.65177 | val_0_auc: 0.58239 |  0:01:28s\n",
            "epoch 25 | loss: 0.65288 | val_0_auc: 0.56962 |  0:01:31s\n",
            "epoch 26 | loss: 0.65307 | val_0_auc: 0.57716 |  0:01:34s\n",
            "epoch 27 | loss: 0.65507 | val_0_auc: 0.56765 |  0:01:38s\n",
            "epoch 28 | loss: 0.65135 | val_0_auc: 0.58738 |  0:01:41s\n",
            "epoch 29 | loss: 0.65289 | val_0_auc: 0.56267 |  0:01:44s\n",
            "epoch 30 | loss: 0.65194 | val_0_auc: 0.58014 |  0:01:47s\n",
            "epoch 31 | loss: 0.65104 | val_0_auc: 0.57939 |  0:01:51s\n",
            "epoch 32 | loss: 0.65155 | val_0_auc: 0.58196 |  0:01:55s\n",
            "epoch 33 | loss: 0.65195 | val_0_auc: 0.58046 |  0:01:57s\n",
            "epoch 34 | loss: 0.65204 | val_0_auc: 0.58029 |  0:02:01s\n",
            "epoch 35 | loss: 0.65111 | val_0_auc: 0.58052 |  0:02:05s\n",
            "epoch 36 | loss: 0.65179 | val_0_auc: 0.56979 |  0:02:08s\n",
            "epoch 37 | loss: 0.65026 | val_0_auc: 0.58373 |  0:02:11s\n",
            "epoch 38 | loss: 0.64999 | val_0_auc: 0.57339 |  0:02:14s\n",
            "epoch 39 | loss: 0.65064 | val_0_auc: 0.58118 |  0:02:18s\n",
            "epoch 40 | loss: 0.64986 | val_0_auc: 0.56963 |  0:02:22s\n",
            "epoch 41 | loss: 0.64975 | val_0_auc: 0.57631 |  0:02:25s\n",
            "epoch 42 | loss: 0.65019 | val_0_auc: 0.5773  |  0:02:28s\n",
            "epoch 43 | loss: 0.64901 | val_0_auc: 0.58086 |  0:02:31s\n",
            "epoch 44 | loss: 0.64827 | val_0_auc: 0.57939 |  0:02:35s\n",
            "epoch 45 | loss: 0.64927 | val_0_auc: 0.57069 |  0:02:39s\n",
            "epoch 46 | loss: 0.64867 | val_0_auc: 0.56319 |  0:02:42s\n",
            "epoch 47 | loss: 0.64962 | val_0_auc: 0.57471 |  0:02:45s\n",
            "epoch 48 | loss: 0.64961 | val_0_auc: 0.57421 |  0:02:49s\n",
            "epoch 49 | loss: 0.64862 | val_0_auc: 0.57618 |  0:02:53s\n",
            "epoch 50 | loss: 0.64877 | val_0_auc: 0.57102 |  0:02:56s\n",
            "epoch 51 | loss: 0.6488  | val_0_auc: 0.57267 |  0:02:59s\n",
            "epoch 52 | loss: 0.64902 | val_0_auc: 0.57675 |  0:03:02s\n",
            "epoch 53 | loss: 0.6489  | val_0_auc: 0.58378 |  0:03:06s\n",
            "epoch 54 | loss: 0.64909 | val_0_auc: 0.58719 |  0:03:09s\n",
            "epoch 55 | loss: 0.64961 | val_0_auc: 0.58745 |  0:03:12s\n",
            "\n",
            "Early stopping occurred at epoch 55 with best_epoch = 5 and best_val_0_auc = 0.59297\n"
          ]
        },
        {
          "output_type": "stream",
          "name": "stderr",
          "text": [
            "/usr/local/lib/python3.10/dist-packages/pytorch_tabnet/callbacks.py:172: UserWarning: Best weights from best epoch are automatically used!\n",
            "  warnings.warn(wrn_msg)\n"
          ]
        },
        {
          "output_type": "stream",
          "name": "stdout",
          "text": [
            "Successfully saved model at ./tabnet_model_test_1.zip\n"
          ]
        }
      ]
    },
    {
      "cell_type": "markdown",
      "source": [
        "### Let's find out what signs the model paid the most attention to"
      ],
      "metadata": {
        "id": "S6uiRH0BjdUH"
      }
    },
    {
      "cell_type": "code",
      "source": [
        "file_path = '/content/fimp.txt'\n",
        "\n",
        "with open(file_path, 'r') as file:\n",
        "    content = file.read()\n",
        "    print(content)"
      ],
      "metadata": {
        "colab": {
          "base_uri": "https://localhost:8080/"
        },
        "id": "x3z4t5U6ijU1",
        "outputId": "0a7344e0-5263-4b18-8784-3f23349aac33"
      },
      "execution_count": 34,
      "outputs": [
        {
          "output_type": "stream",
          "name": "stdout",
          "text": [
            "[0.         0.29729455 0.21506934 0.48763611]\n"
          ]
        }
      ]
    },
    {
      "cell_type": "markdown",
      "source": [
        "### Visualizing the importance of features"
      ],
      "metadata": {
        "id": "VYL3H9akkiXK"
      }
    },
    {
      "cell_type": "code",
      "source": [
        "import matplotlib.pyplot as plt\n",
        "import seaborn as sns\n",
        "\n",
        "feature_importances = [0.0, 0.29729455, 0.21506934, 0.48763611]\n",
        "\n",
        "importance_df = pd.DataFrame({'Feature': ['SBP','HR','RR','temp'], 'Importance': feature_importances})\n",
        "importance_df = importance_df.sort_values(by='Importance', ascending=False)\n",
        "\n",
        "plt.figure(figsize=(5, 3))\n",
        "sns.barplot(data=importance_df, x='Importance', y='Feature')\n",
        "plt.title('Feature Importance')\n",
        "plt.xlabel('Importance')\n",
        "plt.ylabel('Feature')\n",
        "plt.show()"
      ],
      "metadata": {
        "colab": {
          "base_uri": "https://localhost:8080/",
          "height": 333
        },
        "id": "Fha4ZQhsiR7e",
        "outputId": "d1b36bc2-9eea-446f-bf73-44895e6fe774"
      },
      "execution_count": 35,
      "outputs": [
        {
          "output_type": "display_data",
          "data": {
            "text/plain": [
              "<Figure size 500x300 with 1 Axes>"
            ],
            "image/png": "[encoded data removed]"
          },
          "metadata": {}
        }
      ]
    },
    {
      "cell_type": "markdown",
      "source": [
        "### Let's look at the metrics obtained as a result of prediction on the test sample"
      ],
      "metadata": {
        "id": "meiYxNIjk8cU"
      }
    },
    {
      "cell_type": "code",
      "source": [
        "def evaluate_tabnet_model(model_path, test_data_path, metrics_output_path):\n",
        "    \"\"\"Evaluate the model.\n",
        "\n",
        "    Keyword arguments:\n",
        "    model_path -- path to the model\n",
        "    test_data_path -- path to the test data\n",
        "    metrics_output_path -- path to the output file\n",
        "\n",
        "    \"\"\"\n",
        "    loaded_clf = TabNetClassifier()\n",
        "    loaded_clf.load_model(model_path)\n",
        "\n",
        "    test_data = pd.read_csv(test_data_path)\n",
        "\n",
        "    X_test = test_data.drop(['diagnosis'], axis=1)\n",
        "    y_test = test_data['diagnosis']\n",
        "\n",
        "    result = loaded_clf.predict(X_test.values)\n",
        "\n",
        "    accuracy = (result == y_test.values).mean()\n",
        "    precision = precision_score(y_test.values, result)\n",
        "    recall = recall_score(y_test.values, result)\n",
        "    f1 = f1_score(y_test.values, result)\n",
        "\n",
        "    with open(metrics_output_path, 'w') as file:\n",
        "        file.write(f'Accuracy: {accuracy}\\n')\n",
        "        file.write(f'Precision: {precision}\\n')\n",
        "        file.write(f'Recall: {recall}\\n')\n",
        "        file.write(f'F1-score: {f1}\\n')\n",
        "        file.close()\n",
        "\n",
        "model_path = \"./tabnet_model_test_1.zip\"\n",
        "test_data_path = '/content/drive/MyDrive/Лаба ML/transformers/test_resampled_data_MEWS.csv'\n",
        "metrics_output_path = \"metrics.txt\"\n",
        "\n",
        "evaluate_tabnet_model(model_path, test_data_path, metrics_output_path)"
      ],
      "metadata": {
        "colab": {
          "base_uri": "https://localhost:8080/"
        },
        "id": "8PEBEVyYkoq7",
        "outputId": "6b9d67c0-7686-4899-dd55-dc80d8cbd67c"
      },
      "execution_count": 36,
      "outputs": [
        {
          "output_type": "stream",
          "name": "stderr",
          "text": [
            "/usr/local/lib/python3.10/dist-packages/pytorch_tabnet/abstract_model.py:82: UserWarning: Device used : cpu\n",
            "  warnings.warn(f\"Device used : {self.device}\")\n"
          ]
        }
      ]
    },
    {
      "cell_type": "code",
      "source": [
        "file_path = '/content/metrics.txt'\n",
        "\n",
        "with open(file_path, 'r') as file:\n",
        "    content = file.read()\n",
        "    print(content)"
      ],
      "metadata": {
        "colab": {
          "base_uri": "https://localhost:8080/"
        },
        "id": "Xgjlr8iWk57g",
        "outputId": "04581a41-a8aa-487f-beb8-810936e8197a"
      },
      "execution_count": 37,
      "outputs": [
        {
          "output_type": "stream",
          "name": "stdout",
          "text": [
            "Accuracy: 0.5257584114726972\n",
            "Precision: 0.5143842789379659\n",
            "Recall: 0.9211252068394925\n",
            "F1-score: 0.660131235670804\n",
            "\n"
          ]
        }
      ]
    }
  ]
}