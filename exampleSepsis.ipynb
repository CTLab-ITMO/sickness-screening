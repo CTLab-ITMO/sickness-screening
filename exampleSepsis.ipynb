{
 "cells": [
  {
   "metadata": {
    "id": "8a77807f92f26ee"
   },
   "cell_type": "markdown",
   "source": [
    "# Примеры"
   ],
   "id": "8a77807f92f26ee"
  },
  {
   "cell_type": "code",
   "source": [
    "from google.colab import drive\n",
    "drive.mount('/content/drive')"
   ],
   "metadata": {
    "colab": {
     "base_uri": "https://localhost:8080/"
    },
    "id": "1MPeZ6NOXu3b",
    "outputId": "f1530502-a475-4625-ad0d-15088147cf7a"
   },
   "id": "1MPeZ6NOXu3b",
   "execution_count": 1,
   "outputs": [
    {
     "output_type": "stream",
     "name": "stdout",
     "text": [
      "Mounted at /content/drive\n"
     ]
    }
   ]
  },
  {
   "metadata": {
    "id": "65ef6aaa82cebcc1"
   },
   "cell_type": "markdown",
   "source": [
    "## Пример 1, обучение RandomForest выявлению сепсиса"
   ],
   "id": "65ef6aaa82cebcc1"
  },
  {
   "metadata": {
    "id": "443ec4980733332b"
   },
   "cell_type": "markdown",
   "source": [
    "### Устройство MIMIC\n",
    "В примерах разберем, как с помощью модуля sickness-screening обучить модель предсказывать сепсис на наборе данных MIMIC.\n",
    "В MIMIC есть множество таблиц, но для примера нам потребуются следующие таблицы:\n",
    "1. **chartevents.csv** —— содержит данные мониторинга пациентов, например: температура тела, артериальное давление.\n",
    "2. **labevents.csv** —— содержит данные различных анализов пациентов, например различные характеристики анализов крови для пациентов.\n",
    "3. **diagnoses.csv** —— содержит информацию о диагнозах, которые получил пациент.\n",
    "4. **d_icd_diagnoses** —— расшифрофки кодов диагнозов для каждого диагноза.\n",
    "5. **d_labitems.csv** —— расшифрофки кодов анализов для каждого пациента."
   ],
   "id": "443ec4980733332b"
  },
  {
   "metadata": {
    "id": "a3d38bd77cc32d6c"
   },
   "cell_type": "markdown",
   "source": [
    "### Установим библиотеку"
   ],
   "id": "a3d38bd77cc32d6c"
  },
  {
   "metadata": {
    "colab": {
     "base_uri": "https://localhost:8080/"
    },
    "id": "8242aa3d75a5756b",
    "outputId": "348193de-5ab8-47ca-ec50-3c93ad36f57a",
    "ExecuteTime": {
     "end_time": "2024-06-16T11:05:13.713377Z",
     "start_time": "2024-06-16T11:05:12.438755Z"
    }
   },
   "cell_type": "code",
   "source": [
    "!pip3 install sickness-screening"
   ],
   "id": "8242aa3d75a5756b",
   "outputs": [
    {
     "name": "stdout",
     "output_type": "stream",
     "text": [
      "Requirement already satisfied: sickness-screening in /Users/artemij/miniconda3/lib/python3.12/site-packages (1.0.4)\r\n",
      "Requirement already satisfied: requests>=2.25.1 in /Users/artemij/miniconda3/lib/python3.12/site-packages (from sickness-screening) (2.31.0)\r\n",
      "Requirement already satisfied: pandas>=1.3.3 in /Users/artemij/miniconda3/lib/python3.12/site-packages (from sickness-screening) (2.2.1)\r\n",
      "Requirement already satisfied: tqdm>=4.62.3 in /Users/artemij/miniconda3/lib/python3.12/site-packages (from sickness-screening) (4.65.0)\r\n",
      "Requirement already satisfied: numpy>=1.21.2 in /Users/artemij/miniconda3/lib/python3.12/site-packages (from sickness-screening) (1.26.4)\r\n",
      "Requirement already satisfied: scikit-learn>=0.24.2 in /Users/artemij/miniconda3/lib/python3.12/site-packages (from sickness-screening) (1.4.2)\r\n",
      "Requirement already satisfied: imbalanced-learn>=0.8.0 in /Users/artemij/miniconda3/lib/python3.12/site-packages (from sickness-screening) (0.12.3)\r\n",
      "Requirement already satisfied: pytorch-tabnet>=3.1.1 in /Users/artemij/miniconda3/lib/python3.12/site-packages (from sickness-screening) (4.1.0)\r\n",
      "Requirement already satisfied: torch>=1.9.0 in /Users/artemij/miniconda3/lib/python3.12/site-packages (from sickness-screening) (2.3.1)\r\n",
      "Requirement already satisfied: nona>=0.0.2 in /Users/artemij/miniconda3/lib/python3.12/site-packages (from sickness-screening) (0.0.2)\r\n",
      "Requirement already satisfied: scipy>=1.5.0 in /Users/artemij/miniconda3/lib/python3.12/site-packages (from imbalanced-learn>=0.8.0->sickness-screening) (1.12.0)\r\n",
      "Requirement already satisfied: joblib>=1.1.1 in /Users/artemij/miniconda3/lib/python3.12/site-packages (from imbalanced-learn>=0.8.0->sickness-screening) (1.4.0)\r\n",
      "Requirement already satisfied: threadpoolctl>=2.0.0 in /Users/artemij/miniconda3/lib/python3.12/site-packages (from imbalanced-learn>=0.8.0->sickness-screening) (2.2.0)\r\n",
      "Requirement already satisfied: python-dateutil>=2.8.2 in /Users/artemij/miniconda3/lib/python3.12/site-packages (from pandas>=1.3.3->sickness-screening) (2.9.0.post0)\r\n",
      "Requirement already satisfied: pytz>=2020.1 in /Users/artemij/miniconda3/lib/python3.12/site-packages (from pandas>=1.3.3->sickness-screening) (2024.1)\r\n",
      "Requirement already satisfied: tzdata>=2022.7 in /Users/artemij/miniconda3/lib/python3.12/site-packages (from pandas>=1.3.3->sickness-screening) (2023.3)\r\n",
      "Requirement already satisfied: charset-normalizer<4,>=2 in /Users/artemij/miniconda3/lib/python3.12/site-packages (from requests>=2.25.1->sickness-screening) (2.0.4)\r\n",
      "Requirement already satisfied: idna<4,>=2.5 in /Users/artemij/miniconda3/lib/python3.12/site-packages (from requests>=2.25.1->sickness-screening) (3.4)\r\n",
      "Requirement already satisfied: urllib3<3,>=1.21.1 in /Users/artemij/miniconda3/lib/python3.12/site-packages (from requests>=2.25.1->sickness-screening) (2.1.0)\r\n",
      "Requirement already satisfied: certifi>=2017.4.17 in /Users/artemij/miniconda3/lib/python3.12/site-packages (from requests>=2.25.1->sickness-screening) (2024.6.2)\r\n",
      "Requirement already satisfied: filelock in /Users/artemij/miniconda3/lib/python3.12/site-packages (from torch>=1.9.0->sickness-screening) (3.15.1)\r\n",
      "Requirement already satisfied: typing-extensions>=4.8.0 in /Users/artemij/miniconda3/lib/python3.12/site-packages (from torch>=1.9.0->sickness-screening) (4.11.0)\r\n",
      "Requirement already satisfied: sympy in /Users/artemij/miniconda3/lib/python3.12/site-packages (from torch>=1.9.0->sickness-screening) (1.12.1)\r\n",
      "Requirement already satisfied: networkx in /Users/artemij/miniconda3/lib/python3.12/site-packages (from torch>=1.9.0->sickness-screening) (3.3)\r\n",
      "Requirement already satisfied: jinja2 in /Users/artemij/miniconda3/lib/python3.12/site-packages (from torch>=1.9.0->sickness-screening) (3.1.4)\r\n",
      "Requirement already satisfied: fsspec in /Users/artemij/miniconda3/lib/python3.12/site-packages (from torch>=1.9.0->sickness-screening) (2024.6.0)\r\n",
      "Requirement already satisfied: six>=1.5 in /Users/artemij/miniconda3/lib/python3.12/site-packages (from python-dateutil>=2.8.2->pandas>=1.3.3->sickness-screening) (1.16.0)\r\n",
      "Requirement already satisfied: MarkupSafe>=2.0 in /Users/artemij/miniconda3/lib/python3.12/site-packages (from jinja2->torch>=1.9.0->sickness-screening) (2.1.3)\r\n",
      "Requirement already satisfied: mpmath<1.4.0,>=1.1.0 in /Users/artemij/miniconda3/lib/python3.12/site-packages (from sympy->torch>=1.9.0->sickness-screening) (1.3.0)\r\n"
     ]
    }
   ],
   "execution_count": 1
  },
  {
   "metadata": {
    "id": "5ef2a462614b73f"
   },
   "cell_type": "markdown",
   "source": [
    "#### Аггрегирование данных о диагнозах пациентов:"
   ],
   "id": "5ef2a462614b73f"
  },
  {
   "metadata": {
    "id": "9b9f08848dd9a972"
   },
   "cell_type": "markdown",
   "source": "##### Импортирование библиотеки",
   "id": "9b9f08848dd9a972"
  },
  {
   "metadata": {
    "colab": {
     "base_uri": "https://localhost:8080/"
    },
    "id": "fbc121e30a2defb3",
    "outputId": "eb745921-f09e-4adb-8dfa-23c0216b34ac",
    "ExecuteTime": {
     "end_time": "2024-06-16T11:05:24.825180Z",
     "start_time": "2024-06-16T11:05:22.920416Z"
    }
   },
   "cell_type": "code",
   "source": [
    "import sickness_screening as ss"
   ],
   "id": "fbc121e30a2defb3",
   "outputs": [],
   "execution_count": 2
  },
  {
   "metadata": {
    "id": "4766253efb1edee0"
   },
   "cell_type": "markdown",
   "source": [
    "#### Аггрегирование данных о диагнозах пациентов:"
   ],
   "id": "4766253efb1edee0"
  },
  {
   "metadata": {
    "id": "2e9a5dbd30b631d3",
    "outputId": "f261d6c0-f3ea-4d80-df43-295277f4ae7a",
    "ExecuteTime": {
     "end_time": "2024-06-16T10:39:38.037777Z",
     "start_time": "2024-06-16T10:39:32.322766Z"
    }
   },
   "cell_type": "code",
   "source": [
    "df_gotten_diagnoses = ss.get_diagnoses_data(patient_diagnoses_csv='diagnoses.csv',\n",
    "                 all_diagnoses_csv='d_icd_diagnoses.csv',\n",
    "                 output_file_csv='gottenDiagnoses.csv')\n",
    "print(df_gotten_diagnoses.head(10))"
   ],
   "id": "2e9a5dbd30b631d3",
   "outputs": [
    {
     "name": "stdout",
     "output_type": "stream",
     "text": [
      "   subject_id                                         long_title\n",
      "0    10000032                                Portal hypertension\n",
      "1    10000032                                      Other ascites\n",
      "2    10000032      Cirrhosis of liver without mention of alcohol\n",
      "3    10000032  Unspecified viral hepatitis C without hepatic ...\n",
      "4    10000032  Chronic airway obstruction, not elsewhere clas...\n",
      "5    10000032                      Bipolar disorder, unspecified\n",
      "6    10000032                      Posttraumatic stress disorder\n",
      "7    10000032                    Personal history of tobacco use\n",
      "8    10000032    Unspecified viral hepatitis C with hepatic coma\n",
      "9    10000032                                      Other ascites\n"
     ]
    }
   ],
   "execution_count": 12
  },
  {
   "metadata": {
    "id": "fc72cfb1d4a28f79"
   },
   "cell_type": "markdown",
   "source": [
    "Здесь мы для каждого пациента из **patient_diagnoses_csv** получаем коды диагнозов, а далее, используя **all_diagnoses_csv**\n",
    "мы уже получаем файл **output_file_csv** в котором для каждого пациента уже хранится расшифровка его диагноза."
   ],
   "id": "fc72cfb1d4a28f79"
  },
  {
   "metadata": {
    "id": "3ed8fc0836ca66e8"
   },
   "cell_type": "markdown",
   "source": [
    "#### Получение данных о том, есть ли конкретный диагноз у пациента"
   ],
   "id": "3ed8fc0836ca66e8"
  },
  {
   "metadata": {
    "id": "8d48aaf526225a1c",
    "outputId": "2dba2782-2d4a-4cc7-a3fc-766d4a137e6e",
    "ExecuteTime": {
     "end_time": "2024-06-16T10:39:42.174830Z",
     "start_time": "2024-06-16T10:39:38.038737Z"
    }
   },
   "cell_type": "code",
   "source": [
    "df_sepsis_info = ss.get_diseas_info(diagnoses_csv='gottenDiagnoses.csv', title_column='long_title', diseas_str='sepsis',\n",
    "                    diseas_column='has_sepsis', subject_id_column='subject_id', log_stats=True,\n",
    "                    output_csv='sepsis_info.csv')\n",
    "print(df_sepsis_info.head(20))"
   ],
   "id": "8d48aaf526225a1c",
   "outputs": [
    {
     "name": "stdout",
     "output_type": "stream",
     "text": [
      "Всего пациентов: 193256\n",
      "Всего пациентов с сепсисом: 12616\n",
      "     subject_id  has_sepsis\n",
      "0      10000032       False\n",
      "41     10000068       False\n",
      "42     10000084       False\n",
      "54     10000108       False\n",
      "56     10000117       False\n",
      "78     10000248       False\n",
      "84     10000280       False\n",
      "85     10000560       False\n",
      "88     10000635       False\n",
      "91     10000719       False\n",
      "97     10000764       False\n",
      "116    10000826       False\n",
      "131    10000826        True\n",
      "147    10000883       False\n",
      "152    10000886       False\n",
      "153    10000904       False\n",
      "154    10000935       False\n",
      "236    10000980       False\n",
      "376    10001176       False\n",
      "393    10001186       False\n"
     ]
    }
   ],
   "execution_count": 13
  },
  {
   "metadata": {
    "id": "f38253adf1bc9e20"
   },
   "cell_type": "markdown",
   "source": [
    "Здесь используем таблицу, которую мы получили из предыдущего примера, чтобы на выходе получить таблицу, в которой содержатся данные о том,\n",
    "был ли у этого человека в диагнозе продстрока sepsis, или нет."
   ],
   "id": "f38253adf1bc9e20"
  },
  {
   "metadata": {
    "id": "2a9367b0937f6d32"
   },
   "cell_type": "markdown",
   "source": [
    "#### Аггрегирование данных, необходимых для нахождения ССВР (синдром системной воспалительной рекции)"
   ],
   "id": "2a9367b0937f6d32"
  },
  {
   "metadata": {
    "id": "b7a602b05f5e4599"
   },
   "cell_type": "markdown",
   "source": [
    "Теперь соберем некоторые данные, необходимые для определения ССВР:"
   ],
   "id": "b7a602b05f5e4599"
  },
  {
   "metadata": {
    "id": "f401e12c075cb3f4",
    "outputId": "4e632950-349d-41a5-dd0a-dee7cb171e2e",
    "ExecuteTime": {
     "end_time": "2024-06-16T10:43:16.005780Z",
     "start_time": "2024-06-16T10:39:42.175657Z"
    }
   },
   "cell_type": "code",
   "source": [
    "df_ssir = ss.get_analyzes_data(analyzes_csv='chartevents.csv', subject_id_col='subject_id', itemid_col='itemid',\n",
    "                      charttime_col='charttime', value_col='value', valuenum_col='valuenum',\n",
    "                      itemids=[220045, 220210, 223762, 223761, 225651], rest_columns=['Heart rate', 'Respiratory rate', 'Temperature Fahrenheit', 'Temperature Celsius',\n",
    "                        'Direct Bilirubin', 'Heart rate_valueuom', 'Respiratory rate_valueuom',\n",
    "                        'Temperature Fahrenheit_valueuom', 'Temperature Celsius_valueuom', 'Direct Bilirubin_valueuom'], output_csv='ssir.csv')\n",
    "print(df_ssir.head(10))"
   ],
   "id": "f401e12c075cb3f4",
   "outputs": [
    {
     "name": "stdout",
     "output_type": "stream",
     "text": [
      "   subject_id            charttime Heart rate Respiratory rate  \\\n",
      "0    10000032  2180-07-23 14:00:00        NaN              NaN   \n",
      "1    10000032  2180-07-23 14:12:00         91               24   \n",
      "2    10000032  2180-07-23 14:30:00         93               21   \n",
      "3    10000032  2180-07-23 15:00:00         94               23   \n",
      "4    10000032  2180-07-23 16:00:00        105               21   \n",
      "5    10000032  2180-07-23 17:00:00         97               20   \n",
      "6    10000032  2180-07-23 18:00:00        100               21   \n",
      "7    10000032  2180-07-23 19:00:00         97               16   \n",
      "8    10000032  2180-07-23 20:00:00        100               19   \n",
      "9    10000032  2180-07-23 21:00:00         94               22   \n",
      "\n",
      "  Temperature Fahrenheit Temperature Celsius Direct Bilirubin  \\\n",
      "0                   98.7                 NaN              NaN   \n",
      "1                    NaN                 NaN              NaN   \n",
      "2                    NaN                 NaN              NaN   \n",
      "3                    NaN                 NaN              NaN   \n",
      "4                    NaN                 NaN              NaN   \n",
      "5                   98.7                 NaN              NaN   \n",
      "6                    NaN                 NaN              NaN   \n",
      "7                    NaN                 NaN              NaN   \n",
      "8                   99.5                 NaN              NaN   \n",
      "9                    NaN                 NaN              NaN   \n",
      "\n",
      "  Heart rate_valueuom Respiratory rate_valueuom  \\\n",
      "0                 NaN                       NaN   \n",
      "1                 bpm                  insp/min   \n",
      "2                 bpm                  insp/min   \n",
      "3                 bpm                  insp/min   \n",
      "4                 bpm                  insp/min   \n",
      "5                 bpm                  insp/min   \n",
      "6                 bpm                  insp/min   \n",
      "7                 bpm                  insp/min   \n",
      "8                 bpm                  insp/min   \n",
      "9                 bpm                  insp/min   \n",
      "\n",
      "  Temperature Fahrenheit_valueuom Temperature Celsius_valueuom  \\\n",
      "0                              °F                          NaN   \n",
      "1                             NaN                          NaN   \n",
      "2                             NaN                          NaN   \n",
      "3                             NaN                          NaN   \n",
      "4                             NaN                          NaN   \n",
      "5                              °F                          NaN   \n",
      "6                             NaN                          NaN   \n",
      "7                             NaN                          NaN   \n",
      "8                              °F                          NaN   \n",
      "9                             NaN                          NaN   \n",
      "\n",
      "  Direct Bilirubin_valueuom  \n",
      "0                       NaN  \n",
      "1                       NaN  \n",
      "2                       NaN  \n",
      "3                       NaN  \n",
      "4                       NaN  \n",
      "5                       NaN  \n",
      "6                       NaN  \n",
      "7                       NaN  \n",
      "8                       NaN  \n",
      "9                       NaN  \n"
     ]
    }
   ],
   "execution_count": 14
  },
  {
   "metadata": {
    "id": "e3975e5312f11bc4"
   },
   "cell_type": "markdown",
   "source": [
    "Здесь мы используя таблицу **analyzes_csv**, **itemids**(коды анализов, которые мы хотим собрать), **rest_columns**(колонки, которые мы хотим оставить в выходной таблице),\n",
    "Фунукция собирает из analyzes_csv замеры для пациентов с кодами **itemids** и записать их в **output_csv**, оставив только колонки, которые есть в **rest_columns**\n",
    "В данной функции **subject_id_col** и **itemid_col** отвечают за колонки, отведенные под коды пациентов и анализов соответсвенно.\n",
    "**charttime_col** отвечает за время. **valuenum_col** отвечает за колонку с единицами измерения анализов."
   ],
   "id": "e3975e5312f11bc4"
  },
  {
   "metadata": {
    "id": "e4f0a9851801da1"
   },
   "cell_type": "markdown",
   "source": [
    "#### Комбинирование данных о диагнозах и ССВР"
   ],
   "id": "e4f0a9851801da1"
  },
  {
   "metadata": {
    "id": "b5956880108e9ac5",
    "outputId": "d362447c-9ea8-4ddf-a2d4-6a601b876c97",
    "ExecuteTime": {
     "end_time": "2024-06-16T10:43:57.104583Z",
     "start_time": "2024-06-16T10:43:16.010495Z"
    }
   },
   "cell_type": "code",
   "source": [
    "df_combined = ss.combine_data(first_data_csv='gottenDiagnoses.csv',\n",
    "                              second_data_csv='ssir.csv',\n",
    "                              output_file='diagnoses_and_ssir.csv', log_stats=False)\n",
    "print(df_combined.head(10))"
   ],
   "id": "b5956880108e9ac5",
   "outputs": [
    {
     "name": "stdout",
     "output_type": "stream",
     "text": [
      "   subject_id            charttime  Heart rate  Respiratory rate  \\\n",
      "0    10000032  2180-07-23 14:00:00         NaN               NaN   \n",
      "1    10000032  2180-07-23 14:12:00        91.0              24.0   \n",
      "2    10000032  2180-07-23 14:30:00        93.0              21.0   \n",
      "3    10000032  2180-07-23 15:00:00        94.0              23.0   \n",
      "4    10000032  2180-07-23 16:00:00       105.0              21.0   \n",
      "5    10000032  2180-07-23 17:00:00        97.0              20.0   \n",
      "6    10000032  2180-07-23 18:00:00       100.0              21.0   \n",
      "7    10000032  2180-07-23 19:00:00        97.0              16.0   \n",
      "8    10000032  2180-07-23 20:00:00       100.0              19.0   \n",
      "9    10000032  2180-07-23 21:00:00        94.0              22.0   \n",
      "\n",
      "   Temperature Celsius  Direct Bilirubin has_sepsis  \n",
      "0            37.055556               NaN      False  \n",
      "1                  NaN               NaN      False  \n",
      "2                  NaN               NaN      False  \n",
      "3                  NaN               NaN      False  \n",
      "4                  NaN               NaN      False  \n",
      "5            37.055556               NaN      False  \n",
      "6                  NaN               NaN      False  \n",
      "7                  NaN               NaN      False  \n",
      "8            37.500000               NaN      False  \n",
      "9                  NaN               NaN      False  \n"
     ]
    }
   ],
   "execution_count": 15
  },
  {
   "metadata": {
    "id": "57cabba6b17d5c0e"
   },
   "cell_type": "markdown",
   "source": [
    "#### Сбор и комбинирование данных об анализах крови, с данными об диагнозах и ССВР\n",
    "Соберем данные об анализах крови пациентов и скомбинируем их в одну таблицу:"
   ],
   "id": "57cabba6b17d5c0e"
  },
  {
   "metadata": {
    "id": "1785984ab394406d",
    "outputId": "f6744c75-44ad-4fe3-dfc8-7be9af247fe8",
    "ExecuteTime": {
     "end_time": "2024-06-16T10:55:16.466614Z",
     "start_time": "2024-06-16T10:43:57.105555Z"
    }
   },
   "cell_type": "code",
   "source": [
    "df_merged = ss.merge_and_get_data(merge_with='diagnoses_and_ssir.csv',\n",
    "                      blood_csv='labevents.csv',\n",
    "                      get_data_from='chartevents.csv',\n",
    "                      output_csv='merged_data.csv',\n",
    "                      analyzes_names = {\n",
    "                        51222: \"Hemoglobin\",\n",
    "                        51279: \"Red Blood Cell\",\n",
    "                        51240: \"Large Platelets\",\n",
    "                        50861: \"Alanine Aminotransferase (ALT)\",\n",
    "                        50878: \"Asparate Aminotransferase (AST)\",\n",
    "                        225651: \"Direct Bilirubin\",\n",
    "                        50867: \"Amylase\",\n",
    "                        51301: \"White Blood Cells\"})\n",
    "print(df_merged.head(10))"
   ],
   "id": "1785984ab394406d",
   "outputs": [
    {
     "name": "stderr",
     "output_type": "stream",
     "text": [
      "/Users/artemij/miniconda3/lib/python3.12/site-packages/sickness_screening/merge_and_get_data.py:65: DtypeWarning: Columns (6) have mixed types. Specify dtype option on import or set low_memory=False.\n",
      "  diagnoses_and_ssir = pd.read_csv(merge_with)\n"
     ]
    },
    {
     "name": "stdout",
     "output_type": "stream",
     "text": [
      "Unique patients with sepsis: 12615\n",
      "Unique patients without sepsis: 163902\n",
      "Patients with both sepsis and no sepsis records: 67294\n",
      "Total unique patients: 243811\n",
      "   subject_id            charttime Alanine Aminotransferase (ALT) Amylase  \\\n",
      "0    10000032  2180-03-23 11:51:00                            102     NaN   \n",
      "1    10000032  2180-05-06 22:25:00                            100     NaN   \n",
      "2    10000032  2180-05-07 05:05:00                             88     NaN   \n",
      "3    10000032  2180-06-03 12:00:00                            110     NaN   \n",
      "4    10000032  2180-06-22 11:15:00                            113     NaN   \n",
      "5    10000032  2180-06-26 16:10:00                            126     NaN   \n",
      "6    10000032  2180-06-27 05:10:00                            117     NaN   \n",
      "7    10000032  2180-07-23 06:39:00                            153     NaN   \n",
      "8    10000032  2180-07-23 14:00:00                            NaN     NaN   \n",
      "9    10000032  2180-07-23 14:12:00                            NaN     NaN   \n",
      "\n",
      "  Asparate Aminotransferase (AST) Hemoglobin Large Platelets Red Blood Cell  \\\n",
      "0                             143       14.9             NaN           4.40   \n",
      "1                             114       14.3             NaN           4.29   \n",
      "2                              98       12.7             NaN           3.80   \n",
      "3                             NaN        NaN             NaN            NaN   \n",
      "4                             162       14.0             NaN           4.14   \n",
      "5                             182       13.4             NaN           3.84   \n",
      "6                             158       12.4             NaN           3.60   \n",
      "7                             275       14.1             NaN           3.98   \n",
      "8                             NaN        NaN             NaN            NaN   \n",
      "9                             NaN        NaN             NaN            NaN   \n",
      "\n",
      "  White Blood Cells Direct Bilirubin_x  ...  \\\n",
      "0               3.0                NaN  ...   \n",
      "1               5.0                NaN  ...   \n",
      "2               4.2                NaN  ...   \n",
      "3               NaN                NaN  ...   \n",
      "4               5.1                NaN  ...   \n",
      "5               6.6                NaN  ...   \n",
      "6               6.6                NaN  ...   \n",
      "7               6.9                NaN  ...   \n",
      "8               NaN                NaN  ...   \n",
      "9               NaN                NaN  ...   \n",
      "\n",
      "  Asparate Aminotransferase (AST)_valueuom Hemoglobin_valueuom  \\\n",
      "0                                     IU/L                g/dL   \n",
      "1                                     IU/L                g/dL   \n",
      "2                                     IU/L                g/dL   \n",
      "3                                      NaN                 NaN   \n",
      "4                                     IU/L                g/dL   \n",
      "5                                     IU/L                g/dL   \n",
      "6                                     IU/L                g/dL   \n",
      "7                                     IU/L                g/dL   \n",
      "8                                      NaN                 NaN   \n",
      "9                                      NaN                 NaN   \n",
      "\n",
      "  Red Blood Cell_valueuom White Blood Cells_valueuom  \\\n",
      "0                    m/uL                       K/uL   \n",
      "1                    m/uL                       K/uL   \n",
      "2                    m/uL                       K/uL   \n",
      "3                     NaN                        NaN   \n",
      "4                    m/uL                       K/uL   \n",
      "5                    m/uL                       K/uL   \n",
      "6                    m/uL                       K/uL   \n",
      "7                    m/uL                       K/uL   \n",
      "8                     NaN                        NaN   \n",
      "9                     NaN                        NaN   \n",
      "\n",
      "  Direct Bilirubin_valueuom Heart rate Respiratory rate  Temperature Celsius  \\\n",
      "0                       NaN        NaN              NaN                  NaN   \n",
      "1                       NaN        NaN              NaN                  NaN   \n",
      "2                       NaN        NaN              NaN                  NaN   \n",
      "3                       NaN        NaN              NaN                  NaN   \n",
      "4                       NaN        NaN              NaN                  NaN   \n",
      "5                       NaN        NaN              NaN                  NaN   \n",
      "6                       NaN        NaN              NaN                  NaN   \n",
      "7                       NaN        NaN              NaN                  NaN   \n",
      "8                       NaN        NaN              NaN            37.055556   \n",
      "9                       NaN       91.0             24.0                  NaN   \n",
      "\n",
      "   Direct Bilirubin_y  has_sepsis  \n",
      "0                 NaN       False  \n",
      "1                 NaN       False  \n",
      "2                 NaN       False  \n",
      "3                 NaN       False  \n",
      "4                 NaN       False  \n",
      "5                 NaN       False  \n",
      "6                 NaN       False  \n",
      "7                 NaN       False  \n",
      "8                 NaN       False  \n",
      "9                 NaN       False  \n",
      "\n",
      "[10 rows x 22 columns]\n"
     ]
    }
   ],
   "execution_count": 16
  },
  {
   "metadata": {
    "id": "642d9fe7e2d900ee"
   },
   "cell_type": "markdown",
   "source": [
    "Данная функция ищет данные об **analyzes_names** пациентов из таблиц **blood_csv.csv** и **get_data_from**,\n",
    "комбинирует их вместе с **merge_with**. Стоит отметить, что эта функция также комбинирует данные о болезни каждого пациента."
   ],
   "id": "642d9fe7e2d900ee"
  },
  {
   "metadata": {
    "id": "7794ec7b56b7d829"
   },
   "cell_type": "markdown",
   "source": [
    "#### Балансировка данных внутри каждого пациента:"
   ],
   "id": "7794ec7b56b7d829"
  },
  {
   "metadata": {
    "id": "4d3eb325929789aa",
    "ExecuteTime": {
     "end_time": "2024-06-16T10:55:53.294511Z",
     "start_time": "2024-06-16T10:55:16.468039Z"
    }
   },
   "cell_type": "code",
   "source": [
    "df_balanced = ss.balance_on_patients(balancing_csv='merged_data.csv', disease_col='has_sepsis', subject_id_col='subject_id',\n",
    "                        output_csv='balance.csv',\n",
    "                        output_filtered_csv='balance_filtered.csv',\n",
    "                        filtering_on=200,\n",
    "                        number_of_patient_selected=50000,\n",
    "                        log_stats=True\n",
    "                        )\n",
    "print(df_balanced.head(10))"
   ],
   "id": "4d3eb325929789aa",
   "outputs": [
    {
     "name": "stderr",
     "output_type": "stream",
     "text": [
      "/Users/artemij/miniconda3/lib/python3.12/site-packages/sickness_screening/balance_on_patients.py:29: DtypeWarning: Columns (3,6,7) have mixed types. Specify dtype option on import or set low_memory=False.\n",
      "  df = pd.read_csv(balancing_csv)\n"
     ]
    },
    {
     "name": "stdout",
     "output_type": "stream",
     "text": [
      "In filtered dataset:\n",
      "Unique patients with disease: 4731\n",
      "Unique patients without disease: 1492\n",
      "Number of lines for patients with disease: 2589267\n",
      "Number of lines for patients without disease: 588962\n",
      "\n",
      "In original dataset\n",
      "Number of lines for patients with disease: 3185562\n",
      "Number of lines for patients without disease: 1470456\n",
      "      subject_id            charttime Alanine Aminotransferase (ALT) Amylase  \\\n",
      "1662    10002428  2154-08-12 12:10:00                            NaN     NaN   \n",
      "1663    10002428  2154-10-18 11:00:00                             32     NaN   \n",
      "1664    10002428  2155-07-14 17:50:00                            NaN     NaN   \n",
      "1665    10002428  2155-07-15 08:05:00                            NaN     NaN   \n",
      "1666    10002428  2155-10-17 12:45:00                            NaN     NaN   \n",
      "1667    10002428  2156-04-05 13:08:00                             29      48   \n",
      "1668    10002428  2156-04-12 10:20:00                             26     NaN   \n",
      "1669    10002428  2156-04-12 17:25:00                            NaN     NaN   \n",
      "1670    10002428  2156-04-12 17:26:00                            NaN     NaN   \n",
      "1671    10002428  2156-04-12 17:30:00                            NaN     NaN   \n",
      "\n",
      "     Asparate Aminotransferase (AST) Hemoglobin Large Platelets  \\\n",
      "1662                             NaN       11.8             NaN   \n",
      "1663                              35        NaN             NaN   \n",
      "1664                             NaN       11.4             NaN   \n",
      "1665                             NaN       11.8             NaN   \n",
      "1666                             NaN       12.1             NaN   \n",
      "1667                              31       11.2             NaN   \n",
      "1668                              30       11.6             NaN   \n",
      "1669                             NaN        NaN             NaN   \n",
      "1670                             NaN        NaN             NaN   \n",
      "1671                             NaN        NaN             NaN   \n",
      "\n",
      "     Red Blood Cell White Blood Cells  Direct Bilirubin_x  ...  \\\n",
      "1662           3.72               7.8                 NaN  ...   \n",
      "1663            NaN               NaN                 NaN  ...   \n",
      "1664           3.48              12.0                 NaN  ...   \n",
      "1665           3.62               6.0                 NaN  ...   \n",
      "1666           3.79               8.7                 NaN  ...   \n",
      "1667           3.58              13.1                 NaN  ...   \n",
      "1668           3.76              20.2                 NaN  ...   \n",
      "1669            NaN               NaN                 NaN  ...   \n",
      "1670            NaN               NaN                 NaN  ...   \n",
      "1671            NaN               NaN                 NaN  ...   \n",
      "\n",
      "     Asparate Aminotransferase (AST)_valueuom Hemoglobin_valueuom  \\\n",
      "1662                                      NaN                g/dL   \n",
      "1663                                     IU/L                 NaN   \n",
      "1664                                      NaN                g/dL   \n",
      "1665                                      NaN                g/dL   \n",
      "1666                                      NaN                g/dL   \n",
      "1667                                     IU/L                g/dL   \n",
      "1668                                     IU/L                g/dL   \n",
      "1669                                      NaN                 NaN   \n",
      "1670                                      NaN                 NaN   \n",
      "1671                                      NaN                 NaN   \n",
      "\n",
      "     Red Blood Cell_valueuom White Blood Cells_valueuom  \\\n",
      "1662                    m/uL                       K/uL   \n",
      "1663                     NaN                        NaN   \n",
      "1664                    m/uL                       K/uL   \n",
      "1665                    m/uL                       K/uL   \n",
      "1666                    m/uL                       K/uL   \n",
      "1667                    m/uL                       K/uL   \n",
      "1668                    m/uL                       K/uL   \n",
      "1669                     NaN                        NaN   \n",
      "1670                     NaN                        NaN   \n",
      "1671                     NaN                        NaN   \n",
      "\n",
      "     Direct Bilirubin_valueuom Heart rate Respiratory rate  \\\n",
      "1662                       NaN        NaN              NaN   \n",
      "1663                       NaN        NaN              NaN   \n",
      "1664                       NaN        NaN              NaN   \n",
      "1665                       NaN        NaN              NaN   \n",
      "1666                       NaN        NaN              NaN   \n",
      "1667                       NaN        NaN              NaN   \n",
      "1668                       NaN        NaN              NaN   \n",
      "1669                       NaN        NaN              NaN   \n",
      "1670                       NaN      124.0             25.0   \n",
      "1671                       NaN      120.0             29.0   \n",
      "\n",
      "      Temperature Celsius  Direct Bilirubin_y  has_sepsis  \n",
      "1662                  NaN                 NaN        True  \n",
      "1663                  NaN                 NaN        True  \n",
      "1664                  NaN                 NaN        True  \n",
      "1665                  NaN                 NaN        True  \n",
      "1666                  NaN                 NaN        True  \n",
      "1667                  NaN                 NaN        True  \n",
      "1668                  NaN                 NaN        True  \n",
      "1669            39.388889                 NaN        True  \n",
      "1670                  NaN                 NaN        True  \n",
      "1671                  NaN                 NaN        True  \n",
      "\n",
      "[10 rows x 22 columns]\n"
     ]
    }
   ],
   "execution_count": 17
  },
  {
   "metadata": {
    "id": "ac05e972ec9bda5c"
   },
   "cell_type": "markdown",
   "source": [
    "#### Компрессия данных о каждом пациенте (если в наборе данных пропуски, то внутри каждого пациента пропуски заполнятся значением из этого пациента)\n",
    "Теперь заполним пропуски имеющимися данными для каждого пациента, не заполняя статистическими значениями или константами:"
   ],
   "id": "ac05e972ec9bda5c"
  },
  {
   "metadata": {
    "id": "28eb8c3f9dcde363",
    "ExecuteTime": {
     "end_time": "2024-06-16T11:06:49.088347Z",
     "start_time": "2024-06-16T11:05:37.165443Z"
    }
   },
   "cell_type": "code",
   "source": [
    "df_compressed = ss.compress(df_to_compress_csv='balance.csv',\n",
    "            subject_id_col='subject_id',\n",
    "            output_csv='compressed_data.csv')\n",
    "print(df_compressed.head(10))"
   ],
   "id": "28eb8c3f9dcde363",
   "outputs": [
    {
     "name": "stderr",
     "output_type": "stream",
     "text": [
      "/Users/artemij/miniconda3/lib/python3.12/site-packages/sickness_screening/compress.py:21: DtypeWarning: Columns (3,5,6,7) have mixed types. Specify dtype option on import or set low_memory=False.\n",
      "  df = pd.read_csv(df_to_compress_csv)\n"
     ]
    },
    {
     "name": "stdout",
     "output_type": "stream",
     "text": [
      "   subject_id            charttime Alanine Aminotransferase (ALT) Amylase  \\\n",
      "0    10000248  2192-11-29 19:03:00                            NaN     NaN   \n",
      "1    10000248  2192-11-29 23:00:00                            NaN     NaN   \n",
      "2    10000248  2192-11-30 07:25:00                            NaN     NaN   \n",
      "3    10000248  2192-11-30 15:25:00                            NaN     NaN   \n",
      "4    10000492  2129-08-04 13:05:00                            ___     NaN   \n",
      "5    10000683  2175-10-06 19:00:00                             29     NaN   \n",
      "6    10000826  2146-12-05 11:30:00                             71     NaN   \n",
      "7    10000826  2146-12-06 04:24:00                             56     NaN   \n",
      "8    10000826  2146-12-06 09:00:00                             46     NaN   \n",
      "9    10000826  2146-12-07 06:35:00                             46     NaN   \n",
      "\n",
      "  Asparate Aminotransferase (AST) Hemoglobin Large Platelets Red Blood Cell  \\\n",
      "0                             NaN       10.6             NaN           3.58   \n",
      "1                             NaN        9.7             NaN            3.3   \n",
      "2                             NaN        9.3             NaN           3.14   \n",
      "3                             NaN        9.9             NaN           3.27   \n",
      "4                             ___       15.1             NaN           5.87   \n",
      "5                              26       12.7             NaN           4.27   \n",
      "6                             401       13.2             NaN            3.8   \n",
      "7                             335       11.6             NaN           3.35   \n",
      "8                             223       11.6             NaN           3.35   \n",
      "9                             223       12.0             NaN           3.37   \n",
      "\n",
      "  White Blood Cells  Direct Bilirubin_x  ...  \\\n",
      "0               6.6                 NaN  ...   \n",
      "1               6.6                 NaN  ...   \n",
      "2               5.2                 NaN  ...   \n",
      "3               6.3                 NaN  ...   \n",
      "4              18.8                 NaN  ...   \n",
      "5               9.1                 NaN  ...   \n",
      "6              14.4                 NaN  ...   \n",
      "7              13.7                 NaN  ...   \n",
      "8              13.7                 NaN  ...   \n",
      "9              12.2                 NaN  ...   \n",
      "\n",
      "  Asparate Aminotransferase (AST)_valueuom Hemoglobin_valueuom  \\\n",
      "0                                      NaN                g/dL   \n",
      "1                                      NaN                g/dL   \n",
      "2                                      NaN                g/dL   \n",
      "3                                      NaN                g/dL   \n",
      "4                                     IU/L                g/dL   \n",
      "5                                     IU/L                g/dL   \n",
      "6                                     IU/L                g/dL   \n",
      "7                                     IU/L                g/dL   \n",
      "8                                     IU/L                g/dL   \n",
      "9                                     IU/L                g/dL   \n",
      "\n",
      "  Red Blood Cell_valueuom White Blood Cells_valueuom  \\\n",
      "0                    m/uL                       K/uL   \n",
      "1                    m/uL                       K/uL   \n",
      "2                    m/uL                       K/uL   \n",
      "3                    m/uL                       K/uL   \n",
      "4                    m/uL                       K/uL   \n",
      "5                    m/uL                       K/uL   \n",
      "6                    m/uL                       K/uL   \n",
      "7                    m/uL                       K/uL   \n",
      "8                    m/uL                       K/uL   \n",
      "9                    m/uL                       K/uL   \n",
      "\n",
      "  Direct Bilirubin_valueuom Heart rate Respiratory rate  Temperature Celsius  \\\n",
      "0                       NaN        NaN              NaN                  NaN   \n",
      "1                       NaN        NaN              NaN                  NaN   \n",
      "2                       NaN        NaN              NaN                  NaN   \n",
      "3                       NaN        NaN              NaN                  NaN   \n",
      "4                       NaN        NaN              NaN                  NaN   \n",
      "5                       NaN        NaN              NaN                  NaN   \n",
      "6                       NaN        NaN              NaN                  NaN   \n",
      "7                       NaN        NaN              NaN                  NaN   \n",
      "8                       NaN        NaN              NaN                  NaN   \n",
      "9                       NaN        NaN              NaN                  NaN   \n",
      "\n",
      "   Direct Bilirubin_y  has_sepsis  \n",
      "0                 NaN       False  \n",
      "1                 NaN       False  \n",
      "2                 NaN       False  \n",
      "3                 NaN       False  \n",
      "4                 NaN       False  \n",
      "5                 NaN       False  \n",
      "6                 NaN        True  \n",
      "7                 NaN        True  \n",
      "8                 NaN        True  \n",
      "9                 NaN        True  \n",
      "\n",
      "[10 rows x 22 columns]\n"
     ]
    }
   ],
   "execution_count": 3
  },
  {
   "metadata": {
    "id": "ef4036363f3e7bf6"
   },
   "cell_type": "markdown",
   "source": [
    "#### Выбрать лучших пациентов с данными для балансировки"
   ],
   "id": "ef4036363f3e7bf6"
  },
  {
   "metadata": {
    "id": "881b6a8536793015",
    "ExecuteTime": {
     "end_time": "2024-06-16T10:59:49.692610Z",
     "start_time": "2024-06-16T10:59:26.505255Z"
    }
   },
   "cell_type": "code",
   "source": [
    "df_choose = ss.choose(compressed_df_csv='compressed_data.csv',\n",
    "          output_file='final_balanced_data.csv')\n",
    "print(df_choose.head(10))"
   ],
   "id": "881b6a8536793015",
   "outputs": [
    {
     "name": "stderr",
     "output_type": "stream",
     "text": [
      "/Users/artemij/miniconda3/lib/python3.12/site-packages/sickness_screening/choose.py:23: DtypeWarning: Columns (3,5,6,7) have mixed types. Specify dtype option on import or set low_memory=False.\n",
      "  df = pd.read_csv(compressed_df_csv)\n"
     ]
    },
    {
     "name": "stdout",
     "output_type": "stream",
     "text": [
      "    subject_id            charttime Alanine Aminotransferase (ALT) Amylase  \\\n",
      "6     10000826  2146-12-05 11:30:00                             71     NaN   \n",
      "7     10000826  2146-12-06 04:24:00                             56     NaN   \n",
      "8     10000826  2146-12-06 09:00:00                             46     NaN   \n",
      "9     10000826  2146-12-07 06:35:00                             46     NaN   \n",
      "10    10000826  2146-12-08 04:55:00                             46     NaN   \n",
      "11    10000826  2146-12-09 04:50:00                             41     NaN   \n",
      "12    10000826  2146-12-10 04:50:00                             45     NaN   \n",
      "13    10000826  2146-12-11 05:00:00                             44     NaN   \n",
      "14    10000826  2146-12-12 05:10:00                             33     NaN   \n",
      "15    10000826  2146-12-17 09:47:00                             45     NaN   \n",
      "\n",
      "   Asparate Aminotransferase (AST) Hemoglobin Large Platelets Red Blood Cell  \\\n",
      "6                              401       13.2             NaN            3.8   \n",
      "7                              335       11.6             NaN           3.35   \n",
      "8                              223       11.6             NaN           3.35   \n",
      "9                              223       12.0             NaN           3.37   \n",
      "10                             187       12.8             NaN           3.67   \n",
      "11                             158       12.2             NaN           3.52   \n",
      "12                             144       12.0             NaN           3.37   \n",
      "13                             131       12.6             NaN           3.54   \n",
      "14                             100       11.3             NaN           3.19   \n",
      "15                             165       13.0             NaN           3.86   \n",
      "\n",
      "   White Blood Cells  Direct Bilirubin_x  ...  \\\n",
      "6               14.4                 NaN  ...   \n",
      "7               13.7                 NaN  ...   \n",
      "8               13.7                 NaN  ...   \n",
      "9               12.2                 NaN  ...   \n",
      "10              11.6                 NaN  ...   \n",
      "11              11.5                 NaN  ...   \n",
      "12              12.2                 NaN  ...   \n",
      "13              12.3                 NaN  ...   \n",
      "14              12.1                 NaN  ...   \n",
      "15              26.2                 NaN  ...   \n",
      "\n",
      "   Asparate Aminotransferase (AST)_valueuom Hemoglobin_valueuom  \\\n",
      "6                                      IU/L                g/dL   \n",
      "7                                      IU/L                g/dL   \n",
      "8                                      IU/L                g/dL   \n",
      "9                                      IU/L                g/dL   \n",
      "10                                     IU/L                g/dL   \n",
      "11                                     IU/L                g/dL   \n",
      "12                                     IU/L                g/dL   \n",
      "13                                     IU/L                g/dL   \n",
      "14                                     IU/L                g/dL   \n",
      "15                                     IU/L                g/dL   \n",
      "\n",
      "   Red Blood Cell_valueuom White Blood Cells_valueuom  \\\n",
      "6                     m/uL                       K/uL   \n",
      "7                     m/uL                       K/uL   \n",
      "8                     m/uL                       K/uL   \n",
      "9                     m/uL                       K/uL   \n",
      "10                    m/uL                       K/uL   \n",
      "11                    m/uL                       K/uL   \n",
      "12                    m/uL                       K/uL   \n",
      "13                    m/uL                       K/uL   \n",
      "14                    m/uL                       K/uL   \n",
      "15                    m/uL                       K/uL   \n",
      "\n",
      "   Direct Bilirubin_valueuom Heart rate Respiratory rate  Temperature Celsius  \\\n",
      "6                        NaN        NaN              NaN                  NaN   \n",
      "7                        NaN        NaN              NaN                  NaN   \n",
      "8                        NaN        NaN              NaN                  NaN   \n",
      "9                        NaN        NaN              NaN                  NaN   \n",
      "10                       NaN        NaN              NaN                  NaN   \n",
      "11                       NaN        NaN              NaN                  NaN   \n",
      "12                       NaN        NaN              NaN                  NaN   \n",
      "13                       NaN        NaN              NaN                  NaN   \n",
      "14                       NaN        NaN              NaN                  NaN   \n",
      "15                       NaN        NaN              NaN                  NaN   \n",
      "\n",
      "    Direct Bilirubin_y  has_sepsis  \n",
      "6                  NaN        True  \n",
      "7                  NaN        True  \n",
      "8                  NaN        True  \n",
      "9                  NaN        True  \n",
      "10                 NaN        True  \n",
      "11                 NaN        True  \n",
      "12                 NaN        True  \n",
      "13                 NaN        True  \n",
      "14                 NaN        True  \n",
      "15                 NaN        True  \n",
      "\n",
      "[10 rows x 22 columns]\n"
     ]
    }
   ],
   "execution_count": 21
  },
  {
   "metadata": {
    "id": "1a0b2f577acdbafc"
   },
   "cell_type": "markdown",
   "source": [
    "#### Заполнение пропущенных значений модой"
   ],
   "id": "1a0b2f577acdbafc"
  },
  {
   "metadata": {
    "id": "da4e30e96a9e7778",
    "ExecuteTime": {
     "end_time": "2024-06-16T11:00:26.155960Z",
     "start_time": "2024-06-16T10:59:49.693497Z"
    }
   },
   "cell_type": "code",
   "source": [
    "df_filled = ss.fill_values(balanced_csv='final_balanced_data.csv',\n",
    "               strategy='most_frequent',\n",
    "               output_csv='filled_data.csv')\n",
    "print(df_filled.head(10))"
   ],
   "id": "da4e30e96a9e7778",
   "outputs": [
    {
     "name": "stderr",
     "output_type": "stream",
     "text": [
      "/Users/artemij/miniconda3/lib/python3.12/site-packages/sickness_screening/fill_values.py:24: DtypeWarning: Columns (3,5,6,7) have mixed types. Specify dtype option on import or set low_memory=False.\n",
      "  df = pd.read_csv(balanced_csv)\n"
     ]
    },
    {
     "name": "stdout",
     "output_type": "stream",
     "text": [
      "  subject_id            charttime Alanine Aminotransferase (ALT) Amylase  \\\n",
      "0   10000826  2146-12-05 11:30:00                             71    49.0   \n",
      "1   10000826  2146-12-06 04:24:00                             56    49.0   \n",
      "2   10000826  2146-12-06 09:00:00                             46    49.0   \n",
      "3   10000826  2146-12-07 06:35:00                             46    49.0   \n",
      "4   10000826  2146-12-08 04:55:00                             46    49.0   \n",
      "5   10000826  2146-12-09 04:50:00                             41    49.0   \n",
      "6   10000826  2146-12-10 04:50:00                             45    49.0   \n",
      "7   10000826  2146-12-11 05:00:00                             44    49.0   \n",
      "8   10000826  2146-12-12 05:10:00                             33    49.0   \n",
      "9   10000826  2146-12-17 09:47:00                             45    49.0   \n",
      "\n",
      "  Asparate Aminotransferase (AST) Hemoglobin Large Platelets Red Blood Cell  \\\n",
      "0                             401       13.2               A            3.8   \n",
      "1                             335       11.6               A           3.35   \n",
      "2                             223       11.6               A           3.35   \n",
      "3                             223       12.0               A           3.37   \n",
      "4                             187       12.8               A           3.67   \n",
      "5                             158       12.2               A           3.52   \n",
      "6                             144       12.0               A           3.37   \n",
      "7                             131       12.6               A           3.54   \n",
      "8                             100       11.3               A           3.19   \n",
      "9                             165       13.0               A           3.86   \n",
      "\n",
      "  White Blood Cells Direct Bilirubin_x  ...  \\\n",
      "0              14.4                0.2  ...   \n",
      "1              13.7                0.2  ...   \n",
      "2              13.7                0.2  ...   \n",
      "3              12.2                0.2  ...   \n",
      "4              11.6                0.2  ...   \n",
      "5              11.5                0.2  ...   \n",
      "6              12.2                0.2  ...   \n",
      "7              12.3                0.2  ...   \n",
      "8              12.1                0.2  ...   \n",
      "9              26.2                0.2  ...   \n",
      "\n",
      "  Asparate Aminotransferase (AST)_valueuom Hemoglobin_valueuom  \\\n",
      "0                                     IU/L                g/dL   \n",
      "1                                     IU/L                g/dL   \n",
      "2                                     IU/L                g/dL   \n",
      "3                                     IU/L                g/dL   \n",
      "4                                     IU/L                g/dL   \n",
      "5                                     IU/L                g/dL   \n",
      "6                                     IU/L                g/dL   \n",
      "7                                     IU/L                g/dL   \n",
      "8                                     IU/L                g/dL   \n",
      "9                                     IU/L                g/dL   \n",
      "\n",
      "  Red Blood Cell_valueuom White Blood Cells_valueuom  \\\n",
      "0                    m/uL                       K/uL   \n",
      "1                    m/uL                       K/uL   \n",
      "2                    m/uL                       K/uL   \n",
      "3                    m/uL                       K/uL   \n",
      "4                    m/uL                       K/uL   \n",
      "5                    m/uL                       K/uL   \n",
      "6                    m/uL                       K/uL   \n",
      "7                    m/uL                       K/uL   \n",
      "8                    m/uL                       K/uL   \n",
      "9                    m/uL                       K/uL   \n",
      "\n",
      "  Direct Bilirubin_valueuom Heart rate Respiratory rate Temperature Celsius  \\\n",
      "0                     mg/dL       80.0             18.0           36.666667   \n",
      "1                     mg/dL       80.0             18.0           36.666667   \n",
      "2                     mg/dL       80.0             18.0           36.666667   \n",
      "3                     mg/dL       80.0             18.0           36.666667   \n",
      "4                     mg/dL       80.0             18.0           36.666667   \n",
      "5                     mg/dL       80.0             18.0           36.666667   \n",
      "6                     mg/dL       80.0             18.0           36.666667   \n",
      "7                     mg/dL       80.0             18.0           36.666667   \n",
      "8                     mg/dL       80.0             18.0           36.666667   \n",
      "9                     mg/dL       80.0             18.0           36.666667   \n",
      "\n",
      "  Direct Bilirubin_y has_sepsis  \n",
      "0                0.2       True  \n",
      "1                0.2       True  \n",
      "2                0.2       True  \n",
      "3                0.2       True  \n",
      "4                0.2       True  \n",
      "5                0.2       True  \n",
      "6                0.2       True  \n",
      "7                0.2       True  \n",
      "8                0.2       True  \n",
      "9                0.2       True  \n",
      "\n",
      "[10 rows x 22 columns]\n"
     ]
    }
   ],
   "execution_count": 22
  },
  {
   "metadata": {
    "id": "8eb99b70898bed9f"
   },
   "cell_type": "markdown",
   "source": [
    "#### Тренировка модели на наборе данных"
   ],
   "id": "8eb99b70898bed9f"
  },
  {
   "metadata": {
    "id": "480a982068be96df",
    "ExecuteTime": {
     "end_time": "2024-06-16T11:13:48.830584Z",
     "start_time": "2024-06-16T11:09:46.691670Z"
    }
   },
   "cell_type": "code",
   "source": [
    "import sickness_screening as ss\n",
    "from sklearn.ensemble import RandomForestClassifier\n",
    "from sklearn.preprocessing import MinMaxScaler\n",
    "model = ss.train_model(df_to_train_csv='filled_data.csv',\n",
    "                       categorical_col=['Large Platelets'],\n",
    "                       columns_to_train_on=['Amylase','Hemoglobin', 'Red Blood Cell',  'White Blood Cells'],\n",
    "                       model=RandomForestClassifier(),\n",
    "                       single_cat_column='White Blood Cells',\n",
    "                       has_disease_col='has_sepsis',\n",
    "                       subject_id_col='subject_id',\n",
    "                       valueuom_col='valueuom',\n",
    "                       scaler=MinMaxScaler(),\n",
    "                       random_state=42,\n",
    "                       test_size=0.2)"
   ],
   "id": "480a982068be96df",
   "outputs": [
    {
     "name": "stderr",
     "output_type": "stream",
     "text": [
      "/Users/artemij/miniconda3/lib/python3.12/site-packages/sickness_screening/train_model.py:52: DtypeWarning: Columns (8) have mixed types. Specify dtype option on import or set low_memory=False.\n",
      "  df = pd.read_csv(df_to_train_csv)\n"
     ]
    },
    {
     "name": "stdout",
     "output_type": "stream",
     "text": [
      "Accuracy: 0.6798091924792186\n",
      "Classification Report:\n",
      "               precision    recall  f1-score   support\n",
      "\n",
      "       False       0.39      0.30      0.34    249601\n",
      "        True       0.76      0.82      0.79    665038\n",
      "\n",
      "    accuracy                           0.68    914639\n",
      "   macro avg       0.57      0.56      0.56    914639\n",
      "weighted avg       0.66      0.68      0.67    914639\n",
      "\n"
     ]
    }
   ],
   "execution_count": 5
  },
  {
   "metadata": {
    "id": "4dd5473b1103339a"
   },
   "cell_type": "markdown",
   "source": [
    "В этой функции мы обучаем **RandomForestClassifier** из scikit-learn на наборе данных с одной категориальной колонкой, с одной числовой колонкой\n",
    "и с одной категориальной колонкой, которую можно преобразовать в числовую. В качестве метода нормализации используется **MinMaxScaler** из scikit-learn."
   ],
   "id": "4dd5473b1103339a"
  },
  {
   "metadata": {
    "id": "bbb38f1e20087299"
   },
   "cell_type": "markdown",
   "source": [
    "#### Например, можно вставить такие модели, как CatBoostClassifier или SVC с разными ядрами\n",
    "CatBoostClassifier:"
   ],
   "id": "bbb38f1e20087299"
  },
  {
   "metadata": {
    "id": "6f3e000b38c9cb28"
   },
   "cell_type": "code",
   "outputs": [],
   "execution_count": null,
   "source": [
    "class_weights = {0: 1, 1: 15}\n",
    "clf = CatBoostClassifier(loss_function='MultiClassOneVsAll', class_weights=class_weights, iterations=50, learning_rate=0.1, depth=5)\n",
    "clf.fit(X_train, y_train)"
   ],
   "id": "6f3e000b38c9cb28"
  },
  {
   "metadata": {
    "id": "b79e6aaa11daf85e"
   },
   "cell_type": "markdown",
   "source": [
    "SVC с использованием гауссова ядра с радиальной базовой функцией (RBF):"
   ],
   "id": "b79e6aaa11daf85e"
  },
  {
   "metadata": {
    "id": "cbff6ee9cc23798a"
   },
   "cell_type": "code",
   "outputs": [],
   "execution_count": null,
   "source": [
    "class_weights = {0: 1, 1: 13}\n",
    "param_dist = {\n",
    "    'C': reciprocal(0.1, 100),\n",
    "    'gamma': reciprocal(0.01, 10),\n",
    "    'kernel': ['rbf']\n",
    "}\n",
    "\n",
    "svm_model = SVC(class_weight=class_weights, random_state=42)\n",
    "random_search = RandomizedSearchCV(\n",
    "    svm_model,\n",
    "    param_distributions=param_dist,\n",
    "    n_iter=10,\n",
    "    cv=5,\n",
    "    scoring=make_scorer(recall_score, pos_label=1),\n",
    "    n_jobs=-1\n",
    ")"
   ],
   "id": "cbff6ee9cc23798a"
  },
  {
   "cell_type": "markdown",
   "source": [
    "### Использование трансформера TabNet"
   ],
   "metadata": {
    "id": "gq__6y53YXXC"
   },
   "id": "gq__6y53YXXC"
  },
  {
   "cell_type": "markdown",
   "source": [
    "Соберем датасет на основе признаков из MEWS:\n",
    "*   Систолическое артериальное давление\n",
    "*   Частота сердцебиения\n",
    "*   Частота дыхательных движений\n",
    "*   Температура"
   ],
   "metadata": {
    "id": "6TIcXpLlY8wJ"
   },
   "id": "6TIcXpLlY8wJ"
  },
  {
   "cell_type": "code",
   "source": [
    "item_ids = [str(x) for x in [225309, 220045, 220210, 223762]]\n",
    "file_path = './MIMIC/icu/chartevents.csv'\n",
    "output_path = 'df.csv'\n",
    "\n",
    "ss.process_chartevents(file_path, output_path, item_ids)"
   ],
   "metadata": {
    "id": "KErEPdIhYWt1"
   },
   "id": "KErEPdIhYWt1",
   "execution_count": null,
   "outputs": []
  },
  {
   "cell_type": "markdown",
   "source": [
    "Добавим таргет к нашему датасету - болен человек или нет"
   ],
   "metadata": {
    "id": "vd3WZrQjZLZQ"
   },
   "id": "vd3WZrQjZLZQ"
  },
  {
   "cell_type": "code",
   "source": [
    "drgcodes_path = './MIMIC/hosp/drgcodes.csv'\n",
    "merged_data_path = './df.csv'\n",
    "output_path = 'df_with_target.csv'\n",
    "\n",
    "ss.add_diagnosis_column(drgcodes_path, merged_data_path, output_path)"
   ],
   "metadata": {
    "id": "fLrXZnnIY8Ua"
   },
   "id": "fLrXZnnIY8Ua",
   "execution_count": null,
   "outputs": []
  },
  {
   "cell_type": "markdown",
   "source": [
    "Заполним пропуски"
   ],
   "metadata": {
    "id": "4DEBCLBIcCDB"
   },
   "id": "4DEBCLBIcCDB"
  },
  {
   "cell_type": "code",
   "source": [
    "input_path = 'df_with_target.csv'\n",
    "output_path = 'df_with_target_imputed.csv'\n",
    "features = ['225309', '220045', '220210', '223762']\n",
    "\n",
    "ss.impute_data(input_path, output_path, features)"
   ],
   "metadata": {
    "id": "Dprz7dZpcGzL"
   },
   "id": "Dprz7dZpcGzL",
   "execution_count": null,
   "outputs": []
  },
  {
   "cell_type": "markdown",
   "source": [
    "Разделим наш датасет на тренировочную и тестовую выборки. Затем сбалансируем тренировочный набор данных"
   ],
   "metadata": {
    "id": "TZMpedhzcWQE"
   },
   "id": "TZMpedhzcWQE"
  },
  {
   "cell_type": "code",
   "source": [
    "input_path = 'df_with_target_imputed.csv'\n",
    "test_size = 0.4\n",
    "random_state = 42\n",
    "features = ['225309', '220045', '220210', '223762']\n",
    "target = 'SepsisLabel'\n",
    "resampled_output_path = 'train_data_MEWS.csv'\n",
    "test_output_path = 'test_data.csv'\n",
    "\n",
    "df_resampled, test_data = ss.prepare_and_save_data(input_path, test_size, random_state, features, target, resampled_output_path, test_output_path)"
   ],
   "metadata": {
    "id": "keh18FvDcS1o"
   },
   "id": "keh18FvDcS1o",
   "execution_count": null,
   "outputs": []
  },
  {
   "cell_type": "code",
   "source": [
    "import pandas as pd"
   ],
   "metadata": {
    "id": "Hk7YGa8jc7Uu"
   },
   "id": "Hk7YGa8jc7Uu",
   "execution_count": 4,
   "outputs": []
  },
  {
   "cell_type": "code",
   "source": [
    "df = pd.read_csv('/content/drive/MyDrive/Лаба ML/transformers/train_data_MEWS.csv')"
   ],
   "metadata": {
    "id": "h1llnzBGcyoW"
   },
   "id": "h1llnzBGcyoW",
   "execution_count": 5,
   "outputs": []
  },
  {
   "cell_type": "markdown",
   "source": [
    "Проверим, что у нас нет дисбаланса в данных"
   ],
   "metadata": {
    "id": "mHe1MkrvdBhY"
   },
   "id": "mHe1MkrvdBhY"
  },
  {
   "cell_type": "code",
   "source": [
    "print(sum(df['diagnosis'] == 0))\n",
    "print(sum(df['diagnosis'] == 1))"
   ],
   "metadata": {
    "colab": {
     "base_uri": "https://localhost:8080/"
    },
    "id": "BsUeySqedBPU",
    "outputId": "607542d1-9b2c-4065-e8a7-b933b27c847f"
   },
   "id": "BsUeySqedBPU",
   "execution_count": 6,
   "outputs": [
    {
     "output_type": "stream",
     "name": "stdout",
     "text": [
      "27249\n",
      "27249\n"
     ]
    }
   ]
  },
  {
   "cell_type": "markdown",
   "source": [
    "Разделим тестовый набор данных на валидационную и тестовую выборки, и сбалансируем их"
   ],
   "metadata": {
    "id": "wt50jn6vdboF"
   },
   "id": "wt50jn6vdboF"
  },
  {
   "cell_type": "code",
   "source": [
    "input_path = 'test_data.csv'\n",
    "test_size = 0.4\n",
    "random_state = 42\n",
    "features = ['225309', '220045', '220210', '223762']\n",
    "target = 'diagnosis'\n",
    "test_output_path = 'test_resampled_data.csv'\n",
    "val_output_path = 'val_resampled_data.csv'\n",
    "\n",
    "ss.resample_test_val_data(input_path, test_size, random_state, features, target, test_output_path, val_output_path)"
   ],
   "metadata": {
    "id": "XZxxsaD5eNHc"
   },
   "id": "XZxxsaD5eNHc",
   "execution_count": null,
   "outputs": []
  },
  {
   "cell_type": "markdown",
   "source": [
    "Проверим, что в валидационном и тестовом наборах не дисбаланса классов"
   ],
   "metadata": {
    "id": "jbVLO57PeYR7"
   },
   "id": "jbVLO57PeYR7"
  },
  {
   "cell_type": "code",
   "source": [
    "df = pd.read_csv('/content/drive/MyDrive/Лаба ML/transformers/val_resampled_data_MEWS.csv')"
   ],
   "metadata": {
    "id": "cBR8ASZUeQDw"
   },
   "id": "cBR8ASZUeQDw",
   "execution_count": 8,
   "outputs": []
  },
  {
   "cell_type": "code",
   "source": [
    "print(sum(df['diagnosis'] == 0))\n",
    "print(sum(df['diagnosis'] == 1))"
   ],
   "metadata": {
    "colab": {
     "base_uri": "https://localhost:8080/"
    },
    "id": "O8IezN-geinN",
    "outputId": "0e5443a4-c89a-4233-8d6a-e9dfaa39ac06"
   },
   "id": "O8IezN-geinN",
   "execution_count": 9,
   "outputs": [
    {
     "output_type": "stream",
     "name": "stdout",
     "text": [
      "9128\n",
      "9128\n"
     ]
    }
   ]
  },
  {
   "cell_type": "code",
   "source": [
    "df = pd.read_csv('/content/drive/MyDrive/Лаба ML/transformers/test_resampled_data_MEWS.csv')"
   ],
   "metadata": {
    "id": "GDVG7xEwekdb"
   },
   "id": "GDVG7xEwekdb",
   "execution_count": 10,
   "outputs": []
  },
  {
   "cell_type": "code",
   "source": [
    "print(sum(df['diagnosis'] == 0))\n",
    "print(sum(df['diagnosis'] == 1))"
   ],
   "metadata": {
    "colab": {
     "base_uri": "https://localhost:8080/"
    },
    "id": "w4x8x1fVemmj",
    "outputId": "5941c88c-7163-4f29-dcd6-2ea34606228f"
   },
   "id": "w4x8x1fVemmj",
   "execution_count": 11,
   "outputs": [
    {
     "output_type": "stream",
     "name": "stdout",
     "text": [
      "9065\n",
      "9065\n"
     ]
    }
   ]
  },
  {
   "cell_type": "markdown",
   "source": [
    "Далее обучим модель с выбранными гиперпараметрами, сохраним важность признаков"
   ],
   "metadata": {
    "id": "DvznalgSevNw"
   },
   "id": "DvznalgSevNw"
  },
  {
   "cell_type": "code",
   "source": [
    "train_path = '/content/drive/MyDrive/Лаба ML/transformers/train_data_MEWS.csv'\n",
    "val_path = '/content/drive/MyDrive/Лаба ML/transformers/val_resampled_data_MEWS.csv'\n",
    "feature_importances_path = 'fimp.txt'\n",
    "model_save_path = './tabnet_model_test_1'\n",
    "optimizer_params = dict(lr=0.05)\n",
    "scheduler_params = {\n",
    "    \"milestones\": [10, 20, 30],\n",
    "    \"gamma\": 0.9\n",
    "}\n",
    "\n",
    "ss.train_tabnet_model(train_path, val_path, feature_importances_path, model_save_path, optimizer_params, scheduler_params, pretraining_lr=0.05, training_lr=0.05, mask_type='sparsemax', pretraining_ratio=1.0, max_epochs=200, patience=50)"
   ],
   "metadata": {
    "colab": {
     "base_uri": "https://localhost:8080/"
    },
    "id": "nzILP4IAeoLx",
    "outputId": "3b679dc0-d1cb-4d76-a0a2-4ce48ce7057a"
   },
   "id": "nzILP4IAeoLx",
   "execution_count": 15,
   "outputs": [
    {
     "output_type": "stream",
     "name": "stderr",
     "text": [
      "/usr/local/lib/python3.10/dist-packages/pytorch_tabnet/abstract_model.py:82: UserWarning: Device used : cpu\n",
      "  warnings.warn(f\"Device used : {self.device}\")\n"
     ]
    },
    {
     "output_type": "stream",
     "name": "stdout",
     "text": [
      "epoch 0  | loss: 36.84088| val_0_unsup_loss_numpy: 3.5068378504386677e+28|  0:00:05s\n"
     ]
    },
    {
     "output_type": "stream",
     "name": "stderr",
     "text": [
      "/usr/local/lib/python3.10/dist-packages/pytorch_tabnet/metrics.py:59: RuntimeWarning: overflow encountered in square\n",
      "  reconstruction_errors = np.multiply(errors, obf_vars) ** 2\n",
      "/usr/local/lib/python3.10/dist-packages/numpy/core/_methods.py:118: RuntimeWarning: overflow encountered in reduce\n",
      "  ret = umr_sum(arr, axis, dtype, out, keepdims, where=where)\n"
     ]
    },
    {
     "output_type": "stream",
     "name": "stdout",
     "text": [
      "epoch 1  | loss: 1.14778 | val_0_unsup_loss_numpy: inf     |  0:00:12s\n",
      "epoch 2  | loss: 1.02261 | val_0_unsup_loss_numpy: inf     |  0:00:17s\n",
      "epoch 3  | loss: 1.02943 | val_0_unsup_loss_numpy: inf     |  0:00:23s\n",
      "epoch 4  | loss: 1.00712 | val_0_unsup_loss_numpy: inf     |  0:00:29s\n",
      "epoch 5  | loss: 1.00862 | val_0_unsup_loss_numpy: inf     |  0:00:35s\n",
      "epoch 6  | loss: 1.01511 | val_0_unsup_loss_numpy: inf     |  0:00:42s\n",
      "epoch 7  | loss: 1.00804 | val_0_unsup_loss_numpy: inf     |  0:00:46s\n",
      "epoch 8  | loss: 1.00626 | val_0_unsup_loss_numpy: inf     |  0:00:49s\n",
      "epoch 9  | loss: 1.01127 | val_0_unsup_loss_numpy: inf     |  0:00:52s\n",
      "epoch 10 | loss: 1.00864 | val_0_unsup_loss_numpy: inf     |  0:00:59s\n",
      "\n",
      "Early stopping occurred at epoch 10 with best_epoch = 0 and best_val_0_unsup_loss_numpy = 3.5068378504386677e+28\n"
     ]
    },
    {
     "output_type": "stream",
     "name": "stderr",
     "text": [
      "/usr/local/lib/python3.10/dist-packages/pytorch_tabnet/callbacks.py:172: UserWarning: Best weights from best epoch are automatically used!\n",
      "  warnings.warn(wrn_msg)\n",
      "/usr/local/lib/python3.10/dist-packages/pytorch_tabnet/abstract_model.py:82: UserWarning: Device used : cpu\n",
      "  warnings.warn(f\"Device used : {self.device}\")\n",
      "/usr/local/lib/python3.10/dist-packages/pytorch_tabnet/abstract_model.py:248: UserWarning: Loading weights from unsupervised pretraining\n",
      "  warnings.warn(\"Loading weights from unsupervised pretraining\")\n"
     ]
    },
    {
     "output_type": "stream",
     "name": "stdout",
     "text": [
      "epoch 0  | loss: 0.68239 | val_0_auc: 0.40864 |  0:00:04s\n",
      "epoch 1  | loss: 0.66268 | val_0_auc: 0.50556 |  0:00:09s\n",
      "epoch 2  | loss: 0.65959 | val_0_auc: 0.54186 |  0:00:16s\n",
      "epoch 3  | loss: 0.65933 | val_0_auc: 0.57439 |  0:00:19s\n",
      "epoch 4  | loss: 0.65824 | val_0_auc: 0.59443 |  0:00:22s\n",
      "epoch 5  | loss: 0.65685 | val_0_auc: 0.59336 |  0:00:29s\n",
      "epoch 6  | loss: 0.65488 | val_0_auc: 0.5931  |  0:00:34s\n",
      "epoch 7  | loss: 0.65557 | val_0_auc: 0.58179 |  0:00:40s\n",
      "epoch 8  | loss: 0.653   | val_0_auc: 0.59108 |  0:00:45s\n",
      "epoch 9  | loss: 0.65346 | val_0_auc: 0.58355 |  0:00:48s\n",
      "epoch 10 | loss: 0.65359 | val_0_auc: 0.58407 |  0:00:50s\n",
      "epoch 11 | loss: 0.6532  | val_0_auc: 0.5923  |  0:00:53s\n",
      "epoch 12 | loss: 0.65292 | val_0_auc: 0.59004 |  0:00:59s\n",
      "epoch 13 | loss: 0.65234 | val_0_auc: 0.58173 |  0:01:05s\n",
      "epoch 14 | loss: 0.65362 | val_0_auc: 0.58971 |  0:01:10s\n",
      "epoch 15 | loss: 0.65249 | val_0_auc: 0.59169 |  0:01:17s\n",
      "epoch 16 | loss: 0.65185 | val_0_auc: 0.5866  |  0:01:21s\n",
      "epoch 17 | loss: 0.65275 | val_0_auc: 0.5902  |  0:01:26s\n",
      "epoch 18 | loss: 0.65159 | val_0_auc: 0.59212 |  0:01:32s\n",
      "epoch 19 | loss: 0.65072 | val_0_auc: 0.58464 |  0:01:35s\n",
      "epoch 20 | loss: 0.65094 | val_0_auc: 0.58929 |  0:01:37s\n",
      "epoch 21 | loss: 0.65039 | val_0_auc: 0.5899  |  0:01:40s\n",
      "epoch 22 | loss: 0.65054 | val_0_auc: 0.58857 |  0:01:48s\n",
      "epoch 23 | loss: 0.65021 | val_0_auc: 0.58798 |  0:01:55s\n",
      "epoch 24 | loss: 0.65029 | val_0_auc: 0.59272 |  0:02:03s\n",
      "epoch 25 | loss: 0.6507  | val_0_auc: 0.58284 |  0:02:07s\n",
      "epoch 26 | loss: 0.65049 | val_0_auc: 0.58859 |  0:02:09s\n",
      "epoch 27 | loss: 0.65059 | val_0_auc: 0.57542 |  0:02:12s\n",
      "epoch 28 | loss: 0.65052 | val_0_auc: 0.59448 |  0:02:16s\n",
      "epoch 29 | loss: 0.65004 | val_0_auc: 0.58895 |  0:02:20s\n",
      "epoch 30 | loss: 0.64936 | val_0_auc: 0.59028 |  0:02:23s\n",
      "epoch 31 | loss: 0.64871 | val_0_auc: 0.57929 |  0:02:26s\n",
      "epoch 32 | loss: 0.65005 | val_0_auc: 0.58745 |  0:02:29s\n",
      "epoch 33 | loss: 0.65028 | val_0_auc: 0.59014 |  0:02:36s\n",
      "epoch 34 | loss: 0.65106 | val_0_auc: 0.58387 |  0:02:42s\n",
      "epoch 35 | loss: 0.64947 | val_0_auc: 0.58522 |  0:02:49s\n",
      "epoch 36 | loss: 0.65004 | val_0_auc: 0.58368 |  0:02:53s\n",
      "epoch 37 | loss: 0.64986 | val_0_auc: 0.59045 |  0:02:56s\n",
      "epoch 38 | loss: 0.65493 | val_0_auc: 0.587   |  0:02:59s\n",
      "epoch 39 | loss: 0.65596 | val_0_auc: 0.58543 |  0:03:03s\n",
      "epoch 40 | loss: 0.65232 | val_0_auc: 0.58081 |  0:03:06s\n",
      "epoch 41 | loss: 0.65157 | val_0_auc: 0.5878  |  0:03:09s\n",
      "epoch 42 | loss: 0.65033 | val_0_auc: 0.58369 |  0:03:12s\n",
      "epoch 43 | loss: 0.6502  | val_0_auc: 0.59122 |  0:03:15s\n",
      "epoch 44 | loss: 0.64984 | val_0_auc: 0.57402 |  0:03:19s\n",
      "epoch 45 | loss: 0.64924 | val_0_auc: 0.58935 |  0:03:22s\n",
      "epoch 46 | loss: 0.64999 | val_0_auc: 0.5828  |  0:03:25s\n",
      "epoch 47 | loss: 0.64989 | val_0_auc: 0.58658 |  0:03:28s\n",
      "epoch 48 | loss: 0.65008 | val_0_auc: 0.58718 |  0:03:32s\n",
      "epoch 49 | loss: 0.64818 | val_0_auc: 0.58805 |  0:03:39s\n",
      "epoch 50 | loss: 0.64983 | val_0_auc: 0.5928  |  0:03:48s\n",
      "epoch 51 | loss: 0.64947 | val_0_auc: 0.5797  |  0:03:51s\n",
      "epoch 52 | loss: 0.64997 | val_0_auc: 0.57756 |  0:03:54s\n",
      "epoch 53 | loss: 0.65017 | val_0_auc: 0.59274 |  0:03:57s\n",
      "epoch 54 | loss: 0.6491  | val_0_auc: 0.5895  |  0:04:00s\n",
      "epoch 55 | loss: 0.64933 | val_0_auc: 0.59016 |  0:04:04s\n",
      "epoch 56 | loss: 0.64906 | val_0_auc: 0.58243 |  0:04:07s\n",
      "epoch 57 | loss: 0.64921 | val_0_auc: 0.59155 |  0:04:10s\n",
      "epoch 58 | loss: 0.64988 | val_0_auc: 0.58703 |  0:04:13s\n",
      "epoch 59 | loss: 0.64941 | val_0_auc: 0.59365 |  0:04:16s\n",
      "epoch 60 | loss: 0.64985 | val_0_auc: 0.59152 |  0:04:20s\n",
      "epoch 61 | loss: 0.65089 | val_0_auc: 0.58277 |  0:04:23s\n",
      "epoch 62 | loss: 0.6492  | val_0_auc: 0.58332 |  0:04:26s\n",
      "epoch 63 | loss: 0.64859 | val_0_auc: 0.58927 |  0:04:29s\n",
      "epoch 64 | loss: 0.65049 | val_0_auc: 0.58463 |  0:04:33s\n",
      "epoch 65 | loss: 0.64962 | val_0_auc: 0.58883 |  0:04:36s\n",
      "epoch 66 | loss: 0.64951 | val_0_auc: 0.58997 |  0:04:39s\n",
      "epoch 67 | loss: 0.64871 | val_0_auc: 0.59399 |  0:04:42s\n",
      "epoch 68 | loss: 0.64936 | val_0_auc: 0.58249 |  0:04:45s\n",
      "epoch 69 | loss: 0.649   | val_0_auc: 0.58277 |  0:04:49s\n",
      "epoch 70 | loss: 0.64856 | val_0_auc: 0.58751 |  0:04:52s\n",
      "epoch 71 | loss: 0.64921 | val_0_auc: 0.59033 |  0:04:55s\n",
      "epoch 72 | loss: 0.64867 | val_0_auc: 0.58589 |  0:04:58s\n",
      "epoch 73 | loss: 0.64892 | val_0_auc: 0.58771 |  0:05:01s\n",
      "epoch 74 | loss: 0.64953 | val_0_auc: 0.58752 |  0:05:05s\n",
      "epoch 75 | loss: 0.64973 | val_0_auc: 0.58794 |  0:05:08s\n",
      "epoch 76 | loss: 0.64972 | val_0_auc: 0.59151 |  0:05:11s\n",
      "epoch 77 | loss: 0.651   | val_0_auc: 0.5845  |  0:05:14s\n",
      "epoch 78 | loss: 0.65016 | val_0_auc: 0.59004 |  0:05:18s\n",
      "\n",
      "Early stopping occurred at epoch 78 with best_epoch = 28 and best_val_0_auc = 0.59448\n"
     ]
    },
    {
     "output_type": "stream",
     "name": "stderr",
     "text": [
      "/usr/local/lib/python3.10/dist-packages/pytorch_tabnet/callbacks.py:172: UserWarning: Best weights from best epoch are automatically used!\n",
      "  warnings.warn(wrn_msg)\n"
     ]
    },
    {
     "output_type": "stream",
     "name": "stdout",
     "text": [
      "Successfully saved model at ./tabnet_model_test_1.zip\n"
     ]
    }
   ]
  },
  {
   "cell_type": "markdown",
   "source": [
    "Посмотрим на важность признаков в трансформера"
   ],
   "metadata": {
    "id": "7dWYB2XWfdCS"
   },
   "id": "7dWYB2XWfdCS"
  },
  {
   "cell_type": "code",
   "source": [
    "file_path = '/content/fimp.txt'\n",
    "\n",
    "with open(file_path, 'r') as file:\n",
    "    content = file.read()\n",
    "    print(content)"
   ],
   "metadata": {
    "colab": {
     "base_uri": "https://localhost:8080/"
    },
    "id": "myW3us52fheq",
    "outputId": "d86ff6c0-e4fc-40bd-ee40-5f94c906edb8"
   },
   "id": "myW3us52fheq",
   "execution_count": 16,
   "outputs": [
    {
     "output_type": "stream",
     "name": "stdout",
     "text": [
      "[0.23699013 0.32132814 0.26303686 0.17864487]\n"
     ]
    }
   ]
  },
  {
   "cell_type": "markdown",
   "source": [
    "Визуализируем важность признаков"
   ],
   "metadata": {
    "id": "1NS6MS7Cgpfd"
   },
   "id": "1NS6MS7Cgpfd"
  },
  {
   "cell_type": "code",
   "source": [
    "import matplotlib.pyplot as plt\n",
    "import seaborn as sns\n",
    "\n",
    "feature_importances = [0.0, 0.29729455, 0.21506934, 0.48763611]\n",
    "\n",
    "importance_df = pd.DataFrame({'Feature': ['SBP','HR','RR','temp'], 'Importance': feature_importances})\n",
    "importance_df = importance_df.sort_values(by='Importance', ascending=False)\n",
    "\n",
    "plt.figure(figsize=(5, 3))\n",
    "sns.barplot(data=importance_df, x='Importance', y='Feature')\n",
    "plt.title('Feature Importance')\n",
    "plt.xlabel('Importance')\n",
    "plt.ylabel('Feature')\n",
    "plt.show()"
   ],
   "metadata": {
    "colab": {
     "base_uri": "https://localhost:8080/",
     "height": 333
    },
    "id": "YmoOXwlIgn41",
    "outputId": "24645237-a51b-420f-9fb0-c44637b6f7f9"
   },
   "id": "YmoOXwlIgn41",
   "execution_count": 17,
   "outputs": [
    {
     "output_type": "display_data",
     "data": {
      "text/plain": [
       "<Figure size 500x300 with 1 Axes>"
      ],
      "image/png": "[encoded data removed]"
     },
     "metadata": {}
    }
   ]
  },
  {
   "cell_type": "markdown",
   "source": [
    "Посмотрим метрики на тестовой выборке"
   ],
   "metadata": {
    "id": "to6zTwryg1rs"
   },
   "id": "to6zTwryg1rs"
  },
  {
   "cell_type": "code",
   "source": [
    "model_path = \"./tabnet_model_test_1.zip\"\n",
    "test_data_path = '/content/drive/MyDrive/Лаба ML/transformers/test_resampled_data_MEWS.csv'\n",
    "metrics_output_path = \"metrics.txt\"\n",
    "\n",
    "ss.evaluate_tabnet_model(model_path, test_data_path, metrics_output_path)"
   ],
   "metadata": {
    "colab": {
     "base_uri": "https://localhost:8080/"
    },
    "id": "dYggrl_2gvFo",
    "outputId": "05b743bd-e201-48f5-8f68-8f9031a17a30"
   },
   "id": "dYggrl_2gvFo",
   "execution_count": 18,
   "outputs": [
    {
     "output_type": "stream",
     "name": "stderr",
     "text": [
      "/usr/local/lib/python3.10/dist-packages/pytorch_tabnet/abstract_model.py:82: UserWarning: Device used : cpu\n",
      "  warnings.warn(f\"Device used : {self.device}\")\n"
     ]
    }
   ]
  },
  {
   "cell_type": "code",
   "source": [
    "file_path = '/content/metrics.txt'\n",
    "\n",
    "with open(file_path, 'r') as file:\n",
    "    content = file.read()\n",
    "    print(content)"
   ],
   "metadata": {
    "colab": {
     "base_uri": "https://localhost:8080/"
    },
    "id": "2LMX-UB_hETT",
    "outputId": "99c43f3c-39a7-4c29-cd0d-ae0a80974142"
   },
   "id": "2LMX-UB_hETT",
   "execution_count": 19,
   "outputs": [
    {
     "output_type": "stream",
     "name": "stdout",
     "text": [
      "Accuracy: 0.5236072807501378\n",
      "Precision: 0.5132115075935301\n",
      "Recall: 0.9170435741864313\n",
      "F1-score: 0.6581166132288327\n",
      "\n"
     ]
    }
   ]
  }
 ],
 "metadata": {
  "kernelspec": {
   "display_name": "Python 3",
   "language": "python",
   "name": "python3"
  },
  "language_info": {
   "codemirror_mode": {
    "name": "ipython",
    "version": 2
   },
   "file_extension": ".py",
   "mimetype": "text/x-python",
   "name": "python",
   "nbconvert_exporter": "python",
   "pygments_lexer": "ipython2",
   "version": "2.7.6"
  },
  "colab": {
   "provenance": []
  }
 },
 "nbformat": 4,
 "nbformat_minor": 5
}
