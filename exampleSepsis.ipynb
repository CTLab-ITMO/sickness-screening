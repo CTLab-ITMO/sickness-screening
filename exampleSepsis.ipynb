{
 "cells": [
  {
   "metadata": {},
   "cell_type": "markdown",
   "source": "# Примеры",
   "id": "8a77807f92f26ee"
  },
  {
   "metadata": {},
   "cell_type": "markdown",
   "source": "## Пример 1, обучение RandomForest выявлению сепсиса",
   "id": "65ef6aaa82cebcc1"
  },
  {
   "metadata": {},
   "cell_type": "markdown",
   "source": [
    "### Устройство MIMIC\n",
    "В примерах разберем, как с помощью модуля sickness-screening обучить модель предсказывать сепсис на наборе данных MIMIC.\n",
    "В MIMIC есть множество таблиц, но для примера нам потребуются следующие таблицы:\n",
    "1. **chartevents.csv** —— содержит данные мониторинга пациентов, например: температура тела, артериальное давление.\n",
    "2. **labevents.csv** —— содержит данные различных анализов пациентов, например различные характеристики анализов крови для пациентов.\n",
    "3. **diagnoses.csv** —— содержит информацию о диагнозах, которые получил пациент.\n",
    "4. **d_icd_diagnoses** —— расшифрофки кодов диагнозов для каждого диагноза.\n",
    "5. **d_labitems.csv** —— расшифрофки кодов анализов для каждого пациента. "
   ],
   "id": "443ec4980733332b"
  },
  {
   "metadata": {},
   "cell_type": "markdown",
   "source": "### Установим библиотеку",
   "id": "a3d38bd77cc32d6c"
  },
  {
   "metadata": {
    "ExecuteTime": {
     "end_time": "2024-06-13T13:34:09.021661Z",
     "start_time": "2024-06-13T13:34:06.077605Z"
    }
   },
   "cell_type": "code",
   "source": "!pip3 install sickness-screening",
   "id": "8242aa3d75a5756b",
   "outputs": [
    {
     "name": "stdout",
     "output_type": "stream",
     "text": [
      "Collecting sickness-screening\r\n",
      "  Downloading sickness_screening-1.0.3.tar.gz (15 kB)\r\n",
      "  Preparing metadata (setup.py) ... \u001B[?25ldone\r\n",
      "\u001B[?25hRequirement already satisfied: requests>=2.25.1 in /Users/artemij/miniconda3/lib/python3.12/site-packages (from sickness-screening) (2.31.0)\r\n",
      "Requirement already satisfied: pandas>=1.3.3 in /Users/artemij/miniconda3/lib/python3.12/site-packages (from sickness-screening) (2.2.1)\r\n",
      "Requirement already satisfied: tqdm>=4.62.3 in /Users/artemij/miniconda3/lib/python3.12/site-packages (from sickness-screening) (4.65.0)\r\n",
      "Requirement already satisfied: numpy>=1.21.2 in /Users/artemij/miniconda3/lib/python3.12/site-packages (from sickness-screening) (1.26.4)\r\n",
      "Requirement already satisfied: scikit-learn>=0.24.2 in /Users/artemij/miniconda3/lib/python3.12/site-packages (from sickness-screening) (1.4.2)\r\n",
      "Requirement already satisfied: imbalanced-learn>=0.8.0 in /Users/artemij/miniconda3/lib/python3.12/site-packages (from sickness-screening) (0.12.3)\r\n",
      "Requirement already satisfied: pytorch-tabnet>=3.1.1 in /Users/artemij/miniconda3/lib/python3.12/site-packages (from sickness-screening) (4.1.0)\r\n",
      "Requirement already satisfied: torch>=1.9.0 in /Users/artemij/miniconda3/lib/python3.12/site-packages (from sickness-screening) (2.3.1)\r\n",
      "Requirement already satisfied: nona>=0.0.2 in /Users/artemij/miniconda3/lib/python3.12/site-packages (from sickness-screening) (0.0.2)\r\n",
      "Requirement already satisfied: scipy>=1.5.0 in /Users/artemij/miniconda3/lib/python3.12/site-packages (from imbalanced-learn>=0.8.0->sickness-screening) (1.12.0)\r\n",
      "Requirement already satisfied: joblib>=1.1.1 in /Users/artemij/miniconda3/lib/python3.12/site-packages (from imbalanced-learn>=0.8.0->sickness-screening) (1.4.0)\r\n",
      "Requirement already satisfied: threadpoolctl>=2.0.0 in /Users/artemij/miniconda3/lib/python3.12/site-packages (from imbalanced-learn>=0.8.0->sickness-screening) (2.2.0)\r\n",
      "Requirement already satisfied: python-dateutil>=2.8.2 in /Users/artemij/miniconda3/lib/python3.12/site-packages (from pandas>=1.3.3->sickness-screening) (2.9.0.post0)\r\n",
      "Requirement already satisfied: pytz>=2020.1 in /Users/artemij/miniconda3/lib/python3.12/site-packages (from pandas>=1.3.3->sickness-screening) (2024.1)\r\n",
      "Requirement already satisfied: tzdata>=2022.7 in /Users/artemij/miniconda3/lib/python3.12/site-packages (from pandas>=1.3.3->sickness-screening) (2023.3)\r\n",
      "Requirement already satisfied: charset-normalizer<4,>=2 in /Users/artemij/miniconda3/lib/python3.12/site-packages (from requests>=2.25.1->sickness-screening) (2.0.4)\r\n",
      "Requirement already satisfied: idna<4,>=2.5 in /Users/artemij/miniconda3/lib/python3.12/site-packages (from requests>=2.25.1->sickness-screening) (3.4)\r\n",
      "Requirement already satisfied: urllib3<3,>=1.21.1 in /Users/artemij/miniconda3/lib/python3.12/site-packages (from requests>=2.25.1->sickness-screening) (2.1.0)\r\n",
      "Requirement already satisfied: certifi>=2017.4.17 in /Users/artemij/miniconda3/lib/python3.12/site-packages (from requests>=2.25.1->sickness-screening) (2024.6.2)\r\n",
      "Requirement already satisfied: filelock in /Users/artemij/miniconda3/lib/python3.12/site-packages (from torch>=1.9.0->sickness-screening) (3.15.1)\r\n",
      "Requirement already satisfied: typing-extensions>=4.8.0 in /Users/artemij/miniconda3/lib/python3.12/site-packages (from torch>=1.9.0->sickness-screening) (4.11.0)\r\n",
      "Requirement already satisfied: sympy in /Users/artemij/miniconda3/lib/python3.12/site-packages (from torch>=1.9.0->sickness-screening) (1.12.1)\r\n",
      "Requirement already satisfied: networkx in /Users/artemij/miniconda3/lib/python3.12/site-packages (from torch>=1.9.0->sickness-screening) (3.3)\r\n",
      "Requirement already satisfied: jinja2 in /Users/artemij/miniconda3/lib/python3.12/site-packages (from torch>=1.9.0->sickness-screening) (3.1.4)\r\n",
      "Requirement already satisfied: fsspec in /Users/artemij/miniconda3/lib/python3.12/site-packages (from torch>=1.9.0->sickness-screening) (2024.6.0)\r\n",
      "Requirement already satisfied: six>=1.5 in /Users/artemij/miniconda3/lib/python3.12/site-packages (from python-dateutil>=2.8.2->pandas>=1.3.3->sickness-screening) (1.16.0)\r\n",
      "Requirement already satisfied: MarkupSafe>=2.0 in /Users/artemij/miniconda3/lib/python3.12/site-packages (from jinja2->torch>=1.9.0->sickness-screening) (2.1.3)\r\n",
      "Requirement already satisfied: mpmath<1.4.0,>=1.1.0 in /Users/artemij/miniconda3/lib/python3.12/site-packages (from sympy->torch>=1.9.0->sickness-screening) (1.3.0)\r\n",
      "Building wheels for collected packages: sickness-screening\r\n",
      "  Building wheel for sickness-screening (setup.py) ... \u001B[?25ldone\r\n",
      "\u001B[?25h  Created wheel for sickness-screening: filename=sickness_screening-1.0.3-py3-none-any.whl size=21919 sha256=7d7c8c3bfe185b7afd77eeb2c658bb4d216fc07cd6ac31e4afc4df266fb7735b\r\n",
      "  Stored in directory: /Users/artemij/Library/Caches/pip/wheels/17/da/cf/354fd644d3b12984a940a63a0d11d97238e310c61521a358d3\r\n",
      "Successfully built sickness-screening\r\n",
      "Installing collected packages: sickness-screening\r\n",
      "Successfully installed sickness-screening-1.0.3\r\n"
     ]
    }
   ],
   "execution_count": 3
  },
  {
   "metadata": {},
   "cell_type": "markdown",
   "source": "#### Аггрегирование данных о диагнозах пациентов:",
   "id": "5ef2a462614b73f"
  },
  {
   "metadata": {},
   "cell_type": "markdown",
   "source": "##### Импортирование библиотеки",
   "id": "9b9f08848dd9a972"
  },
  {
   "metadata": {
    "ExecuteTime": {
     "end_time": "2024-06-13T13:34:15.936606Z",
     "start_time": "2024-06-13T13:34:14.184472Z"
    }
   },
   "cell_type": "code",
   "source": "import sickness_screening as ss",
   "id": "fbc121e30a2defb3",
   "outputs": [
    {
     "name": "stdout",
     "output_type": "stream",
     "text": [
      "\n"
     ]
    }
   ],
   "execution_count": 4
  },
  {
   "metadata": {},
   "cell_type": "markdown",
   "source": "#### Аггрегирование данных о диагнозах пациентов:",
   "id": "4766253efb1edee0"
  },
  {
   "metadata": {
    "ExecuteTime": {
     "end_time": "2024-06-13T13:37:52.263679Z",
     "start_time": "2024-06-13T13:37:46.894822Z"
    }
   },
   "cell_type": "code",
   "source": [
    "df_gotten_diagnoses = ss.get_diagnoses_data(patient_diagnoses_csv='diagnoses.csv', \n",
    "                 all_diagnoses_csv='d_icd_diagnoses.csv',\n",
    "                 output_file_csv='gottenDiagnoses.csv')\n",
    "print(df_gotten_diagnoses.head(30))"
   ],
   "id": "2e9a5dbd30b631d3",
   "outputs": [
    {
     "name": "stdout",
     "output_type": "stream",
     "text": [
      "    subject_id                                         long_title\n",
      "0     10000032                                Portal hypertension\n",
      "1     10000032                                      Other ascites\n",
      "2     10000032      Cirrhosis of liver without mention of alcohol\n",
      "3     10000032  Unspecified viral hepatitis C without hepatic ...\n",
      "4     10000032  Chronic airway obstruction, not elsewhere clas...\n",
      "5     10000032                      Bipolar disorder, unspecified\n",
      "6     10000032                      Posttraumatic stress disorder\n",
      "7     10000032                    Personal history of tobacco use\n",
      "8     10000032    Unspecified viral hepatitis C with hepatic coma\n",
      "9     10000032                                      Other ascites\n",
      "10    10000032                      Thrombocytopenia, unspecified\n",
      "11    10000032                  Hyposmolality and/or hyponatremia\n",
      "12    10000032  Chronic airway obstruction, not elsewhere clas...\n",
      "13    10000032      Cirrhosis of liver without mention of alcohol\n",
      "14    10000032  Asymptomatic human immunodeficiency virus [HIV...\n",
      "15    10000032                               Tobacco use disorder\n",
      "16    10000032  Chronic hepatitis C without mention of hepatic...\n",
      "17    10000032                                      Other ascites\n",
      "18    10000032  Other dependence on machines, supplemental oxygen\n",
      "19    10000032  Person on outside of car injured in collision ...\n",
      "20    10000032      Cirrhosis of liver without mention of alcohol\n",
      "21    10000032                                    Hyperpotassemia\n",
      "22    10000032                  Hyposmolality and/or hyponatremia\n",
      "23    10000032  Chronic airway obstruction, not elsewhere clas...\n",
      "24    10000032  Asymptomatic human immunodeficiency virus [HIV...\n",
      "25    10000032                               Tobacco use disorder\n",
      "26    10000032                                           Diarrhea\n",
      "27    10000032                       Other iatrogenic hypotension\n",
      "28    10000032              Chronic hepatitis C with hepatic coma\n",
      "29    10000032                                           Cachexia\n"
     ]
    }
   ],
   "execution_count": 6
  },
  {
   "metadata": {},
   "cell_type": "markdown",
   "source": [
    "Здесь мы для каждого пациента из **patient_diagnoses_csv** получаем коды диагнозов, а далее, используя **all_diagnoses_csv** \n",
    "мы уже получаем файл **output_file_csv** в котором для каждого пациента уже хранится расшифровка его диагноза. "
   ],
   "id": "fc72cfb1d4a28f79"
  },
  {
   "metadata": {},
   "cell_type": "markdown",
   "source": "#### Получение данных о том, есть ли конкретный диагноз у пациента",
   "id": "3ed8fc0836ca66e8"
  },
  {
   "metadata": {
    "ExecuteTime": {
     "end_time": "2024-06-13T13:38:45.895847Z",
     "start_time": "2024-06-13T13:38:41.841335Z"
    }
   },
   "cell_type": "code",
   "source": [
    "df_sepsis_info = ss.get_diseas_info(diagnoses_csv='gottenDiagnoses.csv', title_column='long_title', diseas_str='sepsis',\n",
    "                    diseas_column='has_sepsis', subject_id_column='subject_id', log_stats=True,\n",
    "                    output_csv='sepsis_info.csv')\n",
    "print(df_sepsis_info.head(30))"
   ],
   "id": "8d48aaf526225a1c",
   "outputs": [
    {
     "name": "stdout",
     "output_type": "stream",
     "text": [
      "Всего пациентов: 193256\n",
      "Всего пациентов с сепсисом: 12616\n",
      "     subject_id  has_sepsis\n",
      "0      10000032       False\n",
      "41     10000068       False\n",
      "42     10000084       False\n",
      "54     10000108       False\n",
      "56     10000117       False\n",
      "78     10000248       False\n",
      "84     10000280       False\n",
      "85     10000560       False\n",
      "88     10000635       False\n",
      "91     10000719       False\n",
      "97     10000764       False\n",
      "116    10000826       False\n",
      "131    10000826        True\n",
      "147    10000883       False\n",
      "152    10000886       False\n",
      "153    10000904       False\n",
      "154    10000935       False\n",
      "236    10000980       False\n",
      "376    10001176       False\n",
      "393    10001186       False\n",
      "416    10001217       False\n",
      "434    10001319       False\n",
      "443    10001338       False\n",
      "465    10001401       False\n",
      "511    10001401        True\n",
      "569    10001472       False\n",
      "581    10001492       False\n",
      "585    10001663       False\n",
      "587    10001667       False\n",
      "600    10001725       False\n"
     ]
    }
   ],
   "execution_count": 7
  },
  {
   "metadata": {},
   "cell_type": "markdown",
   "source": [
    "Здесь используем таблицу, которую мы получили из предыдущего примера, чтобы на выходе получить таблицу, в которой содержатся данные о том,\n",
    "был ли у этого человека в диагнозе продстрока sepsis, или нет. "
   ],
   "id": "f38253adf1bc9e20"
  },
  {
   "metadata": {},
   "cell_type": "markdown",
   "source": "#### Аггрегирование данных, необходимых для нахождения ССВР (синдром системной воспалительной рекции)",
   "id": "2a9367b0937f6d32"
  },
  {
   "metadata": {},
   "cell_type": "markdown",
   "source": "Теперь соберем некоторые данные, необходимые для определения ССВР:",
   "id": "b7a602b05f5e4599"
  },
  {
   "metadata": {
    "ExecuteTime": {
     "end_time": "2024-06-13T13:54:09.109830Z",
     "start_time": "2024-06-13T13:50:18.106720Z"
    }
   },
   "cell_type": "code",
   "source": [
    "df_ssir = ss.get_analyzes_data(analyzes_csv='chartevents.csv', subject_id_col='subject_id', itemid_col='itemid',\n",
    "                      charttime_col='charttime', value_col='value', valuenum_col='valuenum',\n",
    "                      itemids=[220045, 220210, 223762, 223761, 225651], rest_columns=['Heart rate', 'Respiratory rate', 'Temperature Fahrenheit', 'Temperature Celsius',\n",
    "                        'Direct Bilirubin', 'Heart rate_valueuom', 'Respiratory rate_valueuom',\n",
    "                        'Temperature Fahrenheit_valueuom', 'Temperature Celsius_valueuom', 'Direct Bilirubin_valueuom'], output_csv='ssir.csv')\n",
    "print(df_ssir.head(30))"
   ],
   "id": "f401e12c075cb3f4",
   "outputs": [
    {
     "name": "stdout",
     "output_type": "stream",
     "text": [
      "    subject_id            charttime Heart rate Respiratory rate  \\\n",
      "0     10000032  2180-07-23 14:00:00        NaN              NaN   \n",
      "1     10000032  2180-07-23 14:12:00         91               24   \n",
      "2     10000032  2180-07-23 14:30:00         93               21   \n",
      "3     10000032  2180-07-23 15:00:00         94               23   \n",
      "4     10000032  2180-07-23 16:00:00        105               21   \n",
      "5     10000032  2180-07-23 17:00:00         97               20   \n",
      "6     10000032  2180-07-23 18:00:00        100               21   \n",
      "7     10000032  2180-07-23 19:00:00         97               16   \n",
      "8     10000032  2180-07-23 20:00:00        100               19   \n",
      "9     10000032  2180-07-23 21:00:00         94               22   \n",
      "10    10000032  2180-07-23 22:00:00         94               20   \n",
      "11    10000980  2189-06-27 08:54:00        NaN               23   \n",
      "12    10000980  2189-06-27 08:56:00         77              NaN   \n",
      "13    10000980  2189-06-27 09:00:00        NaN               24   \n",
      "14    10000980  2189-06-27 09:04:00         75              NaN   \n",
      "15    10000980  2189-06-27 09:07:00        NaN              NaN   \n",
      "16    10000980  2189-06-27 10:00:00         73               14   \n",
      "17    10000980  2189-06-27 11:00:00         74               24   \n",
      "18    10000980  2189-06-27 12:00:00         75               19   \n",
      "19    10000980  2189-06-27 13:00:00         73               25   \n",
      "20    10000980  2189-06-27 14:00:00         70               23   \n",
      "21    10000980  2189-06-27 15:00:00         68              NaN   \n",
      "22    10000980  2189-06-27 15:04:00        NaN               15   \n",
      "23    10000980  2189-06-27 16:00:00         76               17   \n",
      "24    10000980  2189-06-27 17:00:00         80               21   \n",
      "25    10000980  2189-06-27 18:00:00         69               21   \n",
      "26    10001217  2157-11-20 19:19:00         86               18   \n",
      "27    10001217  2157-11-20 19:31:00        NaN              NaN   \n",
      "28    10001217  2157-11-20 20:00:00         91               24   \n",
      "29    10001217  2157-11-20 21:00:00         95               25   \n",
      "\n",
      "   Temperature Fahrenheit Temperature Celsius Direct Bilirubin  \\\n",
      "0                    98.7                 NaN              NaN   \n",
      "1                     NaN                 NaN              NaN   \n",
      "2                     NaN                 NaN              NaN   \n",
      "3                     NaN                 NaN              NaN   \n",
      "4                     NaN                 NaN              NaN   \n",
      "5                    98.7                 NaN              NaN   \n",
      "6                     NaN                 NaN              NaN   \n",
      "7                     NaN                 NaN              NaN   \n",
      "8                    99.5                 NaN              NaN   \n",
      "9                     NaN                 NaN              NaN   \n",
      "10                    NaN                 NaN              NaN   \n",
      "11                    NaN                 NaN              NaN   \n",
      "12                    NaN                 NaN              NaN   \n",
      "13                    NaN                 NaN              NaN   \n",
      "14                    NaN                 NaN              NaN   \n",
      "15                     98                 NaN              NaN   \n",
      "16                    NaN                 NaN              NaN   \n",
      "17                    NaN                 NaN              NaN   \n",
      "18                   97.7                 NaN              NaN   \n",
      "19                    NaN                 NaN              NaN   \n",
      "20                    NaN                 NaN              NaN   \n",
      "21                    NaN                 NaN              NaN   \n",
      "22                    NaN                 NaN              NaN   \n",
      "23                   98.7                 NaN              NaN   \n",
      "24                    NaN                 NaN              NaN   \n",
      "25                    NaN                 NaN              NaN   \n",
      "26                    NaN                 NaN              NaN   \n",
      "27                   98.5                 NaN              NaN   \n",
      "28                    NaN                 NaN              NaN   \n",
      "29                    NaN                 NaN              NaN   \n",
      "\n",
      "   Heart rate_valueuom Respiratory rate_valueuom  \\\n",
      "0                  NaN                       NaN   \n",
      "1                  bpm                  insp/min   \n",
      "2                  bpm                  insp/min   \n",
      "3                  bpm                  insp/min   \n",
      "4                  bpm                  insp/min   \n",
      "5                  bpm                  insp/min   \n",
      "6                  bpm                  insp/min   \n",
      "7                  bpm                  insp/min   \n",
      "8                  bpm                  insp/min   \n",
      "9                  bpm                  insp/min   \n",
      "10                 bpm                  insp/min   \n",
      "11                 NaN                  insp/min   \n",
      "12                 bpm                       NaN   \n",
      "13                 NaN                  insp/min   \n",
      "14                 bpm                       NaN   \n",
      "15                 NaN                       NaN   \n",
      "16                 bpm                  insp/min   \n",
      "17                 bpm                  insp/min   \n",
      "18                 bpm                  insp/min   \n",
      "19                 bpm                  insp/min   \n",
      "20                 bpm                  insp/min   \n",
      "21                 bpm                       NaN   \n",
      "22                 NaN                  insp/min   \n",
      "23                 bpm                  insp/min   \n",
      "24                 bpm                  insp/min   \n",
      "25                 bpm                  insp/min   \n",
      "26                 bpm                  insp/min   \n",
      "27                 NaN                       NaN   \n",
      "28                 bpm                  insp/min   \n",
      "29                 bpm                  insp/min   \n",
      "\n",
      "   Temperature Fahrenheit_valueuom Temperature Celsius_valueuom  \\\n",
      "0                               °F                          NaN   \n",
      "1                              NaN                          NaN   \n",
      "2                              NaN                          NaN   \n",
      "3                              NaN                          NaN   \n",
      "4                              NaN                          NaN   \n",
      "5                               °F                          NaN   \n",
      "6                              NaN                          NaN   \n",
      "7                              NaN                          NaN   \n",
      "8                               °F                          NaN   \n",
      "9                              NaN                          NaN   \n",
      "10                             NaN                          NaN   \n",
      "11                             NaN                          NaN   \n",
      "12                             NaN                          NaN   \n",
      "13                             NaN                          NaN   \n",
      "14                             NaN                          NaN   \n",
      "15                              °F                          NaN   \n",
      "16                             NaN                          NaN   \n",
      "17                             NaN                          NaN   \n",
      "18                              °F                          NaN   \n",
      "19                             NaN                          NaN   \n",
      "20                             NaN                          NaN   \n",
      "21                             NaN                          NaN   \n",
      "22                             NaN                          NaN   \n",
      "23                              °F                          NaN   \n",
      "24                             NaN                          NaN   \n",
      "25                             NaN                          NaN   \n",
      "26                             NaN                          NaN   \n",
      "27                              °F                          NaN   \n",
      "28                             NaN                          NaN   \n",
      "29                             NaN                          NaN   \n",
      "\n",
      "   Direct Bilirubin_valueuom  \n",
      "0                        NaN  \n",
      "1                        NaN  \n",
      "2                        NaN  \n",
      "3                        NaN  \n",
      "4                        NaN  \n",
      "5                        NaN  \n",
      "6                        NaN  \n",
      "7                        NaN  \n",
      "8                        NaN  \n",
      "9                        NaN  \n",
      "10                       NaN  \n",
      "11                       NaN  \n",
      "12                       NaN  \n",
      "13                       NaN  \n",
      "14                       NaN  \n",
      "15                       NaN  \n",
      "16                       NaN  \n",
      "17                       NaN  \n",
      "18                       NaN  \n",
      "19                       NaN  \n",
      "20                       NaN  \n",
      "21                       NaN  \n",
      "22                       NaN  \n",
      "23                       NaN  \n",
      "24                       NaN  \n",
      "25                       NaN  \n",
      "26                       NaN  \n",
      "27                       NaN  \n",
      "28                       NaN  \n",
      "29                       NaN  \n"
     ]
    }
   ],
   "execution_count": 12
  },
  {
   "metadata": {},
   "cell_type": "markdown",
   "source": [
    "Здесь мы используя таблицу **analyzes_csv**, **itemids**(коды анализов, которые мы хотим собрать), **rest_columns**(колонки, которые мы хотим оставить в выходной таблице),\n",
    "Фунукция собирает из analyzes_csv замеры для пациентов с кодами **itemids** и записать их в **output_csv**, оставив только колонки, которые есть в **rest_columns**\n",
    "В данной функции **subject_id_col** и **itemid_col** отвечают за колонки, отведенные под коды пациентов и анализов соответсвенно.\n",
    "**charttime_col** отвечает за время. **valuenum_col** отвечает за колонку с единицами измерения анализов. "
   ],
   "id": "e3975e5312f11bc4"
  },
  {
   "metadata": {},
   "cell_type": "markdown",
   "source": "#### Комбинирование данных о диагнозах и ССВР",
   "id": "e4f0a9851801da1"
  },
  {
   "metadata": {
    "ExecuteTime": {
     "end_time": "2024-06-13T13:55:30.449069Z",
     "start_time": "2024-06-13T13:54:48.618003Z"
    }
   },
   "cell_type": "code",
   "source": [
    "df_combined = ss.combine_data(first_data_csv='gottenDiagnoses.csv', \n",
    "                              second_data_csv='ssir.csv',\n",
    "                              output_file='diagnoses_and_ssir.csv')\n",
    "print(df_combined.head(30))"
   ],
   "id": "b5956880108e9ac5",
   "outputs": [
    {
     "name": "stdout",
     "output_type": "stream",
     "text": [
      "Correct number of patients with sepsis: 12616\n",
      "Unique patients with sepsis predictions: 9751\n",
      "Unique patients without sepsis predictions: 41163\n",
      "Patients with both sepsis and no sepsis records: 6\n",
      "Total unique patients: 50920\n",
      "    subject_id            charttime  Heart rate  Respiratory rate  \\\n",
      "0     10000032  2180-07-23 14:00:00         NaN               NaN   \n",
      "1     10000032  2180-07-23 14:12:00        91.0              24.0   \n",
      "2     10000032  2180-07-23 14:30:00        93.0              21.0   \n",
      "3     10000032  2180-07-23 15:00:00        94.0              23.0   \n",
      "4     10000032  2180-07-23 16:00:00       105.0              21.0   \n",
      "5     10000032  2180-07-23 17:00:00        97.0              20.0   \n",
      "6     10000032  2180-07-23 18:00:00       100.0              21.0   \n",
      "7     10000032  2180-07-23 19:00:00        97.0              16.0   \n",
      "8     10000032  2180-07-23 20:00:00       100.0              19.0   \n",
      "9     10000032  2180-07-23 21:00:00        94.0              22.0   \n",
      "10    10000032  2180-07-23 22:00:00        94.0              20.0   \n",
      "11    10000980  2189-06-27 08:54:00         NaN              23.0   \n",
      "12    10000980  2189-06-27 08:56:00        77.0               NaN   \n",
      "13    10000980  2189-06-27 09:00:00         NaN              24.0   \n",
      "14    10000980  2189-06-27 09:04:00        75.0               NaN   \n",
      "15    10000980  2189-06-27 09:07:00         NaN               NaN   \n",
      "16    10000980  2189-06-27 10:00:00        73.0              14.0   \n",
      "17    10000980  2189-06-27 11:00:00        74.0              24.0   \n",
      "18    10000980  2189-06-27 12:00:00        75.0              19.0   \n",
      "19    10000980  2189-06-27 13:00:00        73.0              25.0   \n",
      "20    10000980  2189-06-27 14:00:00        70.0              23.0   \n",
      "21    10000980  2189-06-27 15:00:00        68.0               NaN   \n",
      "22    10000980  2189-06-27 15:04:00         NaN              15.0   \n",
      "23    10000980  2189-06-27 16:00:00        76.0              17.0   \n",
      "24    10000980  2189-06-27 17:00:00        80.0              21.0   \n",
      "25    10000980  2189-06-27 18:00:00        69.0              21.0   \n",
      "26    10001217  2157-11-20 19:19:00        86.0              18.0   \n",
      "27    10001217  2157-11-20 19:31:00         NaN               NaN   \n",
      "28    10001217  2157-11-20 20:00:00        91.0              24.0   \n",
      "29    10001217  2157-11-20 21:00:00        95.0              25.0   \n",
      "\n",
      "    Temperature Celsius  Direct Bilirubin has_sepsis  \n",
      "0             37.055556               NaN      False  \n",
      "1                   NaN               NaN      False  \n",
      "2                   NaN               NaN      False  \n",
      "3                   NaN               NaN      False  \n",
      "4                   NaN               NaN      False  \n",
      "5             37.055556               NaN      False  \n",
      "6                   NaN               NaN      False  \n",
      "7                   NaN               NaN      False  \n",
      "8             37.500000               NaN      False  \n",
      "9                   NaN               NaN      False  \n",
      "10                  NaN               NaN      False  \n",
      "11                  NaN               NaN      False  \n",
      "12                  NaN               NaN      False  \n",
      "13                  NaN               NaN      False  \n",
      "14                  NaN               NaN      False  \n",
      "15            36.666667               NaN      False  \n",
      "16                  NaN               NaN      False  \n",
      "17                  NaN               NaN      False  \n",
      "18            36.500000               NaN      False  \n",
      "19                  NaN               NaN      False  \n",
      "20                  NaN               NaN      False  \n",
      "21                  NaN               NaN      False  \n",
      "22                  NaN               NaN      False  \n",
      "23            37.055556               NaN      False  \n",
      "24                  NaN               NaN      False  \n",
      "25                  NaN               NaN      False  \n",
      "26                  NaN               NaN      False  \n",
      "27            36.944444               NaN      False  \n",
      "28                  NaN               NaN      False  \n",
      "29                  NaN               NaN      False  \n"
     ]
    }
   ],
   "execution_count": 13
  },
  {
   "metadata": {},
   "cell_type": "markdown",
   "source": [
    "#### Сбор и комбинирование данных об анализах крови, с данными об диагнозах и ССВР\n",
    "Соберем данные об анализах крови пациентов и скомбинируем их в одну таблицу:"
   ],
   "id": "57cabba6b17d5c0e"
  },
  {
   "metadata": {
    "jupyter": {
     "is_executing": true
    },
    "ExecuteTime": {
     "start_time": "2024-06-13T13:55:48.955444Z"
    }
   },
   "cell_type": "code",
   "source": [
    "df_merged = ss.merge_and_get_data(merge_with='diagnoses_and_ssir.csv', \n",
    "                      blood_csv='labevents.csv',\n",
    "                      get_data_from='chartevents.csv',\n",
    "                      output_csv='merged_data.csv',\n",
    "                      analyzes_names = {\n",
    "                        51222: \"Hemoglobin\",\n",
    "                        51279: \"Red Blood Cell\",\n",
    "                        51240: \"Large Platelets\",\n",
    "                        50861: \"Alanine Aminotransferase (ALT)\",\n",
    "                        50878: \"Asparate Aminotransferase (AST)\",\n",
    "                        225651: \"Direct Bilirubin\",\n",
    "                        50867: \"Amylase\",\n",
    "                        51301: \"White Blood Cells\"})\n",
    "print(df_merged.head(30))"
   ],
   "id": "1785984ab394406d",
   "outputs": [
    {
     "name": "stderr",
     "output_type": "stream",
     "text": [
      "/Users/artemij/miniconda3/lib/python3.12/site-packages/sickness_screening/merge_and_get_data.py:65: DtypeWarning: Columns (6) have mixed types. Specify dtype option on import or set low_memory=False.\n",
      "  diagnoses_and_ssir = pd.read_csv(merge_with)\n"
     ]
    }
   ],
   "execution_count": null
  },
  {
   "metadata": {},
   "cell_type": "markdown",
   "source": [
    "Данная функция ищет данные об **analyzes_names** пациентов из таблиц **blood_csv.csv** и **get_data_from**, \n",
    "комбинирует их вместе с **merge_with**. Стоит отметить, что эта функция также комбинирует данные о болезни каждого пациента. "
   ],
   "id": "642d9fe7e2d900ee"
  },
  {
   "metadata": {},
   "cell_type": "markdown",
   "source": "#### Балансировка данных внутри каждого пациента:",
   "id": "7794ec7b56b7d829"
  },
  {
   "metadata": {
    "jupyter": {
     "is_executing": true
    }
   },
   "cell_type": "code",
   "source": [
    "df_balanced = ss.balance_on_patients(balancing_csv='merged_data.csv', disease_col='has_sepsis', subject_id_col='subject_id',\n",
    "                        output_csv='balance.csv',\n",
    "                        output_filtered_csv='balance_filtered.csv',\n",
    "                        filtering_on=200,\n",
    "                        number_of_patient_selected=50000,\n",
    "                        log_stats=True\n",
    "                        )\n",
    "print(df_balanced.head(30))"
   ],
   "id": "4d3eb325929789aa",
   "outputs": [],
   "execution_count": null
  },
  {
   "metadata": {},
   "cell_type": "markdown",
   "source": [
    "#### Компрессия данных о каждом пациенте (если в наборе данных пропуски, то внутри каждого пациента пропуски заполнятся значением из этого пациента)\n",
    "Теперь заполним пропуски имеющимися данными для каждого пациента, не заполняя статистическими значениями или константами:"
   ],
   "id": "ac05e972ec9bda5c"
  },
  {
   "metadata": {
    "jupyter": {
     "is_executing": true
    }
   },
   "cell_type": "code",
   "source": [
    "df_compressed = ss.compress(df_to_compress='balanced_data.csv', \n",
    "            subject_id_col='subject_id',\n",
    "            output_csv='compressed_data.csv')"
   ],
   "id": "28eb8c3f9dcde363",
   "outputs": [],
   "execution_count": null
  },
  {
   "metadata": {},
   "cell_type": "markdown",
   "source": "#### Выбрать лучших пациентов с данными для балансировки",
   "id": "ef4036363f3e7bf6"
  },
  {
   "metadata": {
    "jupyter": {
     "is_executing": true
    }
   },
   "cell_type": "code",
   "source": [
    "df_choose = ss.choose(compressed_df_csv='compressed_data.csv', \n",
    "          output_file='final_balanced_data.csv')"
   ],
   "id": "881b6a8536793015",
   "outputs": [],
   "execution_count": null
  },
  {
   "metadata": {},
   "cell_type": "markdown",
   "source": "#### Заполнение пропущенных значений модой",
   "id": "1a0b2f577acdbafc"
  },
  {
   "metadata": {
    "jupyter": {
     "is_executing": true
    }
   },
   "cell_type": "code",
   "source": [
    "ss.fill_values(balanced_csv='final_balanced_data.csv', \n",
    "               strategy='most_frequent', \n",
    "               output_csv='filled_data.csv')"
   ],
   "id": "da4e30e96a9e7778",
   "outputs": [],
   "execution_count": null
  },
  {
   "metadata": {},
   "cell_type": "markdown",
   "source": "#### Тренировка модели на наборе данных",
   "id": "8eb99b70898bed9f"
  },
  {
   "metadata": {
    "jupyter": {
     "is_executing": true
    }
   },
   "cell_type": "code",
   "source": [
    "import sickness_screening as ss\n",
    "from sklearn.ensemble import RandomForestClassifier\n",
    "from sklearn.preprocessing import MinMaxScaler\n",
    "model = ss.train_model(df_to_train_csv='filled_data.csv', \n",
    "                       categorical_col=['Large Platelets'], \n",
    "                       columns_to_train_on=['Amylase'], \n",
    "                       model=RandomForestClassifier(),\n",
    "                       single_cat_column='White Blood Cells', \n",
    "                       has_disease_col='has_sepsis', \n",
    "                       subject_id_col='subject_id', \n",
    "                       valueuom_col='valueuom', \n",
    "                       scaler=MinMaxScaler(), \n",
    "                       random_state=42, \n",
    "                       test_size=0.2)"
   ],
   "id": "480a982068be96df",
   "outputs": [],
   "execution_count": null
  },
  {
   "metadata": {},
   "cell_type": "markdown",
   "source": [
    "В этой функции мы обучаем **RandomForestClassifier** из scikit-learn на наборе данных с одной категориальной колонкой, с одной числовой колонкой\n",
    "и с одной категориальной колонкой, которую можно преобразовать в числовую. В качестве метода нормализации используется **MinMaxScaler** из scikit-learn."
   ],
   "id": "4dd5473b1103339a"
  },
  {
   "metadata": {},
   "cell_type": "markdown",
   "source": [
    "#### Например, можно вставить такие модели, как CatBoostClassifier или SVC с разными ядрами\n",
    "CatBoostClassifier:"
   ],
   "id": "bbb38f1e20087299"
  },
  {
   "metadata": {},
   "cell_type": "code",
   "outputs": [],
   "execution_count": null,
   "source": [
    "class_weights = {0: 1, 1: 15}\n",
    "clf = CatBoostClassifier(loss_function='MultiClassOneVsAll', class_weights=class_weights, iterations=50, learning_rate=0.1, depth=5)\n",
    "clf.fit(X_train, y_train)"
   ],
   "id": "6f3e000b38c9cb28"
  },
  {
   "metadata": {},
   "cell_type": "markdown",
   "source": "SVC с использованием гауссова ядра с радиальной базовой функцией (RBF):",
   "id": "b79e6aaa11daf85e"
  },
  {
   "metadata": {},
   "cell_type": "code",
   "outputs": [],
   "execution_count": null,
   "source": [
    "class_weights = {0: 1, 1: 13}\n",
    "param_dist = {\n",
    "    'C': reciprocal(0.1, 100),\n",
    "    'gamma': reciprocal(0.01, 10),\n",
    "    'kernel': ['rbf']\n",
    "}\n",
    "\n",
    "svm_model = SVC(class_weight=class_weights, random_state=42)\n",
    "random_search = RandomizedSearchCV(\n",
    "    svm_model,\n",
    "    param_distributions=param_dist,\n",
    "    n_iter=10,\n",
    "    cv=5,\n",
    "    scoring=make_scorer(recall_score, pos_label=1),\n",
    "    n_jobs=-1\n",
    ")"
   ],
   "id": "cbff6ee9cc23798a"
  }
 ],
 "metadata": {
  "kernelspec": {
   "display_name": "Python 3",
   "language": "python",
   "name": "python3"
  },
  "language_info": {
   "codemirror_mode": {
    "name": "ipython",
    "version": 2
   },
   "file_extension": ".py",
   "mimetype": "text/x-python",
   "name": "python",
   "nbconvert_exporter": "python",
   "pygments_lexer": "ipython2",
   "version": "2.7.6"
  }
 },
 "nbformat": 4,
 "nbformat_minor": 5
}
