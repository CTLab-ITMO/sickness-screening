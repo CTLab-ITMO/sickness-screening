{
  "cells": [
    {
      "metadata": {
        "id": "65ef6aaa82cebcc1"
      },
      "cell_type": "markdown",
      "source": [
        "# Пример 2, обучение трансформера TabNet выявлению сепсиса"
      ],
      "id": "65ef6aaa82cebcc1"
    },
    {
      "cell_type": "code",
      "source": [
        "from google.colab import drive\n",
        "drive.mount('/content/drive')"
      ],
      "metadata": {
        "colab": {
          "base_uri": "https://localhost:8080/"
        },
        "id": "1MPeZ6NOXu3b",
        "outputId": "9dab8a7c-2f90-4a7a-8a54-8d7ae6232ee1"
      },
      "id": "1MPeZ6NOXu3b",
      "execution_count": 1,
      "outputs": [
        {
          "output_type": "stream",
          "name": "stdout",
          "text": [
            "Mounted at /content/drive\n"
          ]
        }
      ]
    },
    {
      "metadata": {
        "id": "443ec4980733332b"
      },
      "cell_type": "markdown",
      "source": [
        "### Устройство MIMIC\n",
        "В примерах разберем, как с помощью модуля sickness-screening обучить модель предсказывать сепсис на наборе данных MIMIC.\n",
        "В MIMIC есть множество таблиц, но для примера нам потребуются следующие таблицы:\n",
        "1. **chartevents.csv** —— содержит данные мониторинга пациентов, например: температура тела, артериальное давление.\n",
        "2. **drgcodes.csv** —— содержит информацию о диагнозах, которые получил пациент."
      ],
      "id": "443ec4980733332b"
    },
    {
      "metadata": {
        "id": "a3d38bd77cc32d6c"
      },
      "cell_type": "markdown",
      "source": [
        "### Установим библиотеку"
      ],
      "id": "a3d38bd77cc32d6c"
    },
    {
      "metadata": {
        "id": "8242aa3d75a5756b",
        "ExecuteTime": {
          "end_time": "2024-06-16T11:05:13.713377Z",
          "start_time": "2024-06-16T11:05:12.438755Z"
        }
      },
      "cell_type": "code",
      "source": [
        "!pip install sickness-screening"
      ],
      "id": "8242aa3d75a5756b",
      "outputs": [],
      "execution_count": null
    },
    {
      "metadata": {
        "id": "9b9f08848dd9a972"
      },
      "cell_type": "markdown",
      "source": [
        "##### Импортирование библиотеки"
      ],
      "id": "9b9f08848dd9a972"
    },
    {
      "metadata": {
        "id": "fbc121e30a2defb3",
        "ExecuteTime": {
          "end_time": "2024-06-19T17:24:35.055957Z",
          "start_time": "2024-06-19T17:24:33.256793Z"
        }
      },
      "cell_type": "code",
      "source": [
        "import sickness_screening as ss"
      ],
      "id": "fbc121e30a2defb3",
      "outputs": [],
      "execution_count": 3
    },
    {
      "cell_type": "markdown",
      "source": [
        "### Соберем датасет на основе признаков из MEWS:\n",
        "*   Систолическое артериальное давление\n",
        "*   Частота сердцебиения\n",
        "*   Частота дыхательных движений\n",
        "*   Температура"
      ],
      "metadata": {
        "id": "6TIcXpLlY8wJ"
      },
      "id": "6TIcXpLlY8wJ"
    },
    {
      "cell_type": "code",
      "source": [
        "item_ids = [str(x) for x in [225309, 220045, 220210, 223762]]\n",
        "file_path = './MIMIC/icu/chartevents.csv'\n",
        "output_path = 'df.csv'\n",
        "\n",
        "ss.process_chartevents(file_path, output_path, item_ids)"
      ],
      "metadata": {
        "id": "4HmCMI10Caue"
      },
      "id": "4HmCMI10Caue",
      "execution_count": null,
      "outputs": []
    },
    {
      "cell_type": "markdown",
      "source": [
        "Добавим таргет к нашему датасету - болен человек или нет"
      ],
      "metadata": {
        "id": "vd3WZrQjZLZQ"
      },
      "id": "vd3WZrQjZLZQ"
    },
    {
      "cell_type": "code",
      "source": [
        "drgcodes_path = './MIMIC/hosp/drgcodes.csv'\n",
        "merged_data_path = './df.csv'\n",
        "output_path = 'df_with_target.csv'\n",
        "\n",
        "ss.add_diagnosis_column(drgcodes_path, merged_data_path, output_path)"
      ],
      "metadata": {
        "id": "fLrXZnnIY8Ua"
      },
      "id": "fLrXZnnIY8Ua",
      "execution_count": null,
      "outputs": []
    },
    {
      "cell_type": "markdown",
      "source": [
        "### Заполним пропуски"
      ],
      "metadata": {
        "id": "4DEBCLBIcCDB"
      },
      "id": "4DEBCLBIcCDB"
    },
    {
      "cell_type": "code",
      "source": [
        "input_path = 'df_with_target.csv'\n",
        "output_path = 'df_with_target_imputed.csv'\n",
        "features = ['225309', '220045', '220210', '223762']\n",
        "\n",
        "ss.impute_data(input_path, output_path, features)"
      ],
      "metadata": {
        "id": "Dprz7dZpcGzL"
      },
      "id": "Dprz7dZpcGzL",
      "execution_count": null,
      "outputs": []
    },
    {
      "cell_type": "markdown",
      "source": [
        "### Разделим наш датасет на тренировочную и тестовую выборки. Затем сбалансируем тренировочный набор данных"
      ],
      "metadata": {
        "id": "TZMpedhzcWQE"
      },
      "id": "TZMpedhzcWQE"
    },
    {
      "cell_type": "code",
      "source": [
        "input_path = 'df_with_target_imputed.csv'\n",
        "test_size = 0.4\n",
        "random_state = 42\n",
        "features = ['225309', '220045', '220210', '223762']\n",
        "target = 'SepsisLabel'\n",
        "resampled_output_path = 'train_data_MEWS.csv'\n",
        "test_output_path = 'test_data.csv'\n",
        "\n",
        "df_resampled, test_data = ss.prepare_and_save_data(input_path, test_size, random_state, features, target, resampled_output_path, test_output_path)"
      ],
      "metadata": {
        "id": "keh18FvDcS1o"
      },
      "id": "keh18FvDcS1o",
      "execution_count": null,
      "outputs": []
    },
    {
      "cell_type": "code",
      "source": [
        "import pandas as pd"
      ],
      "metadata": {
        "id": "Hk7YGa8jc7Uu"
      },
      "id": "Hk7YGa8jc7Uu",
      "execution_count": 5,
      "outputs": []
    },
    {
      "cell_type": "code",
      "source": [
        "df = pd.read_csv('/content/drive/MyDrive/Лаба ML/transformers/train_data_MEWS.csv')"
      ],
      "metadata": {
        "id": "h1llnzBGcyoW"
      },
      "id": "h1llnzBGcyoW",
      "execution_count": 6,
      "outputs": []
    },
    {
      "cell_type": "markdown",
      "source": [
        "Проверим, что у нас нет дисбаланса в данных"
      ],
      "metadata": {
        "id": "mHe1MkrvdBhY"
      },
      "id": "mHe1MkrvdBhY"
    },
    {
      "cell_type": "code",
      "source": [
        "print(sum(df['diagnosis'] == 0))\n",
        "print(sum(df['diagnosis'] == 1))"
      ],
      "metadata": {
        "colab": {
          "base_uri": "https://localhost:8080/"
        },
        "id": "BsUeySqedBPU",
        "outputId": "7c55d234-a059-4b52-f82b-a4a05a5f6b83"
      },
      "id": "BsUeySqedBPU",
      "execution_count": 7,
      "outputs": [
        {
          "output_type": "stream",
          "name": "stdout",
          "text": [
            "27249\n",
            "27249\n"
          ]
        }
      ]
    },
    {
      "cell_type": "markdown",
      "source": [
        "### Разделим тестовый набор данных на валидационную и тестовую выборки, и сбалансируем их"
      ],
      "metadata": {
        "id": "wt50jn6vdboF"
      },
      "id": "wt50jn6vdboF"
    },
    {
      "cell_type": "code",
      "source": [
        "input_path = 'test_data.csv'\n",
        "test_size = 0.4\n",
        "random_state = 42\n",
        "features = ['225309', '220045', '220210', '223762']\n",
        "target = 'diagnosis'\n",
        "test_output_path = 'test_resampled_data.csv'\n",
        "val_output_path = 'val_resampled_data.csv'\n",
        "\n",
        "ss.resample_test_val_data(input_path, test_size, random_state, features, target, test_output_path, val_output_path)"
      ],
      "metadata": {
        "id": "W4BRAiwqCoPA"
      },
      "id": "W4BRAiwqCoPA",
      "execution_count": null,
      "outputs": []
    },
    {
      "cell_type": "markdown",
      "source": [
        "Проверим, что в валидационном и тестовом наборах не дисбаланса классов"
      ],
      "metadata": {
        "id": "jbVLO57PeYR7"
      },
      "id": "jbVLO57PeYR7"
    },
    {
      "cell_type": "code",
      "source": [
        "df = pd.read_csv('/content/drive/MyDrive/Лаба ML/transformers/val_resampled_data_MEWS.csv')"
      ],
      "metadata": {
        "id": "cBR8ASZUeQDw"
      },
      "id": "cBR8ASZUeQDw",
      "execution_count": 9,
      "outputs": []
    },
    {
      "cell_type": "code",
      "source": [
        "print(sum(df['diagnosis'] == 0))\n",
        "print(sum(df['diagnosis'] == 1))"
      ],
      "metadata": {
        "colab": {
          "base_uri": "https://localhost:8080/"
        },
        "id": "O8IezN-geinN",
        "outputId": "171cc750-030f-4a2d-975b-bc7b07ff8a37"
      },
      "id": "O8IezN-geinN",
      "execution_count": 10,
      "outputs": [
        {
          "output_type": "stream",
          "name": "stdout",
          "text": [
            "9128\n",
            "9128\n"
          ]
        }
      ]
    },
    {
      "cell_type": "code",
      "source": [
        "df = pd.read_csv('/content/drive/MyDrive/Лаба ML/transformers/test_resampled_data_MEWS.csv')"
      ],
      "metadata": {
        "id": "GDVG7xEwekdb"
      },
      "id": "GDVG7xEwekdb",
      "execution_count": 11,
      "outputs": []
    },
    {
      "cell_type": "code",
      "source": [
        "print(sum(df['diagnosis'] == 0))\n",
        "print(sum(df['diagnosis'] == 1))"
      ],
      "metadata": {
        "colab": {
          "base_uri": "https://localhost:8080/"
        },
        "id": "w4x8x1fVemmj",
        "outputId": "d629325b-146e-4e32-ff51-6aefa4ed9ad9"
      },
      "id": "w4x8x1fVemmj",
      "execution_count": 12,
      "outputs": [
        {
          "output_type": "stream",
          "name": "stdout",
          "text": [
            "9065\n",
            "9065\n"
          ]
        }
      ]
    },
    {
      "cell_type": "markdown",
      "source": [
        "### Далее обучим модель с выбранными гиперпараметрами, сохраним важность признаков"
      ],
      "metadata": {
        "id": "DvznalgSevNw"
      },
      "id": "DvznalgSevNw"
    },
    {
      "cell_type": "code",
      "source": [
        "train_path = '/content/drive/MyDrive/Лаба ML/transformers/train_data_MEWS.csv'\n",
        "val_path = '/content/drive/MyDrive/Лаба ML/transformers/val_resampled_data_MEWS.csv'\n",
        "feature_importances_path = 'fimp.txt'\n",
        "model_save_path = './tabnet_model_test_1'\n",
        "optimizer_params = dict(lr=0.05)\n",
        "scheduler_params = {\n",
        "    \"milestones\": [10, 20, 30],\n",
        "    \"gamma\": 0.9\n",
        "}\n",
        "\n",
        "ss.train_tabnet_model(train_path, val_path, feature_importances_path, model_save_path, optimizer_params, scheduler_params, pretraining_lr=0.05, training_lr=0.05, mask_type='sparsemax', pretraining_ratio=1.0, max_epochs=200, patience=50)"
      ],
      "metadata": {
        "colab": {
          "base_uri": "https://localhost:8080/"
        },
        "id": "nzILP4IAeoLx",
        "outputId": "1448c12b-2560-4a55-c066-579008391e27"
      },
      "id": "nzILP4IAeoLx",
      "execution_count": 13,
      "outputs": [
        {
          "output_type": "stream",
          "name": "stderr",
          "text": [
            "/usr/local/lib/python3.10/dist-packages/pytorch_tabnet/abstract_model.py:82: UserWarning: Device used : cpu\n",
            "  warnings.warn(f\"Device used : {self.device}\")\n"
          ]
        },
        {
          "output_type": "stream",
          "name": "stdout",
          "text": [
            "epoch 0  | loss: 0.68239 | val_0_auc: 0.40872 |  0:00:03s\n",
            "epoch 1  | loss: 0.66268 | val_0_auc: 0.50621 |  0:00:06s\n",
            "epoch 2  | loss: 0.65959 | val_0_auc: 0.54198 |  0:00:09s\n",
            "epoch 3  | loss: 0.65933 | val_0_auc: 0.57445 |  0:00:11s\n",
            "epoch 4  | loss: 0.65824 | val_0_auc: 0.59443 |  0:00:14s\n",
            "epoch 5  | loss: 0.65685 | val_0_auc: 0.59336 |  0:00:19s\n",
            "epoch 6  | loss: 0.65488 | val_0_auc: 0.5931  |  0:00:22s\n",
            "epoch 7  | loss: 0.65557 | val_0_auc: 0.58179 |  0:00:24s\n",
            "epoch 8  | loss: 0.653   | val_0_auc: 0.59108 |  0:00:27s\n",
            "epoch 9  | loss: 0.65346 | val_0_auc: 0.58355 |  0:00:30s\n",
            "epoch 10 | loss: 0.65359 | val_0_auc: 0.58407 |  0:00:33s\n",
            "epoch 11 | loss: 0.6532  | val_0_auc: 0.5923  |  0:00:36s\n",
            "epoch 12 | loss: 0.65292 | val_0_auc: 0.59004 |  0:00:39s\n",
            "epoch 13 | loss: 0.65234 | val_0_auc: 0.58173 |  0:00:42s\n",
            "epoch 14 | loss: 0.65362 | val_0_auc: 0.58971 |  0:00:45s\n",
            "epoch 15 | loss: 0.65249 | val_0_auc: 0.59169 |  0:00:48s\n",
            "epoch 16 | loss: 0.65185 | val_0_auc: 0.5866  |  0:00:51s\n",
            "epoch 17 | loss: 0.65275 | val_0_auc: 0.5902  |  0:00:53s\n",
            "epoch 18 | loss: 0.65159 | val_0_auc: 0.59212 |  0:00:56s\n",
            "epoch 19 | loss: 0.65072 | val_0_auc: 0.58464 |  0:00:59s\n",
            "epoch 20 | loss: 0.65094 | val_0_auc: 0.58929 |  0:01:03s\n",
            "epoch 21 | loss: 0.65039 | val_0_auc: 0.5899  |  0:01:05s\n",
            "epoch 22 | loss: 0.65054 | val_0_auc: 0.58857 |  0:01:08s\n",
            "epoch 23 | loss: 0.65021 | val_0_auc: 0.58798 |  0:01:10s\n",
            "epoch 24 | loss: 0.65029 | val_0_auc: 0.59272 |  0:01:13s\n",
            "epoch 25 | loss: 0.6507  | val_0_auc: 0.58284 |  0:01:17s\n",
            "epoch 26 | loss: 0.65049 | val_0_auc: 0.58859 |  0:01:19s\n",
            "epoch 27 | loss: 0.65059 | val_0_auc: 0.57542 |  0:01:22s\n",
            "epoch 28 | loss: 0.65052 | val_0_auc: 0.59448 |  0:01:25s\n",
            "epoch 29 | loss: 0.65004 | val_0_auc: 0.58895 |  0:01:27s\n",
            "epoch 30 | loss: 0.64936 | val_0_auc: 0.59028 |  0:01:31s\n",
            "epoch 31 | loss: 0.64871 | val_0_auc: 0.57929 |  0:01:34s\n",
            "epoch 32 | loss: 0.65005 | val_0_auc: 0.58745 |  0:01:36s\n",
            "epoch 33 | loss: 0.65028 | val_0_auc: 0.59014 |  0:01:39s\n",
            "epoch 34 | loss: 0.65106 | val_0_auc: 0.58387 |  0:01:41s\n",
            "epoch 35 | loss: 0.64947 | val_0_auc: 0.58522 |  0:01:45s\n",
            "epoch 36 | loss: 0.65004 | val_0_auc: 0.58368 |  0:01:48s\n",
            "epoch 37 | loss: 0.64986 | val_0_auc: 0.59045 |  0:01:50s\n",
            "epoch 38 | loss: 0.65493 | val_0_auc: 0.587   |  0:01:53s\n",
            "epoch 39 | loss: 0.65596 | val_0_auc: 0.58543 |  0:01:56s\n",
            "epoch 40 | loss: 0.65232 | val_0_auc: 0.58081 |  0:01:59s\n",
            "epoch 41 | loss: 0.65157 | val_0_auc: 0.5878  |  0:02:02s\n",
            "epoch 42 | loss: 0.65033 | val_0_auc: 0.58369 |  0:02:05s\n",
            "epoch 43 | loss: 0.6502  | val_0_auc: 0.59122 |  0:02:07s\n",
            "epoch 44 | loss: 0.64984 | val_0_auc: 0.57402 |  0:02:10s\n",
            "epoch 45 | loss: 0.64924 | val_0_auc: 0.58935 |  0:02:13s\n",
            "epoch 46 | loss: 0.64999 | val_0_auc: 0.5828  |  0:02:16s\n",
            "epoch 47 | loss: 0.64989 | val_0_auc: 0.58658 |  0:02:19s\n",
            "epoch 48 | loss: 0.65008 | val_0_auc: 0.58718 |  0:02:22s\n",
            "epoch 49 | loss: 0.64818 | val_0_auc: 0.58805 |  0:02:25s\n",
            "epoch 50 | loss: 0.64983 | val_0_auc: 0.5928  |  0:02:30s\n",
            "epoch 51 | loss: 0.64947 | val_0_auc: 0.5797  |  0:02:33s\n",
            "epoch 52 | loss: 0.64997 | val_0_auc: 0.57756 |  0:02:36s\n",
            "epoch 53 | loss: 0.65017 | val_0_auc: 0.59274 |  0:02:38s\n",
            "epoch 54 | loss: 0.6491  | val_0_auc: 0.5895  |  0:02:41s\n",
            "epoch 55 | loss: 0.64933 | val_0_auc: 0.59016 |  0:02:44s\n",
            "epoch 56 | loss: 0.64906 | val_0_auc: 0.58243 |  0:02:48s\n",
            "epoch 57 | loss: 0.64921 | val_0_auc: 0.59155 |  0:02:50s\n",
            "epoch 58 | loss: 0.64988 | val_0_auc: 0.58703 |  0:02:53s\n",
            "epoch 59 | loss: 0.64941 | val_0_auc: 0.59365 |  0:02:55s\n",
            "epoch 60 | loss: 0.64985 | val_0_auc: 0.59152 |  0:02:58s\n",
            "epoch 61 | loss: 0.65089 | val_0_auc: 0.58277 |  0:03:02s\n",
            "epoch 62 | loss: 0.6492  | val_0_auc: 0.58332 |  0:03:04s\n",
            "epoch 63 | loss: 0.64859 | val_0_auc: 0.58927 |  0:03:07s\n",
            "epoch 64 | loss: 0.65049 | val_0_auc: 0.58463 |  0:03:10s\n",
            "epoch 65 | loss: 0.64962 | val_0_auc: 0.58883 |  0:03:12s\n",
            "epoch 66 | loss: 0.64951 | val_0_auc: 0.58997 |  0:03:16s\n",
            "epoch 67 | loss: 0.64871 | val_0_auc: 0.59399 |  0:03:19s\n",
            "epoch 68 | loss: 0.64936 | val_0_auc: 0.58249 |  0:03:21s\n",
            "epoch 69 | loss: 0.649   | val_0_auc: 0.58277 |  0:03:24s\n",
            "epoch 70 | loss: 0.64856 | val_0_auc: 0.58751 |  0:03:27s\n",
            "epoch 71 | loss: 0.64921 | val_0_auc: 0.59033 |  0:03:30s\n",
            "epoch 72 | loss: 0.64867 | val_0_auc: 0.58589 |  0:03:33s\n",
            "epoch 73 | loss: 0.64892 | val_0_auc: 0.58771 |  0:03:36s\n",
            "epoch 74 | loss: 0.64953 | val_0_auc: 0.58752 |  0:03:38s\n",
            "epoch 75 | loss: 0.64973 | val_0_auc: 0.58794 |  0:03:41s\n",
            "epoch 76 | loss: 0.64972 | val_0_auc: 0.59151 |  0:03:45s\n",
            "epoch 77 | loss: 0.651   | val_0_auc: 0.5845  |  0:03:47s\n",
            "epoch 78 | loss: 0.65016 | val_0_auc: 0.59004 |  0:03:50s\n",
            "\n",
            "Early stopping occurred at epoch 78 with best_epoch = 28 and best_val_0_auc = 0.59448\n"
          ]
        },
        {
          "output_type": "stream",
          "name": "stderr",
          "text": [
            "/usr/local/lib/python3.10/dist-packages/pytorch_tabnet/callbacks.py:172: UserWarning: Best weights from best epoch are automatically used!\n",
            "  warnings.warn(wrn_msg)\n"
          ]
        },
        {
          "output_type": "stream",
          "name": "stdout",
          "text": [
            "Successfully saved model at ./tabnet_model_test_1.zip\n"
          ]
        }
      ]
    },
    {
      "cell_type": "markdown",
      "source": [
        "### Посмотрим на важность признаков в трансформера"
      ],
      "metadata": {
        "id": "7dWYB2XWfdCS"
      },
      "id": "7dWYB2XWfdCS"
    },
    {
      "cell_type": "code",
      "source": [
        "file_path = '/content/fimp.txt'\n",
        "\n",
        "with open(file_path, 'r') as file:\n",
        "    content = file.read()\n",
        "    print(content)"
      ],
      "metadata": {
        "colab": {
          "base_uri": "https://localhost:8080/"
        },
        "id": "myW3us52fheq",
        "outputId": "b6130a0e-e9b6-49d2-dbf0-edeb90cd48ca"
      },
      "id": "myW3us52fheq",
      "execution_count": 14,
      "outputs": [
        {
          "output_type": "stream",
          "name": "stdout",
          "text": [
            "[0.23699013 0.32132814 0.26303686 0.17864487]\n"
          ]
        }
      ]
    },
    {
      "cell_type": "markdown",
      "source": [
        "Визуализируем важность признаков"
      ],
      "metadata": {
        "id": "1NS6MS7Cgpfd"
      },
      "id": "1NS6MS7Cgpfd"
    },
    {
      "cell_type": "code",
      "source": [
        "import matplotlib.pyplot as plt\n",
        "import seaborn as sns\n",
        "\n",
        "feature_importances = [0.23699013, 0.32132814, 0.26303686, 0.17864487]\n",
        "\n",
        "importance_df = pd.DataFrame({'Feature': ['SBP','HR','RR','temp'], 'Importance': feature_importances})\n",
        "importance_df = importance_df.sort_values(by='Importance', ascending=False)\n",
        "\n",
        "plt.figure(figsize=(5, 3))\n",
        "sns.barplot(data=importance_df, x='Importance', y='Feature')\n",
        "plt.title('Feature Importance')\n",
        "plt.xlabel('Importance')\n",
        "plt.ylabel('Feature')\n",
        "plt.show()"
      ],
      "metadata": {
        "colab": {
          "base_uri": "https://localhost:8080/",
          "height": 333
        },
        "id": "YmoOXwlIgn41",
        "outputId": "d763e613-58f3-4332-c9cc-f3e7f34b1f78"
      },
      "id": "YmoOXwlIgn41",
      "execution_count": 17,
      "outputs": [
        {
          "output_type": "display_data",
          "data": {
            "text/plain": [
              "<Figure size 500x300 with 1 Axes>"
            ],
            "image/png": "[encoded data removed]"
          },
          "metadata": {}
        }
      ]
    },
    {
      "cell_type": "markdown",
      "source": [
        "### Посмотрим метрики на тестовой выборке"
      ],
      "metadata": {
        "id": "to6zTwryg1rs"
      },
      "id": "to6zTwryg1rs"
    },
    {
      "cell_type": "code",
      "source": [
        "model_path = \"./tabnet_model_test_1.zip\"\n",
        "test_data_path = '/content/drive/MyDrive/Лаба ML/transformers/test_resampled_data_MEWS.csv'\n",
        "metrics_output_path = \"metrics.txt\"\n",
        "\n",
        "ss.evaluate_tabnet_model(model_path, test_data_path, metrics_output_path)"
      ],
      "metadata": {
        "colab": {
          "base_uri": "https://localhost:8080/"
        },
        "id": "dYggrl_2gvFo",
        "outputId": "4886b5ab-eb7c-49a1-e902-43153c92c12c"
      },
      "id": "dYggrl_2gvFo",
      "execution_count": 18,
      "outputs": [
        {
          "output_type": "stream",
          "name": "stderr",
          "text": [
            "/usr/local/lib/python3.10/dist-packages/pytorch_tabnet/abstract_model.py:82: UserWarning: Device used : cpu\n",
            "  warnings.warn(f\"Device used : {self.device}\")\n"
          ]
        }
      ]
    },
    {
      "cell_type": "code",
      "source": [
        "file_path = '/content/metrics.txt'\n",
        "\n",
        "with open(file_path, 'r') as file:\n",
        "    content = file.read()\n",
        "    print(content)"
      ],
      "metadata": {
        "colab": {
          "base_uri": "https://localhost:8080/"
        },
        "id": "2LMX-UB_hETT",
        "outputId": "eff3b4de-49ec-4f33-df00-6595617c3a57"
      },
      "id": "2LMX-UB_hETT",
      "execution_count": 20,
      "outputs": [
        {
          "output_type": "stream",
          "name": "stdout",
          "text": [
            "Accuracy: 0.5236072807501378\n",
            "Precision: 0.5132115075935301\n",
            "Recall: 0.9170435741864313\n",
            "F1-score: 0.6581166132288327\n",
            "\n"
          ]
        }
      ]
    },
    {
      "cell_type": "markdown",
      "source": [
        "### Предскажем, болен человек или нет"
      ],
      "metadata": {
        "id": "xzvxO_4RLSna"
      },
      "id": "xzvxO_4RLSna"
    },
    {
      "cell_type": "code",
      "source": [
        "!pip install pytorch_tabnet"
      ],
      "metadata": {
        "id": "-kX1IHWyGMuU"
      },
      "id": "-kX1IHWyGMuU",
      "execution_count": null,
      "outputs": []
    },
    {
      "cell_type": "code",
      "source": [
        "from pytorch_tabnet.tab_model import TabNetClassifier\n",
        "import numpy as np"
      ],
      "metadata": {
        "id": "fxbKr0fCGMAC"
      },
      "id": "fxbKr0fCGMAC",
      "execution_count": 22,
      "outputs": []
    },
    {
      "cell_type": "markdown",
      "source": [
        "Новый образец 1"
      ],
      "metadata": {
        "id": "-sCGP6U-LsLr"
      },
      "id": "-sCGP6U-LsLr"
    },
    {
      "cell_type": "code",
      "source": [
        "X_next = pd.DataFrame({\n",
        "    '225309' : [120.0],\n",
        "    '220045' : [99.0],\n",
        "    '220210' : [20.0],\n",
        "    '223762' : [36.8]\n",
        "})\n",
        "\n",
        "loaded_clf = TabNetClassifier()\n",
        "loaded_clf.load_model(model_path)\n",
        "result = loaded_clf.predict(X_next.values)"
      ],
      "metadata": {
        "id": "-mF3koBiBDCu"
      },
      "id": "-mF3koBiBDCu",
      "execution_count": 25,
      "outputs": []
    },
    {
      "cell_type": "code",
      "source": [
        "diagnosis_message = \"Здоров\" if result[0] == 0 else \"Болен\"\n",
        "print(f\"Диагноз: {diagnosis_message}\")"
      ],
      "metadata": {
        "colab": {
          "base_uri": "https://localhost:8080/"
        },
        "id": "DWick9g2GDBb",
        "outputId": "94be2fe1-50cb-49c4-a296-78c90a54ebf5"
      },
      "id": "DWick9g2GDBb",
      "execution_count": 26,
      "outputs": [
        {
          "output_type": "stream",
          "name": "stdout",
          "text": [
            "Диагноз: Болен\n"
          ]
        }
      ]
    },
    {
      "cell_type": "markdown",
      "source": [
        "Новый образец 2"
      ],
      "metadata": {
        "id": "Tm5DbaKKLxIA"
      },
      "id": "Tm5DbaKKLxIA"
    },
    {
      "cell_type": "code",
      "source": [
        "X_next = pd.DataFrame({\n",
        "    '225309' : [np.nan],\n",
        "    '220045' : [70.0],\n",
        "    '220210' : [17.0],\n",
        "    '223762' : [np.nan]\n",
        "})\n",
        "\n",
        "loaded_clf = TabNetClassifier()\n",
        "loaded_clf.load_model(model_path)\n",
        "\n",
        "X_next_filled = X_next.fillna(-100000)\n",
        "\n",
        "result = loaded_clf.predict(X_next_filled.values)"
      ],
      "metadata": {
        "id": "gS0ePoSnGrqa"
      },
      "id": "gS0ePoSnGrqa",
      "execution_count": 91,
      "outputs": []
    },
    {
      "cell_type": "code",
      "source": [
        "diagnosis_message = \"Здоров\" if result[0] == 0 else \"Болен\"\n",
        "print(f\"Диагноз: {diagnosis_message}\")"
      ],
      "metadata": {
        "colab": {
          "base_uri": "https://localhost:8080/"
        },
        "id": "OdgVTlYsGscG",
        "outputId": "d3dfae56-e21c-47ed-ac02-3c4ca51c5af2"
      },
      "id": "OdgVTlYsGscG",
      "execution_count": 92,
      "outputs": [
        {
          "output_type": "stream",
          "name": "stdout",
          "text": [
            "Диагноз: Здоров\n"
          ]
        }
      ]
    }
  ],
  "metadata": {
    "kernelspec": {
      "display_name": "Python 3",
      "language": "python",
      "name": "python3"
    },
    "language_info": {
      "codemirror_mode": {
        "name": "ipython",
        "version": 2
      },
      "file_extension": ".py",
      "mimetype": "text/x-python",
      "name": "python",
      "nbconvert_exporter": "python",
      "pygments_lexer": "ipython2",
      "version": "2.7.6"
    },
    "colab": {
      "provenance": []
    }
  },
  "nbformat": 4,
  "nbformat_minor": 5
}